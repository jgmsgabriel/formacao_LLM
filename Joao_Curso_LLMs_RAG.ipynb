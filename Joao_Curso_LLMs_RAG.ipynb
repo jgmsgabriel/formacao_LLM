{
  "nbformat": 4,
  "nbformat_minor": 0,
  "metadata": {
    "colab": {
      "provenance": [],
      "gpuType": "T4",
      "authorship_tag": "ABX9TyO4bYNkK7h3EK6qa9l4dzFT",
      "include_colab_link": true
    },
    "kernelspec": {
      "name": "python3",
      "display_name": "Python 3"
    },
    "language_info": {
      "name": "python"
    },
    "accelerator": "GPU",
    "widgets": {
      "application/vnd.jupyter.widget-state+json": {
        "077a7560a9154376ac72f4518229c3b9": {
          "model_module": "@jupyter-widgets/controls",
          "model_name": "HBoxModel",
          "model_module_version": "1.5.0",
          "state": {
            "_dom_classes": [],
            "_model_module": "@jupyter-widgets/controls",
            "_model_module_version": "1.5.0",
            "_model_name": "HBoxModel",
            "_view_count": null,
            "_view_module": "@jupyter-widgets/controls",
            "_view_module_version": "1.5.0",
            "_view_name": "HBoxView",
            "box_style": "",
            "children": [
              "IPY_MODEL_71a5a73b2bb9475baf78ab47de4b9f69",
              "IPY_MODEL_3eccb20875344ae69fa471155e3971a6",
              "IPY_MODEL_d176f7acc1994364b24c2fdae007b4fa"
            ],
            "layout": "IPY_MODEL_7f28bf8004754e3489e14819dafe6b58"
          }
        },
        "71a5a73b2bb9475baf78ab47de4b9f69": {
          "model_module": "@jupyter-widgets/controls",
          "model_name": "HTMLModel",
          "model_module_version": "1.5.0",
          "state": {
            "_dom_classes": [],
            "_model_module": "@jupyter-widgets/controls",
            "_model_module_version": "1.5.0",
            "_model_name": "HTMLModel",
            "_view_count": null,
            "_view_module": "@jupyter-widgets/controls",
            "_view_module_version": "1.5.0",
            "_view_name": "HTMLView",
            "description": "",
            "description_tooltip": null,
            "layout": "IPY_MODEL_e38b7d0a0b77465ca9caabee67c60d87",
            "placeholder": "​",
            "style": "IPY_MODEL_6f17bfa703cb49b3ae1c94c644e63c66",
            "value": "config.json: 100%"
          }
        },
        "3eccb20875344ae69fa471155e3971a6": {
          "model_module": "@jupyter-widgets/controls",
          "model_name": "FloatProgressModel",
          "model_module_version": "1.5.0",
          "state": {
            "_dom_classes": [],
            "_model_module": "@jupyter-widgets/controls",
            "_model_module_version": "1.5.0",
            "_model_name": "FloatProgressModel",
            "_view_count": null,
            "_view_module": "@jupyter-widgets/controls",
            "_view_module_version": "1.5.0",
            "_view_name": "ProgressView",
            "bar_style": "success",
            "description": "",
            "description_tooltip": null,
            "layout": "IPY_MODEL_ede7a8aa003a404c9374785a9daaf8fe",
            "max": 654,
            "min": 0,
            "orientation": "horizontal",
            "style": "IPY_MODEL_57c6040c0f3a41029ab46c2d107597b2",
            "value": 654
          }
        },
        "d176f7acc1994364b24c2fdae007b4fa": {
          "model_module": "@jupyter-widgets/controls",
          "model_name": "HTMLModel",
          "model_module_version": "1.5.0",
          "state": {
            "_dom_classes": [],
            "_model_module": "@jupyter-widgets/controls",
            "_model_module_version": "1.5.0",
            "_model_name": "HTMLModel",
            "_view_count": null,
            "_view_module": "@jupyter-widgets/controls",
            "_view_module_version": "1.5.0",
            "_view_name": "HTMLView",
            "description": "",
            "description_tooltip": null,
            "layout": "IPY_MODEL_d7af64fe6eac4c72869489053750ce81",
            "placeholder": "​",
            "style": "IPY_MODEL_80f1756a61f84373a03131b24cf68c70",
            "value": " 654/654 [00:00&lt;00:00, 15.2kB/s]"
          }
        },
        "7f28bf8004754e3489e14819dafe6b58": {
          "model_module": "@jupyter-widgets/base",
          "model_name": "LayoutModel",
          "model_module_version": "1.2.0",
          "state": {
            "_model_module": "@jupyter-widgets/base",
            "_model_module_version": "1.2.0",
            "_model_name": "LayoutModel",
            "_view_count": null,
            "_view_module": "@jupyter-widgets/base",
            "_view_module_version": "1.2.0",
            "_view_name": "LayoutView",
            "align_content": null,
            "align_items": null,
            "align_self": null,
            "border": null,
            "bottom": null,
            "display": null,
            "flex": null,
            "flex_flow": null,
            "grid_area": null,
            "grid_auto_columns": null,
            "grid_auto_flow": null,
            "grid_auto_rows": null,
            "grid_column": null,
            "grid_gap": null,
            "grid_row": null,
            "grid_template_areas": null,
            "grid_template_columns": null,
            "grid_template_rows": null,
            "height": null,
            "justify_content": null,
            "justify_items": null,
            "left": null,
            "margin": null,
            "max_height": null,
            "max_width": null,
            "min_height": null,
            "min_width": null,
            "object_fit": null,
            "object_position": null,
            "order": null,
            "overflow": null,
            "overflow_x": null,
            "overflow_y": null,
            "padding": null,
            "right": null,
            "top": null,
            "visibility": null,
            "width": null
          }
        },
        "e38b7d0a0b77465ca9caabee67c60d87": {
          "model_module": "@jupyter-widgets/base",
          "model_name": "LayoutModel",
          "model_module_version": "1.2.0",
          "state": {
            "_model_module": "@jupyter-widgets/base",
            "_model_module_version": "1.2.0",
            "_model_name": "LayoutModel",
            "_view_count": null,
            "_view_module": "@jupyter-widgets/base",
            "_view_module_version": "1.2.0",
            "_view_name": "LayoutView",
            "align_content": null,
            "align_items": null,
            "align_self": null,
            "border": null,
            "bottom": null,
            "display": null,
            "flex": null,
            "flex_flow": null,
            "grid_area": null,
            "grid_auto_columns": null,
            "grid_auto_flow": null,
            "grid_auto_rows": null,
            "grid_column": null,
            "grid_gap": null,
            "grid_row": null,
            "grid_template_areas": null,
            "grid_template_columns": null,
            "grid_template_rows": null,
            "height": null,
            "justify_content": null,
            "justify_items": null,
            "left": null,
            "margin": null,
            "max_height": null,
            "max_width": null,
            "min_height": null,
            "min_width": null,
            "object_fit": null,
            "object_position": null,
            "order": null,
            "overflow": null,
            "overflow_x": null,
            "overflow_y": null,
            "padding": null,
            "right": null,
            "top": null,
            "visibility": null,
            "width": null
          }
        },
        "6f17bfa703cb49b3ae1c94c644e63c66": {
          "model_module": "@jupyter-widgets/controls",
          "model_name": "DescriptionStyleModel",
          "model_module_version": "1.5.0",
          "state": {
            "_model_module": "@jupyter-widgets/controls",
            "_model_module_version": "1.5.0",
            "_model_name": "DescriptionStyleModel",
            "_view_count": null,
            "_view_module": "@jupyter-widgets/base",
            "_view_module_version": "1.2.0",
            "_view_name": "StyleView",
            "description_width": ""
          }
        },
        "ede7a8aa003a404c9374785a9daaf8fe": {
          "model_module": "@jupyter-widgets/base",
          "model_name": "LayoutModel",
          "model_module_version": "1.2.0",
          "state": {
            "_model_module": "@jupyter-widgets/base",
            "_model_module_version": "1.2.0",
            "_model_name": "LayoutModel",
            "_view_count": null,
            "_view_module": "@jupyter-widgets/base",
            "_view_module_version": "1.2.0",
            "_view_name": "LayoutView",
            "align_content": null,
            "align_items": null,
            "align_self": null,
            "border": null,
            "bottom": null,
            "display": null,
            "flex": null,
            "flex_flow": null,
            "grid_area": null,
            "grid_auto_columns": null,
            "grid_auto_flow": null,
            "grid_auto_rows": null,
            "grid_column": null,
            "grid_gap": null,
            "grid_row": null,
            "grid_template_areas": null,
            "grid_template_columns": null,
            "grid_template_rows": null,
            "height": null,
            "justify_content": null,
            "justify_items": null,
            "left": null,
            "margin": null,
            "max_height": null,
            "max_width": null,
            "min_height": null,
            "min_width": null,
            "object_fit": null,
            "object_position": null,
            "order": null,
            "overflow": null,
            "overflow_x": null,
            "overflow_y": null,
            "padding": null,
            "right": null,
            "top": null,
            "visibility": null,
            "width": null
          }
        },
        "57c6040c0f3a41029ab46c2d107597b2": {
          "model_module": "@jupyter-widgets/controls",
          "model_name": "ProgressStyleModel",
          "model_module_version": "1.5.0",
          "state": {
            "_model_module": "@jupyter-widgets/controls",
            "_model_module_version": "1.5.0",
            "_model_name": "ProgressStyleModel",
            "_view_count": null,
            "_view_module": "@jupyter-widgets/base",
            "_view_module_version": "1.2.0",
            "_view_name": "StyleView",
            "bar_color": null,
            "description_width": ""
          }
        },
        "d7af64fe6eac4c72869489053750ce81": {
          "model_module": "@jupyter-widgets/base",
          "model_name": "LayoutModel",
          "model_module_version": "1.2.0",
          "state": {
            "_model_module": "@jupyter-widgets/base",
            "_model_module_version": "1.2.0",
            "_model_name": "LayoutModel",
            "_view_count": null,
            "_view_module": "@jupyter-widgets/base",
            "_view_module_version": "1.2.0",
            "_view_name": "LayoutView",
            "align_content": null,
            "align_items": null,
            "align_self": null,
            "border": null,
            "bottom": null,
            "display": null,
            "flex": null,
            "flex_flow": null,
            "grid_area": null,
            "grid_auto_columns": null,
            "grid_auto_flow": null,
            "grid_auto_rows": null,
            "grid_column": null,
            "grid_gap": null,
            "grid_row": null,
            "grid_template_areas": null,
            "grid_template_columns": null,
            "grid_template_rows": null,
            "height": null,
            "justify_content": null,
            "justify_items": null,
            "left": null,
            "margin": null,
            "max_height": null,
            "max_width": null,
            "min_height": null,
            "min_width": null,
            "object_fit": null,
            "object_position": null,
            "order": null,
            "overflow": null,
            "overflow_x": null,
            "overflow_y": null,
            "padding": null,
            "right": null,
            "top": null,
            "visibility": null,
            "width": null
          }
        },
        "80f1756a61f84373a03131b24cf68c70": {
          "model_module": "@jupyter-widgets/controls",
          "model_name": "DescriptionStyleModel",
          "model_module_version": "1.5.0",
          "state": {
            "_model_module": "@jupyter-widgets/controls",
            "_model_module_version": "1.5.0",
            "_model_name": "DescriptionStyleModel",
            "_view_count": null,
            "_view_module": "@jupyter-widgets/base",
            "_view_module_version": "1.2.0",
            "_view_name": "StyleView",
            "description_width": ""
          }
        },
        "d0a67557bef94f60876c63a077c80387": {
          "model_module": "@jupyter-widgets/controls",
          "model_name": "HBoxModel",
          "model_module_version": "1.5.0",
          "state": {
            "_dom_classes": [],
            "_model_module": "@jupyter-widgets/controls",
            "_model_module_version": "1.5.0",
            "_model_name": "HBoxModel",
            "_view_count": null,
            "_view_module": "@jupyter-widgets/controls",
            "_view_module_version": "1.5.0",
            "_view_name": "HBoxView",
            "box_style": "",
            "children": [
              "IPY_MODEL_4da91c8b54c84587a69c065e3ced6b74",
              "IPY_MODEL_5d10c5ddb963401eb2c2fea758e2528d",
              "IPY_MODEL_77f8d49c243644e28415e7746e628157"
            ],
            "layout": "IPY_MODEL_d36a4d2381a94d61aaa3ce52ff593c5b"
          }
        },
        "4da91c8b54c84587a69c065e3ced6b74": {
          "model_module": "@jupyter-widgets/controls",
          "model_name": "HTMLModel",
          "model_module_version": "1.5.0",
          "state": {
            "_dom_classes": [],
            "_model_module": "@jupyter-widgets/controls",
            "_model_module_version": "1.5.0",
            "_model_name": "HTMLModel",
            "_view_count": null,
            "_view_module": "@jupyter-widgets/controls",
            "_view_module_version": "1.5.0",
            "_view_name": "HTMLView",
            "description": "",
            "description_tooltip": null,
            "layout": "IPY_MODEL_3a2767d5c786419b8ea0074ac58b37f9",
            "placeholder": "​",
            "style": "IPY_MODEL_9a9b42e9a9d94e68881cd2bf18268ae2",
            "value": "model.safetensors.index.json: 100%"
          }
        },
        "5d10c5ddb963401eb2c2fea758e2528d": {
          "model_module": "@jupyter-widgets/controls",
          "model_name": "FloatProgressModel",
          "model_module_version": "1.5.0",
          "state": {
            "_dom_classes": [],
            "_model_module": "@jupyter-widgets/controls",
            "_model_module_version": "1.5.0",
            "_model_name": "FloatProgressModel",
            "_view_count": null,
            "_view_module": "@jupyter-widgets/controls",
            "_view_module_version": "1.5.0",
            "_view_name": "ProgressView",
            "bar_style": "success",
            "description": "",
            "description_tooltip": null,
            "layout": "IPY_MODEL_5eb3108baa4840e7968e1588ae13eed8",
            "max": 23950,
            "min": 0,
            "orientation": "horizontal",
            "style": "IPY_MODEL_2676d11e34594a6fb838f380311cd752",
            "value": 23950
          }
        },
        "77f8d49c243644e28415e7746e628157": {
          "model_module": "@jupyter-widgets/controls",
          "model_name": "HTMLModel",
          "model_module_version": "1.5.0",
          "state": {
            "_dom_classes": [],
            "_model_module": "@jupyter-widgets/controls",
            "_model_module_version": "1.5.0",
            "_model_name": "HTMLModel",
            "_view_count": null,
            "_view_module": "@jupyter-widgets/controls",
            "_view_module_version": "1.5.0",
            "_view_name": "HTMLView",
            "description": "",
            "description_tooltip": null,
            "layout": "IPY_MODEL_84a4a610cedd4a7593aec49528354934",
            "placeholder": "​",
            "style": "IPY_MODEL_c27bfcd3b5784a27a8104d85aac7a0fb",
            "value": " 23.9k/23.9k [00:00&lt;00:00, 394kB/s]"
          }
        },
        "d36a4d2381a94d61aaa3ce52ff593c5b": {
          "model_module": "@jupyter-widgets/base",
          "model_name": "LayoutModel",
          "model_module_version": "1.2.0",
          "state": {
            "_model_module": "@jupyter-widgets/base",
            "_model_module_version": "1.2.0",
            "_model_name": "LayoutModel",
            "_view_count": null,
            "_view_module": "@jupyter-widgets/base",
            "_view_module_version": "1.2.0",
            "_view_name": "LayoutView",
            "align_content": null,
            "align_items": null,
            "align_self": null,
            "border": null,
            "bottom": null,
            "display": null,
            "flex": null,
            "flex_flow": null,
            "grid_area": null,
            "grid_auto_columns": null,
            "grid_auto_flow": null,
            "grid_auto_rows": null,
            "grid_column": null,
            "grid_gap": null,
            "grid_row": null,
            "grid_template_areas": null,
            "grid_template_columns": null,
            "grid_template_rows": null,
            "height": null,
            "justify_content": null,
            "justify_items": null,
            "left": null,
            "margin": null,
            "max_height": null,
            "max_width": null,
            "min_height": null,
            "min_width": null,
            "object_fit": null,
            "object_position": null,
            "order": null,
            "overflow": null,
            "overflow_x": null,
            "overflow_y": null,
            "padding": null,
            "right": null,
            "top": null,
            "visibility": null,
            "width": null
          }
        },
        "3a2767d5c786419b8ea0074ac58b37f9": {
          "model_module": "@jupyter-widgets/base",
          "model_name": "LayoutModel",
          "model_module_version": "1.2.0",
          "state": {
            "_model_module": "@jupyter-widgets/base",
            "_model_module_version": "1.2.0",
            "_model_name": "LayoutModel",
            "_view_count": null,
            "_view_module": "@jupyter-widgets/base",
            "_view_module_version": "1.2.0",
            "_view_name": "LayoutView",
            "align_content": null,
            "align_items": null,
            "align_self": null,
            "border": null,
            "bottom": null,
            "display": null,
            "flex": null,
            "flex_flow": null,
            "grid_area": null,
            "grid_auto_columns": null,
            "grid_auto_flow": null,
            "grid_auto_rows": null,
            "grid_column": null,
            "grid_gap": null,
            "grid_row": null,
            "grid_template_areas": null,
            "grid_template_columns": null,
            "grid_template_rows": null,
            "height": null,
            "justify_content": null,
            "justify_items": null,
            "left": null,
            "margin": null,
            "max_height": null,
            "max_width": null,
            "min_height": null,
            "min_width": null,
            "object_fit": null,
            "object_position": null,
            "order": null,
            "overflow": null,
            "overflow_x": null,
            "overflow_y": null,
            "padding": null,
            "right": null,
            "top": null,
            "visibility": null,
            "width": null
          }
        },
        "9a9b42e9a9d94e68881cd2bf18268ae2": {
          "model_module": "@jupyter-widgets/controls",
          "model_name": "DescriptionStyleModel",
          "model_module_version": "1.5.0",
          "state": {
            "_model_module": "@jupyter-widgets/controls",
            "_model_module_version": "1.5.0",
            "_model_name": "DescriptionStyleModel",
            "_view_count": null,
            "_view_module": "@jupyter-widgets/base",
            "_view_module_version": "1.2.0",
            "_view_name": "StyleView",
            "description_width": ""
          }
        },
        "5eb3108baa4840e7968e1588ae13eed8": {
          "model_module": "@jupyter-widgets/base",
          "model_name": "LayoutModel",
          "model_module_version": "1.2.0",
          "state": {
            "_model_module": "@jupyter-widgets/base",
            "_model_module_version": "1.2.0",
            "_model_name": "LayoutModel",
            "_view_count": null,
            "_view_module": "@jupyter-widgets/base",
            "_view_module_version": "1.2.0",
            "_view_name": "LayoutView",
            "align_content": null,
            "align_items": null,
            "align_self": null,
            "border": null,
            "bottom": null,
            "display": null,
            "flex": null,
            "flex_flow": null,
            "grid_area": null,
            "grid_auto_columns": null,
            "grid_auto_flow": null,
            "grid_auto_rows": null,
            "grid_column": null,
            "grid_gap": null,
            "grid_row": null,
            "grid_template_areas": null,
            "grid_template_columns": null,
            "grid_template_rows": null,
            "height": null,
            "justify_content": null,
            "justify_items": null,
            "left": null,
            "margin": null,
            "max_height": null,
            "max_width": null,
            "min_height": null,
            "min_width": null,
            "object_fit": null,
            "object_position": null,
            "order": null,
            "overflow": null,
            "overflow_x": null,
            "overflow_y": null,
            "padding": null,
            "right": null,
            "top": null,
            "visibility": null,
            "width": null
          }
        },
        "2676d11e34594a6fb838f380311cd752": {
          "model_module": "@jupyter-widgets/controls",
          "model_name": "ProgressStyleModel",
          "model_module_version": "1.5.0",
          "state": {
            "_model_module": "@jupyter-widgets/controls",
            "_model_module_version": "1.5.0",
            "_model_name": "ProgressStyleModel",
            "_view_count": null,
            "_view_module": "@jupyter-widgets/base",
            "_view_module_version": "1.2.0",
            "_view_name": "StyleView",
            "bar_color": null,
            "description_width": ""
          }
        },
        "84a4a610cedd4a7593aec49528354934": {
          "model_module": "@jupyter-widgets/base",
          "model_name": "LayoutModel",
          "model_module_version": "1.2.0",
          "state": {
            "_model_module": "@jupyter-widgets/base",
            "_model_module_version": "1.2.0",
            "_model_name": "LayoutModel",
            "_view_count": null,
            "_view_module": "@jupyter-widgets/base",
            "_view_module_version": "1.2.0",
            "_view_name": "LayoutView",
            "align_content": null,
            "align_items": null,
            "align_self": null,
            "border": null,
            "bottom": null,
            "display": null,
            "flex": null,
            "flex_flow": null,
            "grid_area": null,
            "grid_auto_columns": null,
            "grid_auto_flow": null,
            "grid_auto_rows": null,
            "grid_column": null,
            "grid_gap": null,
            "grid_row": null,
            "grid_template_areas": null,
            "grid_template_columns": null,
            "grid_template_rows": null,
            "height": null,
            "justify_content": null,
            "justify_items": null,
            "left": null,
            "margin": null,
            "max_height": null,
            "max_width": null,
            "min_height": null,
            "min_width": null,
            "object_fit": null,
            "object_position": null,
            "order": null,
            "overflow": null,
            "overflow_x": null,
            "overflow_y": null,
            "padding": null,
            "right": null,
            "top": null,
            "visibility": null,
            "width": null
          }
        },
        "c27bfcd3b5784a27a8104d85aac7a0fb": {
          "model_module": "@jupyter-widgets/controls",
          "model_name": "DescriptionStyleModel",
          "model_module_version": "1.5.0",
          "state": {
            "_model_module": "@jupyter-widgets/controls",
            "_model_module_version": "1.5.0",
            "_model_name": "DescriptionStyleModel",
            "_view_count": null,
            "_view_module": "@jupyter-widgets/base",
            "_view_module_version": "1.2.0",
            "_view_name": "StyleView",
            "description_width": ""
          }
        },
        "70b893e48cba4cd4b358e88c7c865480": {
          "model_module": "@jupyter-widgets/controls",
          "model_name": "HBoxModel",
          "model_module_version": "1.5.0",
          "state": {
            "_dom_classes": [],
            "_model_module": "@jupyter-widgets/controls",
            "_model_module_version": "1.5.0",
            "_model_name": "HBoxModel",
            "_view_count": null,
            "_view_module": "@jupyter-widgets/controls",
            "_view_module_version": "1.5.0",
            "_view_name": "HBoxView",
            "box_style": "",
            "children": [
              "IPY_MODEL_69168ade9af844caa49fedc555c2606c",
              "IPY_MODEL_20c389d7fcfa496c87372d6933ac0b93",
              "IPY_MODEL_42188cce312d4009a0a6e055efb8e197"
            ],
            "layout": "IPY_MODEL_3d9dbb14f12d4d98ac77827b2de84bcc"
          }
        },
        "69168ade9af844caa49fedc555c2606c": {
          "model_module": "@jupyter-widgets/controls",
          "model_name": "HTMLModel",
          "model_module_version": "1.5.0",
          "state": {
            "_dom_classes": [],
            "_model_module": "@jupyter-widgets/controls",
            "_model_module_version": "1.5.0",
            "_model_name": "HTMLModel",
            "_view_count": null,
            "_view_module": "@jupyter-widgets/controls",
            "_view_module_version": "1.5.0",
            "_view_name": "HTMLView",
            "description": "",
            "description_tooltip": null,
            "layout": "IPY_MODEL_7cdc9d5100c242269b11d87432c16870",
            "placeholder": "​",
            "style": "IPY_MODEL_5b8367ef05134a52a3c7316f3c4d0b00",
            "value": "Downloading shards: 100%"
          }
        },
        "20c389d7fcfa496c87372d6933ac0b93": {
          "model_module": "@jupyter-widgets/controls",
          "model_name": "FloatProgressModel",
          "model_module_version": "1.5.0",
          "state": {
            "_dom_classes": [],
            "_model_module": "@jupyter-widgets/controls",
            "_model_module_version": "1.5.0",
            "_model_name": "FloatProgressModel",
            "_view_count": null,
            "_view_module": "@jupyter-widgets/controls",
            "_view_module_version": "1.5.0",
            "_view_name": "ProgressView",
            "bar_style": "success",
            "description": "",
            "description_tooltip": null,
            "layout": "IPY_MODEL_a3f6d688d417490d945135431f52ef8a",
            "max": 4,
            "min": 0,
            "orientation": "horizontal",
            "style": "IPY_MODEL_4537055221414121835563bd206e4c5d",
            "value": 4
          }
        },
        "42188cce312d4009a0a6e055efb8e197": {
          "model_module": "@jupyter-widgets/controls",
          "model_name": "HTMLModel",
          "model_module_version": "1.5.0",
          "state": {
            "_dom_classes": [],
            "_model_module": "@jupyter-widgets/controls",
            "_model_module_version": "1.5.0",
            "_model_name": "HTMLModel",
            "_view_count": null,
            "_view_module": "@jupyter-widgets/controls",
            "_view_module_version": "1.5.0",
            "_view_name": "HTMLView",
            "description": "",
            "description_tooltip": null,
            "layout": "IPY_MODEL_91569f0564874446a7deca2285123402",
            "placeholder": "​",
            "style": "IPY_MODEL_675dd19c309f49fa8a2376d60708e9d7",
            "value": " 4/4 [06:22&lt;00:00, 82.37s/it]"
          }
        },
        "3d9dbb14f12d4d98ac77827b2de84bcc": {
          "model_module": "@jupyter-widgets/base",
          "model_name": "LayoutModel",
          "model_module_version": "1.2.0",
          "state": {
            "_model_module": "@jupyter-widgets/base",
            "_model_module_version": "1.2.0",
            "_model_name": "LayoutModel",
            "_view_count": null,
            "_view_module": "@jupyter-widgets/base",
            "_view_module_version": "1.2.0",
            "_view_name": "LayoutView",
            "align_content": null,
            "align_items": null,
            "align_self": null,
            "border": null,
            "bottom": null,
            "display": null,
            "flex": null,
            "flex_flow": null,
            "grid_area": null,
            "grid_auto_columns": null,
            "grid_auto_flow": null,
            "grid_auto_rows": null,
            "grid_column": null,
            "grid_gap": null,
            "grid_row": null,
            "grid_template_areas": null,
            "grid_template_columns": null,
            "grid_template_rows": null,
            "height": null,
            "justify_content": null,
            "justify_items": null,
            "left": null,
            "margin": null,
            "max_height": null,
            "max_width": null,
            "min_height": null,
            "min_width": null,
            "object_fit": null,
            "object_position": null,
            "order": null,
            "overflow": null,
            "overflow_x": null,
            "overflow_y": null,
            "padding": null,
            "right": null,
            "top": null,
            "visibility": null,
            "width": null
          }
        },
        "7cdc9d5100c242269b11d87432c16870": {
          "model_module": "@jupyter-widgets/base",
          "model_name": "LayoutModel",
          "model_module_version": "1.2.0",
          "state": {
            "_model_module": "@jupyter-widgets/base",
            "_model_module_version": "1.2.0",
            "_model_name": "LayoutModel",
            "_view_count": null,
            "_view_module": "@jupyter-widgets/base",
            "_view_module_version": "1.2.0",
            "_view_name": "LayoutView",
            "align_content": null,
            "align_items": null,
            "align_self": null,
            "border": null,
            "bottom": null,
            "display": null,
            "flex": null,
            "flex_flow": null,
            "grid_area": null,
            "grid_auto_columns": null,
            "grid_auto_flow": null,
            "grid_auto_rows": null,
            "grid_column": null,
            "grid_gap": null,
            "grid_row": null,
            "grid_template_areas": null,
            "grid_template_columns": null,
            "grid_template_rows": null,
            "height": null,
            "justify_content": null,
            "justify_items": null,
            "left": null,
            "margin": null,
            "max_height": null,
            "max_width": null,
            "min_height": null,
            "min_width": null,
            "object_fit": null,
            "object_position": null,
            "order": null,
            "overflow": null,
            "overflow_x": null,
            "overflow_y": null,
            "padding": null,
            "right": null,
            "top": null,
            "visibility": null,
            "width": null
          }
        },
        "5b8367ef05134a52a3c7316f3c4d0b00": {
          "model_module": "@jupyter-widgets/controls",
          "model_name": "DescriptionStyleModel",
          "model_module_version": "1.5.0",
          "state": {
            "_model_module": "@jupyter-widgets/controls",
            "_model_module_version": "1.5.0",
            "_model_name": "DescriptionStyleModel",
            "_view_count": null,
            "_view_module": "@jupyter-widgets/base",
            "_view_module_version": "1.2.0",
            "_view_name": "StyleView",
            "description_width": ""
          }
        },
        "a3f6d688d417490d945135431f52ef8a": {
          "model_module": "@jupyter-widgets/base",
          "model_name": "LayoutModel",
          "model_module_version": "1.2.0",
          "state": {
            "_model_module": "@jupyter-widgets/base",
            "_model_module_version": "1.2.0",
            "_model_name": "LayoutModel",
            "_view_count": null,
            "_view_module": "@jupyter-widgets/base",
            "_view_module_version": "1.2.0",
            "_view_name": "LayoutView",
            "align_content": null,
            "align_items": null,
            "align_self": null,
            "border": null,
            "bottom": null,
            "display": null,
            "flex": null,
            "flex_flow": null,
            "grid_area": null,
            "grid_auto_columns": null,
            "grid_auto_flow": null,
            "grid_auto_rows": null,
            "grid_column": null,
            "grid_gap": null,
            "grid_row": null,
            "grid_template_areas": null,
            "grid_template_columns": null,
            "grid_template_rows": null,
            "height": null,
            "justify_content": null,
            "justify_items": null,
            "left": null,
            "margin": null,
            "max_height": null,
            "max_width": null,
            "min_height": null,
            "min_width": null,
            "object_fit": null,
            "object_position": null,
            "order": null,
            "overflow": null,
            "overflow_x": null,
            "overflow_y": null,
            "padding": null,
            "right": null,
            "top": null,
            "visibility": null,
            "width": null
          }
        },
        "4537055221414121835563bd206e4c5d": {
          "model_module": "@jupyter-widgets/controls",
          "model_name": "ProgressStyleModel",
          "model_module_version": "1.5.0",
          "state": {
            "_model_module": "@jupyter-widgets/controls",
            "_model_module_version": "1.5.0",
            "_model_name": "ProgressStyleModel",
            "_view_count": null,
            "_view_module": "@jupyter-widgets/base",
            "_view_module_version": "1.2.0",
            "_view_name": "StyleView",
            "bar_color": null,
            "description_width": ""
          }
        },
        "91569f0564874446a7deca2285123402": {
          "model_module": "@jupyter-widgets/base",
          "model_name": "LayoutModel",
          "model_module_version": "1.2.0",
          "state": {
            "_model_module": "@jupyter-widgets/base",
            "_model_module_version": "1.2.0",
            "_model_name": "LayoutModel",
            "_view_count": null,
            "_view_module": "@jupyter-widgets/base",
            "_view_module_version": "1.2.0",
            "_view_name": "LayoutView",
            "align_content": null,
            "align_items": null,
            "align_self": null,
            "border": null,
            "bottom": null,
            "display": null,
            "flex": null,
            "flex_flow": null,
            "grid_area": null,
            "grid_auto_columns": null,
            "grid_auto_flow": null,
            "grid_auto_rows": null,
            "grid_column": null,
            "grid_gap": null,
            "grid_row": null,
            "grid_template_areas": null,
            "grid_template_columns": null,
            "grid_template_rows": null,
            "height": null,
            "justify_content": null,
            "justify_items": null,
            "left": null,
            "margin": null,
            "max_height": null,
            "max_width": null,
            "min_height": null,
            "min_width": null,
            "object_fit": null,
            "object_position": null,
            "order": null,
            "overflow": null,
            "overflow_x": null,
            "overflow_y": null,
            "padding": null,
            "right": null,
            "top": null,
            "visibility": null,
            "width": null
          }
        },
        "675dd19c309f49fa8a2376d60708e9d7": {
          "model_module": "@jupyter-widgets/controls",
          "model_name": "DescriptionStyleModel",
          "model_module_version": "1.5.0",
          "state": {
            "_model_module": "@jupyter-widgets/controls",
            "_model_module_version": "1.5.0",
            "_model_name": "DescriptionStyleModel",
            "_view_count": null,
            "_view_module": "@jupyter-widgets/base",
            "_view_module_version": "1.2.0",
            "_view_name": "StyleView",
            "description_width": ""
          }
        },
        "80be4f8e1f70405cbaf32c32f00bc4c8": {
          "model_module": "@jupyter-widgets/controls",
          "model_name": "HBoxModel",
          "model_module_version": "1.5.0",
          "state": {
            "_dom_classes": [],
            "_model_module": "@jupyter-widgets/controls",
            "_model_module_version": "1.5.0",
            "_model_name": "HBoxModel",
            "_view_count": null,
            "_view_module": "@jupyter-widgets/controls",
            "_view_module_version": "1.5.0",
            "_view_name": "HBoxView",
            "box_style": "",
            "children": [
              "IPY_MODEL_10ead21b04f74ddc8f02cce11b259fc1",
              "IPY_MODEL_6a3ef8aec00d47458ce1b57d57335405",
              "IPY_MODEL_868e7e0f62084c90a2506bc7aeec0512"
            ],
            "layout": "IPY_MODEL_4a44ddcc9abb42299f149b7d16cd7079"
          }
        },
        "10ead21b04f74ddc8f02cce11b259fc1": {
          "model_module": "@jupyter-widgets/controls",
          "model_name": "HTMLModel",
          "model_module_version": "1.5.0",
          "state": {
            "_dom_classes": [],
            "_model_module": "@jupyter-widgets/controls",
            "_model_module_version": "1.5.0",
            "_model_name": "HTMLModel",
            "_view_count": null,
            "_view_module": "@jupyter-widgets/controls",
            "_view_module_version": "1.5.0",
            "_view_name": "HTMLView",
            "description": "",
            "description_tooltip": null,
            "layout": "IPY_MODEL_db899d5c23a44ed4b237446e4b89e09e",
            "placeholder": "​",
            "style": "IPY_MODEL_b7444b78cb57482c8e8ab5f99697b009",
            "value": "model-00001-of-00004.safetensors: 100%"
          }
        },
        "6a3ef8aec00d47458ce1b57d57335405": {
          "model_module": "@jupyter-widgets/controls",
          "model_name": "FloatProgressModel",
          "model_module_version": "1.5.0",
          "state": {
            "_dom_classes": [],
            "_model_module": "@jupyter-widgets/controls",
            "_model_module_version": "1.5.0",
            "_model_name": "FloatProgressModel",
            "_view_count": null,
            "_view_module": "@jupyter-widgets/controls",
            "_view_module_version": "1.5.0",
            "_view_name": "ProgressView",
            "bar_style": "success",
            "description": "",
            "description_tooltip": null,
            "layout": "IPY_MODEL_04d72b01855e47b0b5d826b3f6525d6a",
            "max": 4976698672,
            "min": 0,
            "orientation": "horizontal",
            "style": "IPY_MODEL_c76b22e23386479e97a4cd2e666e0725",
            "value": 4976698672
          }
        },
        "868e7e0f62084c90a2506bc7aeec0512": {
          "model_module": "@jupyter-widgets/controls",
          "model_name": "HTMLModel",
          "model_module_version": "1.5.0",
          "state": {
            "_dom_classes": [],
            "_model_module": "@jupyter-widgets/controls",
            "_model_module_version": "1.5.0",
            "_model_name": "HTMLModel",
            "_view_count": null,
            "_view_module": "@jupyter-widgets/controls",
            "_view_module_version": "1.5.0",
            "_view_name": "HTMLView",
            "description": "",
            "description_tooltip": null,
            "layout": "IPY_MODEL_9dd10eaee5274ce0a0afad1958886276",
            "placeholder": "​",
            "style": "IPY_MODEL_dca5d848d691445982563f4296ec292b",
            "value": " 4.98G/4.98G [01:58&lt;00:00, 42.0MB/s]"
          }
        },
        "4a44ddcc9abb42299f149b7d16cd7079": {
          "model_module": "@jupyter-widgets/base",
          "model_name": "LayoutModel",
          "model_module_version": "1.2.0",
          "state": {
            "_model_module": "@jupyter-widgets/base",
            "_model_module_version": "1.2.0",
            "_model_name": "LayoutModel",
            "_view_count": null,
            "_view_module": "@jupyter-widgets/base",
            "_view_module_version": "1.2.0",
            "_view_name": "LayoutView",
            "align_content": null,
            "align_items": null,
            "align_self": null,
            "border": null,
            "bottom": null,
            "display": null,
            "flex": null,
            "flex_flow": null,
            "grid_area": null,
            "grid_auto_columns": null,
            "grid_auto_flow": null,
            "grid_auto_rows": null,
            "grid_column": null,
            "grid_gap": null,
            "grid_row": null,
            "grid_template_areas": null,
            "grid_template_columns": null,
            "grid_template_rows": null,
            "height": null,
            "justify_content": null,
            "justify_items": null,
            "left": null,
            "margin": null,
            "max_height": null,
            "max_width": null,
            "min_height": null,
            "min_width": null,
            "object_fit": null,
            "object_position": null,
            "order": null,
            "overflow": null,
            "overflow_x": null,
            "overflow_y": null,
            "padding": null,
            "right": null,
            "top": null,
            "visibility": null,
            "width": null
          }
        },
        "db899d5c23a44ed4b237446e4b89e09e": {
          "model_module": "@jupyter-widgets/base",
          "model_name": "LayoutModel",
          "model_module_version": "1.2.0",
          "state": {
            "_model_module": "@jupyter-widgets/base",
            "_model_module_version": "1.2.0",
            "_model_name": "LayoutModel",
            "_view_count": null,
            "_view_module": "@jupyter-widgets/base",
            "_view_module_version": "1.2.0",
            "_view_name": "LayoutView",
            "align_content": null,
            "align_items": null,
            "align_self": null,
            "border": null,
            "bottom": null,
            "display": null,
            "flex": null,
            "flex_flow": null,
            "grid_area": null,
            "grid_auto_columns": null,
            "grid_auto_flow": null,
            "grid_auto_rows": null,
            "grid_column": null,
            "grid_gap": null,
            "grid_row": null,
            "grid_template_areas": null,
            "grid_template_columns": null,
            "grid_template_rows": null,
            "height": null,
            "justify_content": null,
            "justify_items": null,
            "left": null,
            "margin": null,
            "max_height": null,
            "max_width": null,
            "min_height": null,
            "min_width": null,
            "object_fit": null,
            "object_position": null,
            "order": null,
            "overflow": null,
            "overflow_x": null,
            "overflow_y": null,
            "padding": null,
            "right": null,
            "top": null,
            "visibility": null,
            "width": null
          }
        },
        "b7444b78cb57482c8e8ab5f99697b009": {
          "model_module": "@jupyter-widgets/controls",
          "model_name": "DescriptionStyleModel",
          "model_module_version": "1.5.0",
          "state": {
            "_model_module": "@jupyter-widgets/controls",
            "_model_module_version": "1.5.0",
            "_model_name": "DescriptionStyleModel",
            "_view_count": null,
            "_view_module": "@jupyter-widgets/base",
            "_view_module_version": "1.2.0",
            "_view_name": "StyleView",
            "description_width": ""
          }
        },
        "04d72b01855e47b0b5d826b3f6525d6a": {
          "model_module": "@jupyter-widgets/base",
          "model_name": "LayoutModel",
          "model_module_version": "1.2.0",
          "state": {
            "_model_module": "@jupyter-widgets/base",
            "_model_module_version": "1.2.0",
            "_model_name": "LayoutModel",
            "_view_count": null,
            "_view_module": "@jupyter-widgets/base",
            "_view_module_version": "1.2.0",
            "_view_name": "LayoutView",
            "align_content": null,
            "align_items": null,
            "align_self": null,
            "border": null,
            "bottom": null,
            "display": null,
            "flex": null,
            "flex_flow": null,
            "grid_area": null,
            "grid_auto_columns": null,
            "grid_auto_flow": null,
            "grid_auto_rows": null,
            "grid_column": null,
            "grid_gap": null,
            "grid_row": null,
            "grid_template_areas": null,
            "grid_template_columns": null,
            "grid_template_rows": null,
            "height": null,
            "justify_content": null,
            "justify_items": null,
            "left": null,
            "margin": null,
            "max_height": null,
            "max_width": null,
            "min_height": null,
            "min_width": null,
            "object_fit": null,
            "object_position": null,
            "order": null,
            "overflow": null,
            "overflow_x": null,
            "overflow_y": null,
            "padding": null,
            "right": null,
            "top": null,
            "visibility": null,
            "width": null
          }
        },
        "c76b22e23386479e97a4cd2e666e0725": {
          "model_module": "@jupyter-widgets/controls",
          "model_name": "ProgressStyleModel",
          "model_module_version": "1.5.0",
          "state": {
            "_model_module": "@jupyter-widgets/controls",
            "_model_module_version": "1.5.0",
            "_model_name": "ProgressStyleModel",
            "_view_count": null,
            "_view_module": "@jupyter-widgets/base",
            "_view_module_version": "1.2.0",
            "_view_name": "StyleView",
            "bar_color": null,
            "description_width": ""
          }
        },
        "9dd10eaee5274ce0a0afad1958886276": {
          "model_module": "@jupyter-widgets/base",
          "model_name": "LayoutModel",
          "model_module_version": "1.2.0",
          "state": {
            "_model_module": "@jupyter-widgets/base",
            "_model_module_version": "1.2.0",
            "_model_name": "LayoutModel",
            "_view_count": null,
            "_view_module": "@jupyter-widgets/base",
            "_view_module_version": "1.2.0",
            "_view_name": "LayoutView",
            "align_content": null,
            "align_items": null,
            "align_self": null,
            "border": null,
            "bottom": null,
            "display": null,
            "flex": null,
            "flex_flow": null,
            "grid_area": null,
            "grid_auto_columns": null,
            "grid_auto_flow": null,
            "grid_auto_rows": null,
            "grid_column": null,
            "grid_gap": null,
            "grid_row": null,
            "grid_template_areas": null,
            "grid_template_columns": null,
            "grid_template_rows": null,
            "height": null,
            "justify_content": null,
            "justify_items": null,
            "left": null,
            "margin": null,
            "max_height": null,
            "max_width": null,
            "min_height": null,
            "min_width": null,
            "object_fit": null,
            "object_position": null,
            "order": null,
            "overflow": null,
            "overflow_x": null,
            "overflow_y": null,
            "padding": null,
            "right": null,
            "top": null,
            "visibility": null,
            "width": null
          }
        },
        "dca5d848d691445982563f4296ec292b": {
          "model_module": "@jupyter-widgets/controls",
          "model_name": "DescriptionStyleModel",
          "model_module_version": "1.5.0",
          "state": {
            "_model_module": "@jupyter-widgets/controls",
            "_model_module_version": "1.5.0",
            "_model_name": "DescriptionStyleModel",
            "_view_count": null,
            "_view_module": "@jupyter-widgets/base",
            "_view_module_version": "1.2.0",
            "_view_name": "StyleView",
            "description_width": ""
          }
        },
        "73cb583bdd0441ea8e7062d79ea1875b": {
          "model_module": "@jupyter-widgets/controls",
          "model_name": "HBoxModel",
          "model_module_version": "1.5.0",
          "state": {
            "_dom_classes": [],
            "_model_module": "@jupyter-widgets/controls",
            "_model_module_version": "1.5.0",
            "_model_name": "HBoxModel",
            "_view_count": null,
            "_view_module": "@jupyter-widgets/controls",
            "_view_module_version": "1.5.0",
            "_view_name": "HBoxView",
            "box_style": "",
            "children": [
              "IPY_MODEL_12aa3749f4ee4a8990c075715bf96c85",
              "IPY_MODEL_1071ccb3a6a144039da841ce683a40e8",
              "IPY_MODEL_adcfc520ff024b12813db8276bd478ff"
            ],
            "layout": "IPY_MODEL_a00d6b52135a4435a13f293e91cfe9a1"
          }
        },
        "12aa3749f4ee4a8990c075715bf96c85": {
          "model_module": "@jupyter-widgets/controls",
          "model_name": "HTMLModel",
          "model_module_version": "1.5.0",
          "state": {
            "_dom_classes": [],
            "_model_module": "@jupyter-widgets/controls",
            "_model_module_version": "1.5.0",
            "_model_name": "HTMLModel",
            "_view_count": null,
            "_view_module": "@jupyter-widgets/controls",
            "_view_module_version": "1.5.0",
            "_view_name": "HTMLView",
            "description": "",
            "description_tooltip": null,
            "layout": "IPY_MODEL_01afb09248224ae98ecbb919492c4e55",
            "placeholder": "​",
            "style": "IPY_MODEL_52ed9bdb40b54fc282f2244cb2475521",
            "value": "model-00002-of-00004.safetensors: 100%"
          }
        },
        "1071ccb3a6a144039da841ce683a40e8": {
          "model_module": "@jupyter-widgets/controls",
          "model_name": "FloatProgressModel",
          "model_module_version": "1.5.0",
          "state": {
            "_dom_classes": [],
            "_model_module": "@jupyter-widgets/controls",
            "_model_module_version": "1.5.0",
            "_model_name": "FloatProgressModel",
            "_view_count": null,
            "_view_module": "@jupyter-widgets/controls",
            "_view_module_version": "1.5.0",
            "_view_name": "ProgressView",
            "bar_style": "success",
            "description": "",
            "description_tooltip": null,
            "layout": "IPY_MODEL_bff3a2de9b6347cb8045ec5ebad8fe9e",
            "max": 4999802720,
            "min": 0,
            "orientation": "horizontal",
            "style": "IPY_MODEL_e625ebce71684970957805073a8dc32b",
            "value": 4999802720
          }
        },
        "adcfc520ff024b12813db8276bd478ff": {
          "model_module": "@jupyter-widgets/controls",
          "model_name": "HTMLModel",
          "model_module_version": "1.5.0",
          "state": {
            "_dom_classes": [],
            "_model_module": "@jupyter-widgets/controls",
            "_model_module_version": "1.5.0",
            "_model_name": "HTMLModel",
            "_view_count": null,
            "_view_module": "@jupyter-widgets/controls",
            "_view_module_version": "1.5.0",
            "_view_name": "HTMLView",
            "description": "",
            "description_tooltip": null,
            "layout": "IPY_MODEL_0386f143e2ad4febb56ffc1a1e65d8f2",
            "placeholder": "​",
            "style": "IPY_MODEL_a8f567faf0614f48ab968da542d9edb0",
            "value": " 5.00G/5.00G [01:58&lt;00:00, 42.2MB/s]"
          }
        },
        "a00d6b52135a4435a13f293e91cfe9a1": {
          "model_module": "@jupyter-widgets/base",
          "model_name": "LayoutModel",
          "model_module_version": "1.2.0",
          "state": {
            "_model_module": "@jupyter-widgets/base",
            "_model_module_version": "1.2.0",
            "_model_name": "LayoutModel",
            "_view_count": null,
            "_view_module": "@jupyter-widgets/base",
            "_view_module_version": "1.2.0",
            "_view_name": "LayoutView",
            "align_content": null,
            "align_items": null,
            "align_self": null,
            "border": null,
            "bottom": null,
            "display": null,
            "flex": null,
            "flex_flow": null,
            "grid_area": null,
            "grid_auto_columns": null,
            "grid_auto_flow": null,
            "grid_auto_rows": null,
            "grid_column": null,
            "grid_gap": null,
            "grid_row": null,
            "grid_template_areas": null,
            "grid_template_columns": null,
            "grid_template_rows": null,
            "height": null,
            "justify_content": null,
            "justify_items": null,
            "left": null,
            "margin": null,
            "max_height": null,
            "max_width": null,
            "min_height": null,
            "min_width": null,
            "object_fit": null,
            "object_position": null,
            "order": null,
            "overflow": null,
            "overflow_x": null,
            "overflow_y": null,
            "padding": null,
            "right": null,
            "top": null,
            "visibility": null,
            "width": null
          }
        },
        "01afb09248224ae98ecbb919492c4e55": {
          "model_module": "@jupyter-widgets/base",
          "model_name": "LayoutModel",
          "model_module_version": "1.2.0",
          "state": {
            "_model_module": "@jupyter-widgets/base",
            "_model_module_version": "1.2.0",
            "_model_name": "LayoutModel",
            "_view_count": null,
            "_view_module": "@jupyter-widgets/base",
            "_view_module_version": "1.2.0",
            "_view_name": "LayoutView",
            "align_content": null,
            "align_items": null,
            "align_self": null,
            "border": null,
            "bottom": null,
            "display": null,
            "flex": null,
            "flex_flow": null,
            "grid_area": null,
            "grid_auto_columns": null,
            "grid_auto_flow": null,
            "grid_auto_rows": null,
            "grid_column": null,
            "grid_gap": null,
            "grid_row": null,
            "grid_template_areas": null,
            "grid_template_columns": null,
            "grid_template_rows": null,
            "height": null,
            "justify_content": null,
            "justify_items": null,
            "left": null,
            "margin": null,
            "max_height": null,
            "max_width": null,
            "min_height": null,
            "min_width": null,
            "object_fit": null,
            "object_position": null,
            "order": null,
            "overflow": null,
            "overflow_x": null,
            "overflow_y": null,
            "padding": null,
            "right": null,
            "top": null,
            "visibility": null,
            "width": null
          }
        },
        "52ed9bdb40b54fc282f2244cb2475521": {
          "model_module": "@jupyter-widgets/controls",
          "model_name": "DescriptionStyleModel",
          "model_module_version": "1.5.0",
          "state": {
            "_model_module": "@jupyter-widgets/controls",
            "_model_module_version": "1.5.0",
            "_model_name": "DescriptionStyleModel",
            "_view_count": null,
            "_view_module": "@jupyter-widgets/base",
            "_view_module_version": "1.2.0",
            "_view_name": "StyleView",
            "description_width": ""
          }
        },
        "bff3a2de9b6347cb8045ec5ebad8fe9e": {
          "model_module": "@jupyter-widgets/base",
          "model_name": "LayoutModel",
          "model_module_version": "1.2.0",
          "state": {
            "_model_module": "@jupyter-widgets/base",
            "_model_module_version": "1.2.0",
            "_model_name": "LayoutModel",
            "_view_count": null,
            "_view_module": "@jupyter-widgets/base",
            "_view_module_version": "1.2.0",
            "_view_name": "LayoutView",
            "align_content": null,
            "align_items": null,
            "align_self": null,
            "border": null,
            "bottom": null,
            "display": null,
            "flex": null,
            "flex_flow": null,
            "grid_area": null,
            "grid_auto_columns": null,
            "grid_auto_flow": null,
            "grid_auto_rows": null,
            "grid_column": null,
            "grid_gap": null,
            "grid_row": null,
            "grid_template_areas": null,
            "grid_template_columns": null,
            "grid_template_rows": null,
            "height": null,
            "justify_content": null,
            "justify_items": null,
            "left": null,
            "margin": null,
            "max_height": null,
            "max_width": null,
            "min_height": null,
            "min_width": null,
            "object_fit": null,
            "object_position": null,
            "order": null,
            "overflow": null,
            "overflow_x": null,
            "overflow_y": null,
            "padding": null,
            "right": null,
            "top": null,
            "visibility": null,
            "width": null
          }
        },
        "e625ebce71684970957805073a8dc32b": {
          "model_module": "@jupyter-widgets/controls",
          "model_name": "ProgressStyleModel",
          "model_module_version": "1.5.0",
          "state": {
            "_model_module": "@jupyter-widgets/controls",
            "_model_module_version": "1.5.0",
            "_model_name": "ProgressStyleModel",
            "_view_count": null,
            "_view_module": "@jupyter-widgets/base",
            "_view_module_version": "1.2.0",
            "_view_name": "StyleView",
            "bar_color": null,
            "description_width": ""
          }
        },
        "0386f143e2ad4febb56ffc1a1e65d8f2": {
          "model_module": "@jupyter-widgets/base",
          "model_name": "LayoutModel",
          "model_module_version": "1.2.0",
          "state": {
            "_model_module": "@jupyter-widgets/base",
            "_model_module_version": "1.2.0",
            "_model_name": "LayoutModel",
            "_view_count": null,
            "_view_module": "@jupyter-widgets/base",
            "_view_module_version": "1.2.0",
            "_view_name": "LayoutView",
            "align_content": null,
            "align_items": null,
            "align_self": null,
            "border": null,
            "bottom": null,
            "display": null,
            "flex": null,
            "flex_flow": null,
            "grid_area": null,
            "grid_auto_columns": null,
            "grid_auto_flow": null,
            "grid_auto_rows": null,
            "grid_column": null,
            "grid_gap": null,
            "grid_row": null,
            "grid_template_areas": null,
            "grid_template_columns": null,
            "grid_template_rows": null,
            "height": null,
            "justify_content": null,
            "justify_items": null,
            "left": null,
            "margin": null,
            "max_height": null,
            "max_width": null,
            "min_height": null,
            "min_width": null,
            "object_fit": null,
            "object_position": null,
            "order": null,
            "overflow": null,
            "overflow_x": null,
            "overflow_y": null,
            "padding": null,
            "right": null,
            "top": null,
            "visibility": null,
            "width": null
          }
        },
        "a8f567faf0614f48ab968da542d9edb0": {
          "model_module": "@jupyter-widgets/controls",
          "model_name": "DescriptionStyleModel",
          "model_module_version": "1.5.0",
          "state": {
            "_model_module": "@jupyter-widgets/controls",
            "_model_module_version": "1.5.0",
            "_model_name": "DescriptionStyleModel",
            "_view_count": null,
            "_view_module": "@jupyter-widgets/base",
            "_view_module_version": "1.2.0",
            "_view_name": "StyleView",
            "description_width": ""
          }
        },
        "97b10d3a1b794e51932ffcdb3bb8923f": {
          "model_module": "@jupyter-widgets/controls",
          "model_name": "HBoxModel",
          "model_module_version": "1.5.0",
          "state": {
            "_dom_classes": [],
            "_model_module": "@jupyter-widgets/controls",
            "_model_module_version": "1.5.0",
            "_model_name": "HBoxModel",
            "_view_count": null,
            "_view_module": "@jupyter-widgets/controls",
            "_view_module_version": "1.5.0",
            "_view_name": "HBoxView",
            "box_style": "",
            "children": [
              "IPY_MODEL_118a4a276ed043feb7de5dfd4f78da96",
              "IPY_MODEL_6a201dd5be4949739ad8d75c5c0b6860",
              "IPY_MODEL_b4a7bdd15d654d7482ce68f5faeb0df0"
            ],
            "layout": "IPY_MODEL_26dbeda2e015425f98be83a1601cd989"
          }
        },
        "118a4a276ed043feb7de5dfd4f78da96": {
          "model_module": "@jupyter-widgets/controls",
          "model_name": "HTMLModel",
          "model_module_version": "1.5.0",
          "state": {
            "_dom_classes": [],
            "_model_module": "@jupyter-widgets/controls",
            "_model_module_version": "1.5.0",
            "_model_name": "HTMLModel",
            "_view_count": null,
            "_view_module": "@jupyter-widgets/controls",
            "_view_module_version": "1.5.0",
            "_view_name": "HTMLView",
            "description": "",
            "description_tooltip": null,
            "layout": "IPY_MODEL_a77bef853db14dc5a2c69d32a9509e1f",
            "placeholder": "​",
            "style": "IPY_MODEL_8de9c203cf03421ca559c1e9f71ead55",
            "value": "model-00003-of-00004.safetensors: 100%"
          }
        },
        "6a201dd5be4949739ad8d75c5c0b6860": {
          "model_module": "@jupyter-widgets/controls",
          "model_name": "FloatProgressModel",
          "model_module_version": "1.5.0",
          "state": {
            "_dom_classes": [],
            "_model_module": "@jupyter-widgets/controls",
            "_model_module_version": "1.5.0",
            "_model_name": "FloatProgressModel",
            "_view_count": null,
            "_view_module": "@jupyter-widgets/controls",
            "_view_module_version": "1.5.0",
            "_view_name": "ProgressView",
            "bar_style": "success",
            "description": "",
            "description_tooltip": null,
            "layout": "IPY_MODEL_0d1b0198c34a4a0c939794cd6c02ad5f",
            "max": 4915916176,
            "min": 0,
            "orientation": "horizontal",
            "style": "IPY_MODEL_7483b70069d24d9c9bf309b05941d88f",
            "value": 4915916176
          }
        },
        "b4a7bdd15d654d7482ce68f5faeb0df0": {
          "model_module": "@jupyter-widgets/controls",
          "model_name": "HTMLModel",
          "model_module_version": "1.5.0",
          "state": {
            "_dom_classes": [],
            "_model_module": "@jupyter-widgets/controls",
            "_model_module_version": "1.5.0",
            "_model_name": "HTMLModel",
            "_view_count": null,
            "_view_module": "@jupyter-widgets/controls",
            "_view_module_version": "1.5.0",
            "_view_name": "HTMLView",
            "description": "",
            "description_tooltip": null,
            "layout": "IPY_MODEL_11a45262097e422c9349d79b8b1abb57",
            "placeholder": "​",
            "style": "IPY_MODEL_82f6bf89cdc7430097a9755727df394b",
            "value": " 4.92G/4.92G [01:56&lt;00:00, 41.9MB/s]"
          }
        },
        "26dbeda2e015425f98be83a1601cd989": {
          "model_module": "@jupyter-widgets/base",
          "model_name": "LayoutModel",
          "model_module_version": "1.2.0",
          "state": {
            "_model_module": "@jupyter-widgets/base",
            "_model_module_version": "1.2.0",
            "_model_name": "LayoutModel",
            "_view_count": null,
            "_view_module": "@jupyter-widgets/base",
            "_view_module_version": "1.2.0",
            "_view_name": "LayoutView",
            "align_content": null,
            "align_items": null,
            "align_self": null,
            "border": null,
            "bottom": null,
            "display": null,
            "flex": null,
            "flex_flow": null,
            "grid_area": null,
            "grid_auto_columns": null,
            "grid_auto_flow": null,
            "grid_auto_rows": null,
            "grid_column": null,
            "grid_gap": null,
            "grid_row": null,
            "grid_template_areas": null,
            "grid_template_columns": null,
            "grid_template_rows": null,
            "height": null,
            "justify_content": null,
            "justify_items": null,
            "left": null,
            "margin": null,
            "max_height": null,
            "max_width": null,
            "min_height": null,
            "min_width": null,
            "object_fit": null,
            "object_position": null,
            "order": null,
            "overflow": null,
            "overflow_x": null,
            "overflow_y": null,
            "padding": null,
            "right": null,
            "top": null,
            "visibility": null,
            "width": null
          }
        },
        "a77bef853db14dc5a2c69d32a9509e1f": {
          "model_module": "@jupyter-widgets/base",
          "model_name": "LayoutModel",
          "model_module_version": "1.2.0",
          "state": {
            "_model_module": "@jupyter-widgets/base",
            "_model_module_version": "1.2.0",
            "_model_name": "LayoutModel",
            "_view_count": null,
            "_view_module": "@jupyter-widgets/base",
            "_view_module_version": "1.2.0",
            "_view_name": "LayoutView",
            "align_content": null,
            "align_items": null,
            "align_self": null,
            "border": null,
            "bottom": null,
            "display": null,
            "flex": null,
            "flex_flow": null,
            "grid_area": null,
            "grid_auto_columns": null,
            "grid_auto_flow": null,
            "grid_auto_rows": null,
            "grid_column": null,
            "grid_gap": null,
            "grid_row": null,
            "grid_template_areas": null,
            "grid_template_columns": null,
            "grid_template_rows": null,
            "height": null,
            "justify_content": null,
            "justify_items": null,
            "left": null,
            "margin": null,
            "max_height": null,
            "max_width": null,
            "min_height": null,
            "min_width": null,
            "object_fit": null,
            "object_position": null,
            "order": null,
            "overflow": null,
            "overflow_x": null,
            "overflow_y": null,
            "padding": null,
            "right": null,
            "top": null,
            "visibility": null,
            "width": null
          }
        },
        "8de9c203cf03421ca559c1e9f71ead55": {
          "model_module": "@jupyter-widgets/controls",
          "model_name": "DescriptionStyleModel",
          "model_module_version": "1.5.0",
          "state": {
            "_model_module": "@jupyter-widgets/controls",
            "_model_module_version": "1.5.0",
            "_model_name": "DescriptionStyleModel",
            "_view_count": null,
            "_view_module": "@jupyter-widgets/base",
            "_view_module_version": "1.2.0",
            "_view_name": "StyleView",
            "description_width": ""
          }
        },
        "0d1b0198c34a4a0c939794cd6c02ad5f": {
          "model_module": "@jupyter-widgets/base",
          "model_name": "LayoutModel",
          "model_module_version": "1.2.0",
          "state": {
            "_model_module": "@jupyter-widgets/base",
            "_model_module_version": "1.2.0",
            "_model_name": "LayoutModel",
            "_view_count": null,
            "_view_module": "@jupyter-widgets/base",
            "_view_module_version": "1.2.0",
            "_view_name": "LayoutView",
            "align_content": null,
            "align_items": null,
            "align_self": null,
            "border": null,
            "bottom": null,
            "display": null,
            "flex": null,
            "flex_flow": null,
            "grid_area": null,
            "grid_auto_columns": null,
            "grid_auto_flow": null,
            "grid_auto_rows": null,
            "grid_column": null,
            "grid_gap": null,
            "grid_row": null,
            "grid_template_areas": null,
            "grid_template_columns": null,
            "grid_template_rows": null,
            "height": null,
            "justify_content": null,
            "justify_items": null,
            "left": null,
            "margin": null,
            "max_height": null,
            "max_width": null,
            "min_height": null,
            "min_width": null,
            "object_fit": null,
            "object_position": null,
            "order": null,
            "overflow": null,
            "overflow_x": null,
            "overflow_y": null,
            "padding": null,
            "right": null,
            "top": null,
            "visibility": null,
            "width": null
          }
        },
        "7483b70069d24d9c9bf309b05941d88f": {
          "model_module": "@jupyter-widgets/controls",
          "model_name": "ProgressStyleModel",
          "model_module_version": "1.5.0",
          "state": {
            "_model_module": "@jupyter-widgets/controls",
            "_model_module_version": "1.5.0",
            "_model_name": "ProgressStyleModel",
            "_view_count": null,
            "_view_module": "@jupyter-widgets/base",
            "_view_module_version": "1.2.0",
            "_view_name": "StyleView",
            "bar_color": null,
            "description_width": ""
          }
        },
        "11a45262097e422c9349d79b8b1abb57": {
          "model_module": "@jupyter-widgets/base",
          "model_name": "LayoutModel",
          "model_module_version": "1.2.0",
          "state": {
            "_model_module": "@jupyter-widgets/base",
            "_model_module_version": "1.2.0",
            "_model_name": "LayoutModel",
            "_view_count": null,
            "_view_module": "@jupyter-widgets/base",
            "_view_module_version": "1.2.0",
            "_view_name": "LayoutView",
            "align_content": null,
            "align_items": null,
            "align_self": null,
            "border": null,
            "bottom": null,
            "display": null,
            "flex": null,
            "flex_flow": null,
            "grid_area": null,
            "grid_auto_columns": null,
            "grid_auto_flow": null,
            "grid_auto_rows": null,
            "grid_column": null,
            "grid_gap": null,
            "grid_row": null,
            "grid_template_areas": null,
            "grid_template_columns": null,
            "grid_template_rows": null,
            "height": null,
            "justify_content": null,
            "justify_items": null,
            "left": null,
            "margin": null,
            "max_height": null,
            "max_width": null,
            "min_height": null,
            "min_width": null,
            "object_fit": null,
            "object_position": null,
            "order": null,
            "overflow": null,
            "overflow_x": null,
            "overflow_y": null,
            "padding": null,
            "right": null,
            "top": null,
            "visibility": null,
            "width": null
          }
        },
        "82f6bf89cdc7430097a9755727df394b": {
          "model_module": "@jupyter-widgets/controls",
          "model_name": "DescriptionStyleModel",
          "model_module_version": "1.5.0",
          "state": {
            "_model_module": "@jupyter-widgets/controls",
            "_model_module_version": "1.5.0",
            "_model_name": "DescriptionStyleModel",
            "_view_count": null,
            "_view_module": "@jupyter-widgets/base",
            "_view_module_version": "1.2.0",
            "_view_name": "StyleView",
            "description_width": ""
          }
        },
        "d9b8908085bc46b1a02d1f18e31e007d": {
          "model_module": "@jupyter-widgets/controls",
          "model_name": "HBoxModel",
          "model_module_version": "1.5.0",
          "state": {
            "_dom_classes": [],
            "_model_module": "@jupyter-widgets/controls",
            "_model_module_version": "1.5.0",
            "_model_name": "HBoxModel",
            "_view_count": null,
            "_view_module": "@jupyter-widgets/controls",
            "_view_module_version": "1.5.0",
            "_view_name": "HBoxView",
            "box_style": "",
            "children": [
              "IPY_MODEL_78100c560839469f80c1e0a37afd7e00",
              "IPY_MODEL_8e752a14788348e5a3937dd0c6cde695",
              "IPY_MODEL_b7ed920c009f4b87a298b4c6fdef338a"
            ],
            "layout": "IPY_MODEL_c8228c75679d47349a4b536c14f9b682"
          }
        },
        "78100c560839469f80c1e0a37afd7e00": {
          "model_module": "@jupyter-widgets/controls",
          "model_name": "HTMLModel",
          "model_module_version": "1.5.0",
          "state": {
            "_dom_classes": [],
            "_model_module": "@jupyter-widgets/controls",
            "_model_module_version": "1.5.0",
            "_model_name": "HTMLModel",
            "_view_count": null,
            "_view_module": "@jupyter-widgets/controls",
            "_view_module_version": "1.5.0",
            "_view_name": "HTMLView",
            "description": "",
            "description_tooltip": null,
            "layout": "IPY_MODEL_43ff139e03654a41b4b51df9304a4424",
            "placeholder": "​",
            "style": "IPY_MODEL_86e5f021b60e40bfa3a4cac6214b7511",
            "value": "model-00004-of-00004.safetensors: 100%"
          }
        },
        "8e752a14788348e5a3937dd0c6cde695": {
          "model_module": "@jupyter-widgets/controls",
          "model_name": "FloatProgressModel",
          "model_module_version": "1.5.0",
          "state": {
            "_dom_classes": [],
            "_model_module": "@jupyter-widgets/controls",
            "_model_module_version": "1.5.0",
            "_model_name": "FloatProgressModel",
            "_view_count": null,
            "_view_module": "@jupyter-widgets/controls",
            "_view_module_version": "1.5.0",
            "_view_name": "ProgressView",
            "bar_style": "success",
            "description": "",
            "description_tooltip": null,
            "layout": "IPY_MODEL_8e9b543a815c4a6db2fdf923ff8128e6",
            "max": 1168138808,
            "min": 0,
            "orientation": "horizontal",
            "style": "IPY_MODEL_370244cfa0884975ac88aec8730122d3",
            "value": 1168138808
          }
        },
        "b7ed920c009f4b87a298b4c6fdef338a": {
          "model_module": "@jupyter-widgets/controls",
          "model_name": "HTMLModel",
          "model_module_version": "1.5.0",
          "state": {
            "_dom_classes": [],
            "_model_module": "@jupyter-widgets/controls",
            "_model_module_version": "1.5.0",
            "_model_name": "HTMLModel",
            "_view_count": null,
            "_view_module": "@jupyter-widgets/controls",
            "_view_module_version": "1.5.0",
            "_view_name": "HTMLView",
            "description": "",
            "description_tooltip": null,
            "layout": "IPY_MODEL_ab02f8e6ff3d4bbcbcbde8b33e436dc7",
            "placeholder": "​",
            "style": "IPY_MODEL_1e431e58894e4776ad59e4733dd9b896",
            "value": " 1.17G/1.17G [00:27&lt;00:00, 42.3MB/s]"
          }
        },
        "c8228c75679d47349a4b536c14f9b682": {
          "model_module": "@jupyter-widgets/base",
          "model_name": "LayoutModel",
          "model_module_version": "1.2.0",
          "state": {
            "_model_module": "@jupyter-widgets/base",
            "_model_module_version": "1.2.0",
            "_model_name": "LayoutModel",
            "_view_count": null,
            "_view_module": "@jupyter-widgets/base",
            "_view_module_version": "1.2.0",
            "_view_name": "LayoutView",
            "align_content": null,
            "align_items": null,
            "align_self": null,
            "border": null,
            "bottom": null,
            "display": null,
            "flex": null,
            "flex_flow": null,
            "grid_area": null,
            "grid_auto_columns": null,
            "grid_auto_flow": null,
            "grid_auto_rows": null,
            "grid_column": null,
            "grid_gap": null,
            "grid_row": null,
            "grid_template_areas": null,
            "grid_template_columns": null,
            "grid_template_rows": null,
            "height": null,
            "justify_content": null,
            "justify_items": null,
            "left": null,
            "margin": null,
            "max_height": null,
            "max_width": null,
            "min_height": null,
            "min_width": null,
            "object_fit": null,
            "object_position": null,
            "order": null,
            "overflow": null,
            "overflow_x": null,
            "overflow_y": null,
            "padding": null,
            "right": null,
            "top": null,
            "visibility": null,
            "width": null
          }
        },
        "43ff139e03654a41b4b51df9304a4424": {
          "model_module": "@jupyter-widgets/base",
          "model_name": "LayoutModel",
          "model_module_version": "1.2.0",
          "state": {
            "_model_module": "@jupyter-widgets/base",
            "_model_module_version": "1.2.0",
            "_model_name": "LayoutModel",
            "_view_count": null,
            "_view_module": "@jupyter-widgets/base",
            "_view_module_version": "1.2.0",
            "_view_name": "LayoutView",
            "align_content": null,
            "align_items": null,
            "align_self": null,
            "border": null,
            "bottom": null,
            "display": null,
            "flex": null,
            "flex_flow": null,
            "grid_area": null,
            "grid_auto_columns": null,
            "grid_auto_flow": null,
            "grid_auto_rows": null,
            "grid_column": null,
            "grid_gap": null,
            "grid_row": null,
            "grid_template_areas": null,
            "grid_template_columns": null,
            "grid_template_rows": null,
            "height": null,
            "justify_content": null,
            "justify_items": null,
            "left": null,
            "margin": null,
            "max_height": null,
            "max_width": null,
            "min_height": null,
            "min_width": null,
            "object_fit": null,
            "object_position": null,
            "order": null,
            "overflow": null,
            "overflow_x": null,
            "overflow_y": null,
            "padding": null,
            "right": null,
            "top": null,
            "visibility": null,
            "width": null
          }
        },
        "86e5f021b60e40bfa3a4cac6214b7511": {
          "model_module": "@jupyter-widgets/controls",
          "model_name": "DescriptionStyleModel",
          "model_module_version": "1.5.0",
          "state": {
            "_model_module": "@jupyter-widgets/controls",
            "_model_module_version": "1.5.0",
            "_model_name": "DescriptionStyleModel",
            "_view_count": null,
            "_view_module": "@jupyter-widgets/base",
            "_view_module_version": "1.2.0",
            "_view_name": "StyleView",
            "description_width": ""
          }
        },
        "8e9b543a815c4a6db2fdf923ff8128e6": {
          "model_module": "@jupyter-widgets/base",
          "model_name": "LayoutModel",
          "model_module_version": "1.2.0",
          "state": {
            "_model_module": "@jupyter-widgets/base",
            "_model_module_version": "1.2.0",
            "_model_name": "LayoutModel",
            "_view_count": null,
            "_view_module": "@jupyter-widgets/base",
            "_view_module_version": "1.2.0",
            "_view_name": "LayoutView",
            "align_content": null,
            "align_items": null,
            "align_self": null,
            "border": null,
            "bottom": null,
            "display": null,
            "flex": null,
            "flex_flow": null,
            "grid_area": null,
            "grid_auto_columns": null,
            "grid_auto_flow": null,
            "grid_auto_rows": null,
            "grid_column": null,
            "grid_gap": null,
            "grid_row": null,
            "grid_template_areas": null,
            "grid_template_columns": null,
            "grid_template_rows": null,
            "height": null,
            "justify_content": null,
            "justify_items": null,
            "left": null,
            "margin": null,
            "max_height": null,
            "max_width": null,
            "min_height": null,
            "min_width": null,
            "object_fit": null,
            "object_position": null,
            "order": null,
            "overflow": null,
            "overflow_x": null,
            "overflow_y": null,
            "padding": null,
            "right": null,
            "top": null,
            "visibility": null,
            "width": null
          }
        },
        "370244cfa0884975ac88aec8730122d3": {
          "model_module": "@jupyter-widgets/controls",
          "model_name": "ProgressStyleModel",
          "model_module_version": "1.5.0",
          "state": {
            "_model_module": "@jupyter-widgets/controls",
            "_model_module_version": "1.5.0",
            "_model_name": "ProgressStyleModel",
            "_view_count": null,
            "_view_module": "@jupyter-widgets/base",
            "_view_module_version": "1.2.0",
            "_view_name": "StyleView",
            "bar_color": null,
            "description_width": ""
          }
        },
        "ab02f8e6ff3d4bbcbcbde8b33e436dc7": {
          "model_module": "@jupyter-widgets/base",
          "model_name": "LayoutModel",
          "model_module_version": "1.2.0",
          "state": {
            "_model_module": "@jupyter-widgets/base",
            "_model_module_version": "1.2.0",
            "_model_name": "LayoutModel",
            "_view_count": null,
            "_view_module": "@jupyter-widgets/base",
            "_view_module_version": "1.2.0",
            "_view_name": "LayoutView",
            "align_content": null,
            "align_items": null,
            "align_self": null,
            "border": null,
            "bottom": null,
            "display": null,
            "flex": null,
            "flex_flow": null,
            "grid_area": null,
            "grid_auto_columns": null,
            "grid_auto_flow": null,
            "grid_auto_rows": null,
            "grid_column": null,
            "grid_gap": null,
            "grid_row": null,
            "grid_template_areas": null,
            "grid_template_columns": null,
            "grid_template_rows": null,
            "height": null,
            "justify_content": null,
            "justify_items": null,
            "left": null,
            "margin": null,
            "max_height": null,
            "max_width": null,
            "min_height": null,
            "min_width": null,
            "object_fit": null,
            "object_position": null,
            "order": null,
            "overflow": null,
            "overflow_x": null,
            "overflow_y": null,
            "padding": null,
            "right": null,
            "top": null,
            "visibility": null,
            "width": null
          }
        },
        "1e431e58894e4776ad59e4733dd9b896": {
          "model_module": "@jupyter-widgets/controls",
          "model_name": "DescriptionStyleModel",
          "model_module_version": "1.5.0",
          "state": {
            "_model_module": "@jupyter-widgets/controls",
            "_model_module_version": "1.5.0",
            "_model_name": "DescriptionStyleModel",
            "_view_count": null,
            "_view_module": "@jupyter-widgets/base",
            "_view_module_version": "1.2.0",
            "_view_name": "StyleView",
            "description_width": ""
          }
        },
        "b95db99cba6b40b6ba62254bddb8d961": {
          "model_module": "@jupyter-widgets/controls",
          "model_name": "HBoxModel",
          "model_module_version": "1.5.0",
          "state": {
            "_dom_classes": [],
            "_model_module": "@jupyter-widgets/controls",
            "_model_module_version": "1.5.0",
            "_model_name": "HBoxModel",
            "_view_count": null,
            "_view_module": "@jupyter-widgets/controls",
            "_view_module_version": "1.5.0",
            "_view_name": "HBoxView",
            "box_style": "",
            "children": [
              "IPY_MODEL_4ffa0bb6ef624c9aaf14780e83c079ed",
              "IPY_MODEL_485983b3de4040418fe56b73873c02be",
              "IPY_MODEL_354fcbba66f44728ab39dda10a68c487"
            ],
            "layout": "IPY_MODEL_166e11f58b9f40b3aee2292e72ffb00a"
          }
        },
        "4ffa0bb6ef624c9aaf14780e83c079ed": {
          "model_module": "@jupyter-widgets/controls",
          "model_name": "HTMLModel",
          "model_module_version": "1.5.0",
          "state": {
            "_dom_classes": [],
            "_model_module": "@jupyter-widgets/controls",
            "_model_module_version": "1.5.0",
            "_model_name": "HTMLModel",
            "_view_count": null,
            "_view_module": "@jupyter-widgets/controls",
            "_view_module_version": "1.5.0",
            "_view_name": "HTMLView",
            "description": "",
            "description_tooltip": null,
            "layout": "IPY_MODEL_660b531109304032ba497033f6569b20",
            "placeholder": "​",
            "style": "IPY_MODEL_f7beb0d4ba4b478da81da3cc8624a9e5",
            "value": "Loading checkpoint shards: 100%"
          }
        },
        "485983b3de4040418fe56b73873c02be": {
          "model_module": "@jupyter-widgets/controls",
          "model_name": "FloatProgressModel",
          "model_module_version": "1.5.0",
          "state": {
            "_dom_classes": [],
            "_model_module": "@jupyter-widgets/controls",
            "_model_module_version": "1.5.0",
            "_model_name": "FloatProgressModel",
            "_view_count": null,
            "_view_module": "@jupyter-widgets/controls",
            "_view_module_version": "1.5.0",
            "_view_name": "ProgressView",
            "bar_style": "success",
            "description": "",
            "description_tooltip": null,
            "layout": "IPY_MODEL_3cccadd317024d01878536aab8724a4a",
            "max": 4,
            "min": 0,
            "orientation": "horizontal",
            "style": "IPY_MODEL_66faf30818bd4730a86025331a9895d3",
            "value": 4
          }
        },
        "354fcbba66f44728ab39dda10a68c487": {
          "model_module": "@jupyter-widgets/controls",
          "model_name": "HTMLModel",
          "model_module_version": "1.5.0",
          "state": {
            "_dom_classes": [],
            "_model_module": "@jupyter-widgets/controls",
            "_model_module_version": "1.5.0",
            "_model_name": "HTMLModel",
            "_view_count": null,
            "_view_module": "@jupyter-widgets/controls",
            "_view_module_version": "1.5.0",
            "_view_name": "HTMLView",
            "description": "",
            "description_tooltip": null,
            "layout": "IPY_MODEL_f3b5d856d15341da8915aba5fb5cf924",
            "placeholder": "​",
            "style": "IPY_MODEL_24a5ab028def43a8bfcf06992ef29ab1",
            "value": " 4/4 [01:25&lt;00:00, 18.40s/it]"
          }
        },
        "166e11f58b9f40b3aee2292e72ffb00a": {
          "model_module": "@jupyter-widgets/base",
          "model_name": "LayoutModel",
          "model_module_version": "1.2.0",
          "state": {
            "_model_module": "@jupyter-widgets/base",
            "_model_module_version": "1.2.0",
            "_model_name": "LayoutModel",
            "_view_count": null,
            "_view_module": "@jupyter-widgets/base",
            "_view_module_version": "1.2.0",
            "_view_name": "LayoutView",
            "align_content": null,
            "align_items": null,
            "align_self": null,
            "border": null,
            "bottom": null,
            "display": null,
            "flex": null,
            "flex_flow": null,
            "grid_area": null,
            "grid_auto_columns": null,
            "grid_auto_flow": null,
            "grid_auto_rows": null,
            "grid_column": null,
            "grid_gap": null,
            "grid_row": null,
            "grid_template_areas": null,
            "grid_template_columns": null,
            "grid_template_rows": null,
            "height": null,
            "justify_content": null,
            "justify_items": null,
            "left": null,
            "margin": null,
            "max_height": null,
            "max_width": null,
            "min_height": null,
            "min_width": null,
            "object_fit": null,
            "object_position": null,
            "order": null,
            "overflow": null,
            "overflow_x": null,
            "overflow_y": null,
            "padding": null,
            "right": null,
            "top": null,
            "visibility": null,
            "width": null
          }
        },
        "660b531109304032ba497033f6569b20": {
          "model_module": "@jupyter-widgets/base",
          "model_name": "LayoutModel",
          "model_module_version": "1.2.0",
          "state": {
            "_model_module": "@jupyter-widgets/base",
            "_model_module_version": "1.2.0",
            "_model_name": "LayoutModel",
            "_view_count": null,
            "_view_module": "@jupyter-widgets/base",
            "_view_module_version": "1.2.0",
            "_view_name": "LayoutView",
            "align_content": null,
            "align_items": null,
            "align_self": null,
            "border": null,
            "bottom": null,
            "display": null,
            "flex": null,
            "flex_flow": null,
            "grid_area": null,
            "grid_auto_columns": null,
            "grid_auto_flow": null,
            "grid_auto_rows": null,
            "grid_column": null,
            "grid_gap": null,
            "grid_row": null,
            "grid_template_areas": null,
            "grid_template_columns": null,
            "grid_template_rows": null,
            "height": null,
            "justify_content": null,
            "justify_items": null,
            "left": null,
            "margin": null,
            "max_height": null,
            "max_width": null,
            "min_height": null,
            "min_width": null,
            "object_fit": null,
            "object_position": null,
            "order": null,
            "overflow": null,
            "overflow_x": null,
            "overflow_y": null,
            "padding": null,
            "right": null,
            "top": null,
            "visibility": null,
            "width": null
          }
        },
        "f7beb0d4ba4b478da81da3cc8624a9e5": {
          "model_module": "@jupyter-widgets/controls",
          "model_name": "DescriptionStyleModel",
          "model_module_version": "1.5.0",
          "state": {
            "_model_module": "@jupyter-widgets/controls",
            "_model_module_version": "1.5.0",
            "_model_name": "DescriptionStyleModel",
            "_view_count": null,
            "_view_module": "@jupyter-widgets/base",
            "_view_module_version": "1.2.0",
            "_view_name": "StyleView",
            "description_width": ""
          }
        },
        "3cccadd317024d01878536aab8724a4a": {
          "model_module": "@jupyter-widgets/base",
          "model_name": "LayoutModel",
          "model_module_version": "1.2.0",
          "state": {
            "_model_module": "@jupyter-widgets/base",
            "_model_module_version": "1.2.0",
            "_model_name": "LayoutModel",
            "_view_count": null,
            "_view_module": "@jupyter-widgets/base",
            "_view_module_version": "1.2.0",
            "_view_name": "LayoutView",
            "align_content": null,
            "align_items": null,
            "align_self": null,
            "border": null,
            "bottom": null,
            "display": null,
            "flex": null,
            "flex_flow": null,
            "grid_area": null,
            "grid_auto_columns": null,
            "grid_auto_flow": null,
            "grid_auto_rows": null,
            "grid_column": null,
            "grid_gap": null,
            "grid_row": null,
            "grid_template_areas": null,
            "grid_template_columns": null,
            "grid_template_rows": null,
            "height": null,
            "justify_content": null,
            "justify_items": null,
            "left": null,
            "margin": null,
            "max_height": null,
            "max_width": null,
            "min_height": null,
            "min_width": null,
            "object_fit": null,
            "object_position": null,
            "order": null,
            "overflow": null,
            "overflow_x": null,
            "overflow_y": null,
            "padding": null,
            "right": null,
            "top": null,
            "visibility": null,
            "width": null
          }
        },
        "66faf30818bd4730a86025331a9895d3": {
          "model_module": "@jupyter-widgets/controls",
          "model_name": "ProgressStyleModel",
          "model_module_version": "1.5.0",
          "state": {
            "_model_module": "@jupyter-widgets/controls",
            "_model_module_version": "1.5.0",
            "_model_name": "ProgressStyleModel",
            "_view_count": null,
            "_view_module": "@jupyter-widgets/base",
            "_view_module_version": "1.2.0",
            "_view_name": "StyleView",
            "bar_color": null,
            "description_width": ""
          }
        },
        "f3b5d856d15341da8915aba5fb5cf924": {
          "model_module": "@jupyter-widgets/base",
          "model_name": "LayoutModel",
          "model_module_version": "1.2.0",
          "state": {
            "_model_module": "@jupyter-widgets/base",
            "_model_module_version": "1.2.0",
            "_model_name": "LayoutModel",
            "_view_count": null,
            "_view_module": "@jupyter-widgets/base",
            "_view_module_version": "1.2.0",
            "_view_name": "LayoutView",
            "align_content": null,
            "align_items": null,
            "align_self": null,
            "border": null,
            "bottom": null,
            "display": null,
            "flex": null,
            "flex_flow": null,
            "grid_area": null,
            "grid_auto_columns": null,
            "grid_auto_flow": null,
            "grid_auto_rows": null,
            "grid_column": null,
            "grid_gap": null,
            "grid_row": null,
            "grid_template_areas": null,
            "grid_template_columns": null,
            "grid_template_rows": null,
            "height": null,
            "justify_content": null,
            "justify_items": null,
            "left": null,
            "margin": null,
            "max_height": null,
            "max_width": null,
            "min_height": null,
            "min_width": null,
            "object_fit": null,
            "object_position": null,
            "order": null,
            "overflow": null,
            "overflow_x": null,
            "overflow_y": null,
            "padding": null,
            "right": null,
            "top": null,
            "visibility": null,
            "width": null
          }
        },
        "24a5ab028def43a8bfcf06992ef29ab1": {
          "model_module": "@jupyter-widgets/controls",
          "model_name": "DescriptionStyleModel",
          "model_module_version": "1.5.0",
          "state": {
            "_model_module": "@jupyter-widgets/controls",
            "_model_module_version": "1.5.0",
            "_model_name": "DescriptionStyleModel",
            "_view_count": null,
            "_view_module": "@jupyter-widgets/base",
            "_view_module_version": "1.2.0",
            "_view_name": "StyleView",
            "description_width": ""
          }
        },
        "c731b65d183c4dc095ea50ff8288d444": {
          "model_module": "@jupyter-widgets/controls",
          "model_name": "HBoxModel",
          "model_module_version": "1.5.0",
          "state": {
            "_dom_classes": [],
            "_model_module": "@jupyter-widgets/controls",
            "_model_module_version": "1.5.0",
            "_model_name": "HBoxModel",
            "_view_count": null,
            "_view_module": "@jupyter-widgets/controls",
            "_view_module_version": "1.5.0",
            "_view_name": "HBoxView",
            "box_style": "",
            "children": [
              "IPY_MODEL_eb08b69cdab44fb9a14290fb1c1ec35b",
              "IPY_MODEL_baebc2ae46d34ae19f2c1a835f16abc3",
              "IPY_MODEL_62bfcb74512b457da754c40d4439f2b3"
            ],
            "layout": "IPY_MODEL_edc95d542bea4cfa8bad463fc7ae0e73"
          }
        },
        "eb08b69cdab44fb9a14290fb1c1ec35b": {
          "model_module": "@jupyter-widgets/controls",
          "model_name": "HTMLModel",
          "model_module_version": "1.5.0",
          "state": {
            "_dom_classes": [],
            "_model_module": "@jupyter-widgets/controls",
            "_model_module_version": "1.5.0",
            "_model_name": "HTMLModel",
            "_view_count": null,
            "_view_module": "@jupyter-widgets/controls",
            "_view_module_version": "1.5.0",
            "_view_name": "HTMLView",
            "description": "",
            "description_tooltip": null,
            "layout": "IPY_MODEL_4494f720ec8d44fa9bfac30811be73ab",
            "placeholder": "​",
            "style": "IPY_MODEL_ab457ae089f948e6af1ad4057705105a",
            "value": "generation_config.json: 100%"
          }
        },
        "baebc2ae46d34ae19f2c1a835f16abc3": {
          "model_module": "@jupyter-widgets/controls",
          "model_name": "FloatProgressModel",
          "model_module_version": "1.5.0",
          "state": {
            "_dom_classes": [],
            "_model_module": "@jupyter-widgets/controls",
            "_model_module_version": "1.5.0",
            "_model_name": "FloatProgressModel",
            "_view_count": null,
            "_view_module": "@jupyter-widgets/controls",
            "_view_module_version": "1.5.0",
            "_view_name": "ProgressView",
            "bar_style": "success",
            "description": "",
            "description_tooltip": null,
            "layout": "IPY_MODEL_8b1149b1d1df404db49725ef7fb68458",
            "max": 187,
            "min": 0,
            "orientation": "horizontal",
            "style": "IPY_MODEL_61cf88f3399a40dcaecb5fcc29cd4fe2",
            "value": 187
          }
        },
        "62bfcb74512b457da754c40d4439f2b3": {
          "model_module": "@jupyter-widgets/controls",
          "model_name": "HTMLModel",
          "model_module_version": "1.5.0",
          "state": {
            "_dom_classes": [],
            "_model_module": "@jupyter-widgets/controls",
            "_model_module_version": "1.5.0",
            "_model_name": "HTMLModel",
            "_view_count": null,
            "_view_module": "@jupyter-widgets/controls",
            "_view_module_version": "1.5.0",
            "_view_name": "HTMLView",
            "description": "",
            "description_tooltip": null,
            "layout": "IPY_MODEL_13e30e760ae843efac69a32677ce4ec8",
            "placeholder": "​",
            "style": "IPY_MODEL_6feeea8fa1764efe83d7ef543f7b594d",
            "value": " 187/187 [00:00&lt;00:00, 16.4kB/s]"
          }
        },
        "edc95d542bea4cfa8bad463fc7ae0e73": {
          "model_module": "@jupyter-widgets/base",
          "model_name": "LayoutModel",
          "model_module_version": "1.2.0",
          "state": {
            "_model_module": "@jupyter-widgets/base",
            "_model_module_version": "1.2.0",
            "_model_name": "LayoutModel",
            "_view_count": null,
            "_view_module": "@jupyter-widgets/base",
            "_view_module_version": "1.2.0",
            "_view_name": "LayoutView",
            "align_content": null,
            "align_items": null,
            "align_self": null,
            "border": null,
            "bottom": null,
            "display": null,
            "flex": null,
            "flex_flow": null,
            "grid_area": null,
            "grid_auto_columns": null,
            "grid_auto_flow": null,
            "grid_auto_rows": null,
            "grid_column": null,
            "grid_gap": null,
            "grid_row": null,
            "grid_template_areas": null,
            "grid_template_columns": null,
            "grid_template_rows": null,
            "height": null,
            "justify_content": null,
            "justify_items": null,
            "left": null,
            "margin": null,
            "max_height": null,
            "max_width": null,
            "min_height": null,
            "min_width": null,
            "object_fit": null,
            "object_position": null,
            "order": null,
            "overflow": null,
            "overflow_x": null,
            "overflow_y": null,
            "padding": null,
            "right": null,
            "top": null,
            "visibility": null,
            "width": null
          }
        },
        "4494f720ec8d44fa9bfac30811be73ab": {
          "model_module": "@jupyter-widgets/base",
          "model_name": "LayoutModel",
          "model_module_version": "1.2.0",
          "state": {
            "_model_module": "@jupyter-widgets/base",
            "_model_module_version": "1.2.0",
            "_model_name": "LayoutModel",
            "_view_count": null,
            "_view_module": "@jupyter-widgets/base",
            "_view_module_version": "1.2.0",
            "_view_name": "LayoutView",
            "align_content": null,
            "align_items": null,
            "align_self": null,
            "border": null,
            "bottom": null,
            "display": null,
            "flex": null,
            "flex_flow": null,
            "grid_area": null,
            "grid_auto_columns": null,
            "grid_auto_flow": null,
            "grid_auto_rows": null,
            "grid_column": null,
            "grid_gap": null,
            "grid_row": null,
            "grid_template_areas": null,
            "grid_template_columns": null,
            "grid_template_rows": null,
            "height": null,
            "justify_content": null,
            "justify_items": null,
            "left": null,
            "margin": null,
            "max_height": null,
            "max_width": null,
            "min_height": null,
            "min_width": null,
            "object_fit": null,
            "object_position": null,
            "order": null,
            "overflow": null,
            "overflow_x": null,
            "overflow_y": null,
            "padding": null,
            "right": null,
            "top": null,
            "visibility": null,
            "width": null
          }
        },
        "ab457ae089f948e6af1ad4057705105a": {
          "model_module": "@jupyter-widgets/controls",
          "model_name": "DescriptionStyleModel",
          "model_module_version": "1.5.0",
          "state": {
            "_model_module": "@jupyter-widgets/controls",
            "_model_module_version": "1.5.0",
            "_model_name": "DescriptionStyleModel",
            "_view_count": null,
            "_view_module": "@jupyter-widgets/base",
            "_view_module_version": "1.2.0",
            "_view_name": "StyleView",
            "description_width": ""
          }
        },
        "8b1149b1d1df404db49725ef7fb68458": {
          "model_module": "@jupyter-widgets/base",
          "model_name": "LayoutModel",
          "model_module_version": "1.2.0",
          "state": {
            "_model_module": "@jupyter-widgets/base",
            "_model_module_version": "1.2.0",
            "_model_name": "LayoutModel",
            "_view_count": null,
            "_view_module": "@jupyter-widgets/base",
            "_view_module_version": "1.2.0",
            "_view_name": "LayoutView",
            "align_content": null,
            "align_items": null,
            "align_self": null,
            "border": null,
            "bottom": null,
            "display": null,
            "flex": null,
            "flex_flow": null,
            "grid_area": null,
            "grid_auto_columns": null,
            "grid_auto_flow": null,
            "grid_auto_rows": null,
            "grid_column": null,
            "grid_gap": null,
            "grid_row": null,
            "grid_template_areas": null,
            "grid_template_columns": null,
            "grid_template_rows": null,
            "height": null,
            "justify_content": null,
            "justify_items": null,
            "left": null,
            "margin": null,
            "max_height": null,
            "max_width": null,
            "min_height": null,
            "min_width": null,
            "object_fit": null,
            "object_position": null,
            "order": null,
            "overflow": null,
            "overflow_x": null,
            "overflow_y": null,
            "padding": null,
            "right": null,
            "top": null,
            "visibility": null,
            "width": null
          }
        },
        "61cf88f3399a40dcaecb5fcc29cd4fe2": {
          "model_module": "@jupyter-widgets/controls",
          "model_name": "ProgressStyleModel",
          "model_module_version": "1.5.0",
          "state": {
            "_model_module": "@jupyter-widgets/controls",
            "_model_module_version": "1.5.0",
            "_model_name": "ProgressStyleModel",
            "_view_count": null,
            "_view_module": "@jupyter-widgets/base",
            "_view_module_version": "1.2.0",
            "_view_name": "StyleView",
            "bar_color": null,
            "description_width": ""
          }
        },
        "13e30e760ae843efac69a32677ce4ec8": {
          "model_module": "@jupyter-widgets/base",
          "model_name": "LayoutModel",
          "model_module_version": "1.2.0",
          "state": {
            "_model_module": "@jupyter-widgets/base",
            "_model_module_version": "1.2.0",
            "_model_name": "LayoutModel",
            "_view_count": null,
            "_view_module": "@jupyter-widgets/base",
            "_view_module_version": "1.2.0",
            "_view_name": "LayoutView",
            "align_content": null,
            "align_items": null,
            "align_self": null,
            "border": null,
            "bottom": null,
            "display": null,
            "flex": null,
            "flex_flow": null,
            "grid_area": null,
            "grid_auto_columns": null,
            "grid_auto_flow": null,
            "grid_auto_rows": null,
            "grid_column": null,
            "grid_gap": null,
            "grid_row": null,
            "grid_template_areas": null,
            "grid_template_columns": null,
            "grid_template_rows": null,
            "height": null,
            "justify_content": null,
            "justify_items": null,
            "left": null,
            "margin": null,
            "max_height": null,
            "max_width": null,
            "min_height": null,
            "min_width": null,
            "object_fit": null,
            "object_position": null,
            "order": null,
            "overflow": null,
            "overflow_x": null,
            "overflow_y": null,
            "padding": null,
            "right": null,
            "top": null,
            "visibility": null,
            "width": null
          }
        },
        "6feeea8fa1764efe83d7ef543f7b594d": {
          "model_module": "@jupyter-widgets/controls",
          "model_name": "DescriptionStyleModel",
          "model_module_version": "1.5.0",
          "state": {
            "_model_module": "@jupyter-widgets/controls",
            "_model_module_version": "1.5.0",
            "_model_name": "DescriptionStyleModel",
            "_view_count": null,
            "_view_module": "@jupyter-widgets/base",
            "_view_module_version": "1.2.0",
            "_view_name": "StyleView",
            "description_width": ""
          }
        },
        "086b5a179f7a4cb2bb0063dacd80550a": {
          "model_module": "@jupyter-widgets/controls",
          "model_name": "HBoxModel",
          "model_module_version": "1.5.0",
          "state": {
            "_dom_classes": [],
            "_model_module": "@jupyter-widgets/controls",
            "_model_module_version": "1.5.0",
            "_model_name": "HBoxModel",
            "_view_count": null,
            "_view_module": "@jupyter-widgets/controls",
            "_view_module_version": "1.5.0",
            "_view_name": "HBoxView",
            "box_style": "",
            "children": [
              "IPY_MODEL_4fe3fee24f5748649aa9afbdb8b854f5",
              "IPY_MODEL_44f6373faa45498dafdf407d8328f1dd",
              "IPY_MODEL_5e373afd3e8d4730a0515bc3c2940fdc"
            ],
            "layout": "IPY_MODEL_9ebd3a1084c54ef9a4e6eda7be6db27d"
          }
        },
        "4fe3fee24f5748649aa9afbdb8b854f5": {
          "model_module": "@jupyter-widgets/controls",
          "model_name": "HTMLModel",
          "model_module_version": "1.5.0",
          "state": {
            "_dom_classes": [],
            "_model_module": "@jupyter-widgets/controls",
            "_model_module_version": "1.5.0",
            "_model_name": "HTMLModel",
            "_view_count": null,
            "_view_module": "@jupyter-widgets/controls",
            "_view_module_version": "1.5.0",
            "_view_name": "HTMLView",
            "description": "",
            "description_tooltip": null,
            "layout": "IPY_MODEL_cc4e31128c1c4b849acbefdc2702793f",
            "placeholder": "​",
            "style": "IPY_MODEL_3fde90a9846749d99bbd85e97abddc16",
            "value": "tokenizer_config.json: 100%"
          }
        },
        "44f6373faa45498dafdf407d8328f1dd": {
          "model_module": "@jupyter-widgets/controls",
          "model_name": "FloatProgressModel",
          "model_module_version": "1.5.0",
          "state": {
            "_dom_classes": [],
            "_model_module": "@jupyter-widgets/controls",
            "_model_module_version": "1.5.0",
            "_model_name": "FloatProgressModel",
            "_view_count": null,
            "_view_module": "@jupyter-widgets/controls",
            "_view_module_version": "1.5.0",
            "_view_name": "ProgressView",
            "bar_style": "success",
            "description": "",
            "description_tooltip": null,
            "layout": "IPY_MODEL_67dc6cc6f54e4829a1fcec14f39c1fa8",
            "max": 50977,
            "min": 0,
            "orientation": "horizontal",
            "style": "IPY_MODEL_28bf251cfdd54a9192792b692bdeb210",
            "value": 50977
          }
        },
        "5e373afd3e8d4730a0515bc3c2940fdc": {
          "model_module": "@jupyter-widgets/controls",
          "model_name": "HTMLModel",
          "model_module_version": "1.5.0",
          "state": {
            "_dom_classes": [],
            "_model_module": "@jupyter-widgets/controls",
            "_model_module_version": "1.5.0",
            "_model_name": "HTMLModel",
            "_view_count": null,
            "_view_module": "@jupyter-widgets/controls",
            "_view_module_version": "1.5.0",
            "_view_name": "HTMLView",
            "description": "",
            "description_tooltip": null,
            "layout": "IPY_MODEL_77cc823a4d6c4386bed43bef96497c99",
            "placeholder": "​",
            "style": "IPY_MODEL_defb29da31a54010aa25fbf863c4f202",
            "value": " 51.0k/51.0k [00:00&lt;00:00, 3.44MB/s]"
          }
        },
        "9ebd3a1084c54ef9a4e6eda7be6db27d": {
          "model_module": "@jupyter-widgets/base",
          "model_name": "LayoutModel",
          "model_module_version": "1.2.0",
          "state": {
            "_model_module": "@jupyter-widgets/base",
            "_model_module_version": "1.2.0",
            "_model_name": "LayoutModel",
            "_view_count": null,
            "_view_module": "@jupyter-widgets/base",
            "_view_module_version": "1.2.0",
            "_view_name": "LayoutView",
            "align_content": null,
            "align_items": null,
            "align_self": null,
            "border": null,
            "bottom": null,
            "display": null,
            "flex": null,
            "flex_flow": null,
            "grid_area": null,
            "grid_auto_columns": null,
            "grid_auto_flow": null,
            "grid_auto_rows": null,
            "grid_column": null,
            "grid_gap": null,
            "grid_row": null,
            "grid_template_areas": null,
            "grid_template_columns": null,
            "grid_template_rows": null,
            "height": null,
            "justify_content": null,
            "justify_items": null,
            "left": null,
            "margin": null,
            "max_height": null,
            "max_width": null,
            "min_height": null,
            "min_width": null,
            "object_fit": null,
            "object_position": null,
            "order": null,
            "overflow": null,
            "overflow_x": null,
            "overflow_y": null,
            "padding": null,
            "right": null,
            "top": null,
            "visibility": null,
            "width": null
          }
        },
        "cc4e31128c1c4b849acbefdc2702793f": {
          "model_module": "@jupyter-widgets/base",
          "model_name": "LayoutModel",
          "model_module_version": "1.2.0",
          "state": {
            "_model_module": "@jupyter-widgets/base",
            "_model_module_version": "1.2.0",
            "_model_name": "LayoutModel",
            "_view_count": null,
            "_view_module": "@jupyter-widgets/base",
            "_view_module_version": "1.2.0",
            "_view_name": "LayoutView",
            "align_content": null,
            "align_items": null,
            "align_self": null,
            "border": null,
            "bottom": null,
            "display": null,
            "flex": null,
            "flex_flow": null,
            "grid_area": null,
            "grid_auto_columns": null,
            "grid_auto_flow": null,
            "grid_auto_rows": null,
            "grid_column": null,
            "grid_gap": null,
            "grid_row": null,
            "grid_template_areas": null,
            "grid_template_columns": null,
            "grid_template_rows": null,
            "height": null,
            "justify_content": null,
            "justify_items": null,
            "left": null,
            "margin": null,
            "max_height": null,
            "max_width": null,
            "min_height": null,
            "min_width": null,
            "object_fit": null,
            "object_position": null,
            "order": null,
            "overflow": null,
            "overflow_x": null,
            "overflow_y": null,
            "padding": null,
            "right": null,
            "top": null,
            "visibility": null,
            "width": null
          }
        },
        "3fde90a9846749d99bbd85e97abddc16": {
          "model_module": "@jupyter-widgets/controls",
          "model_name": "DescriptionStyleModel",
          "model_module_version": "1.5.0",
          "state": {
            "_model_module": "@jupyter-widgets/controls",
            "_model_module_version": "1.5.0",
            "_model_name": "DescriptionStyleModel",
            "_view_count": null,
            "_view_module": "@jupyter-widgets/base",
            "_view_module_version": "1.2.0",
            "_view_name": "StyleView",
            "description_width": ""
          }
        },
        "67dc6cc6f54e4829a1fcec14f39c1fa8": {
          "model_module": "@jupyter-widgets/base",
          "model_name": "LayoutModel",
          "model_module_version": "1.2.0",
          "state": {
            "_model_module": "@jupyter-widgets/base",
            "_model_module_version": "1.2.0",
            "_model_name": "LayoutModel",
            "_view_count": null,
            "_view_module": "@jupyter-widgets/base",
            "_view_module_version": "1.2.0",
            "_view_name": "LayoutView",
            "align_content": null,
            "align_items": null,
            "align_self": null,
            "border": null,
            "bottom": null,
            "display": null,
            "flex": null,
            "flex_flow": null,
            "grid_area": null,
            "grid_auto_columns": null,
            "grid_auto_flow": null,
            "grid_auto_rows": null,
            "grid_column": null,
            "grid_gap": null,
            "grid_row": null,
            "grid_template_areas": null,
            "grid_template_columns": null,
            "grid_template_rows": null,
            "height": null,
            "justify_content": null,
            "justify_items": null,
            "left": null,
            "margin": null,
            "max_height": null,
            "max_width": null,
            "min_height": null,
            "min_width": null,
            "object_fit": null,
            "object_position": null,
            "order": null,
            "overflow": null,
            "overflow_x": null,
            "overflow_y": null,
            "padding": null,
            "right": null,
            "top": null,
            "visibility": null,
            "width": null
          }
        },
        "28bf251cfdd54a9192792b692bdeb210": {
          "model_module": "@jupyter-widgets/controls",
          "model_name": "ProgressStyleModel",
          "model_module_version": "1.5.0",
          "state": {
            "_model_module": "@jupyter-widgets/controls",
            "_model_module_version": "1.5.0",
            "_model_name": "ProgressStyleModel",
            "_view_count": null,
            "_view_module": "@jupyter-widgets/base",
            "_view_module_version": "1.2.0",
            "_view_name": "StyleView",
            "bar_color": null,
            "description_width": ""
          }
        },
        "77cc823a4d6c4386bed43bef96497c99": {
          "model_module": "@jupyter-widgets/base",
          "model_name": "LayoutModel",
          "model_module_version": "1.2.0",
          "state": {
            "_model_module": "@jupyter-widgets/base",
            "_model_module_version": "1.2.0",
            "_model_name": "LayoutModel",
            "_view_count": null,
            "_view_module": "@jupyter-widgets/base",
            "_view_module_version": "1.2.0",
            "_view_name": "LayoutView",
            "align_content": null,
            "align_items": null,
            "align_self": null,
            "border": null,
            "bottom": null,
            "display": null,
            "flex": null,
            "flex_flow": null,
            "grid_area": null,
            "grid_auto_columns": null,
            "grid_auto_flow": null,
            "grid_auto_rows": null,
            "grid_column": null,
            "grid_gap": null,
            "grid_row": null,
            "grid_template_areas": null,
            "grid_template_columns": null,
            "grid_template_rows": null,
            "height": null,
            "justify_content": null,
            "justify_items": null,
            "left": null,
            "margin": null,
            "max_height": null,
            "max_width": null,
            "min_height": null,
            "min_width": null,
            "object_fit": null,
            "object_position": null,
            "order": null,
            "overflow": null,
            "overflow_x": null,
            "overflow_y": null,
            "padding": null,
            "right": null,
            "top": null,
            "visibility": null,
            "width": null
          }
        },
        "defb29da31a54010aa25fbf863c4f202": {
          "model_module": "@jupyter-widgets/controls",
          "model_name": "DescriptionStyleModel",
          "model_module_version": "1.5.0",
          "state": {
            "_model_module": "@jupyter-widgets/controls",
            "_model_module_version": "1.5.0",
            "_model_name": "DescriptionStyleModel",
            "_view_count": null,
            "_view_module": "@jupyter-widgets/base",
            "_view_module_version": "1.2.0",
            "_view_name": "StyleView",
            "description_width": ""
          }
        },
        "2df0bc1e9882453eb042237029f277fd": {
          "model_module": "@jupyter-widgets/controls",
          "model_name": "HBoxModel",
          "model_module_version": "1.5.0",
          "state": {
            "_dom_classes": [],
            "_model_module": "@jupyter-widgets/controls",
            "_model_module_version": "1.5.0",
            "_model_name": "HBoxModel",
            "_view_count": null,
            "_view_module": "@jupyter-widgets/controls",
            "_view_module_version": "1.5.0",
            "_view_name": "HBoxView",
            "box_style": "",
            "children": [
              "IPY_MODEL_fa5505f98cd64794985ee87e69874ee8",
              "IPY_MODEL_5ec80d5c14474df0a268040122e87a98",
              "IPY_MODEL_bf7e5eb3d472426b88d345247d65692f"
            ],
            "layout": "IPY_MODEL_6fd7d248281c467384bf64ffd203240c"
          }
        },
        "fa5505f98cd64794985ee87e69874ee8": {
          "model_module": "@jupyter-widgets/controls",
          "model_name": "HTMLModel",
          "model_module_version": "1.5.0",
          "state": {
            "_dom_classes": [],
            "_model_module": "@jupyter-widgets/controls",
            "_model_module_version": "1.5.0",
            "_model_name": "HTMLModel",
            "_view_count": null,
            "_view_module": "@jupyter-widgets/controls",
            "_view_module_version": "1.5.0",
            "_view_name": "HTMLView",
            "description": "",
            "description_tooltip": null,
            "layout": "IPY_MODEL_336677cf025e4f21890065111d298586",
            "placeholder": "​",
            "style": "IPY_MODEL_e8237036de174779b0ca9ec7533bcc75",
            "value": "tokenizer.json: 100%"
          }
        },
        "5ec80d5c14474df0a268040122e87a98": {
          "model_module": "@jupyter-widgets/controls",
          "model_name": "FloatProgressModel",
          "model_module_version": "1.5.0",
          "state": {
            "_dom_classes": [],
            "_model_module": "@jupyter-widgets/controls",
            "_model_module_version": "1.5.0",
            "_model_name": "FloatProgressModel",
            "_view_count": null,
            "_view_module": "@jupyter-widgets/controls",
            "_view_module_version": "1.5.0",
            "_view_name": "ProgressView",
            "bar_style": "success",
            "description": "",
            "description_tooltip": null,
            "layout": "IPY_MODEL_df31b70e5eff43bc8184a2a8ed2d9d39",
            "max": 9085698,
            "min": 0,
            "orientation": "horizontal",
            "style": "IPY_MODEL_0c5cba8c4cfb484fa5d49831d76c597f",
            "value": 9085698
          }
        },
        "bf7e5eb3d472426b88d345247d65692f": {
          "model_module": "@jupyter-widgets/controls",
          "model_name": "HTMLModel",
          "model_module_version": "1.5.0",
          "state": {
            "_dom_classes": [],
            "_model_module": "@jupyter-widgets/controls",
            "_model_module_version": "1.5.0",
            "_model_name": "HTMLModel",
            "_view_count": null,
            "_view_module": "@jupyter-widgets/controls",
            "_view_module_version": "1.5.0",
            "_view_name": "HTMLView",
            "description": "",
            "description_tooltip": null,
            "layout": "IPY_MODEL_6e63176b52234c359b621f0ae36a5d04",
            "placeholder": "​",
            "style": "IPY_MODEL_1a7cb3793ee84c0c96b06f5a4b23ea25",
            "value": " 9.09M/9.09M [00:00&lt;00:00, 28.4MB/s]"
          }
        },
        "6fd7d248281c467384bf64ffd203240c": {
          "model_module": "@jupyter-widgets/base",
          "model_name": "LayoutModel",
          "model_module_version": "1.2.0",
          "state": {
            "_model_module": "@jupyter-widgets/base",
            "_model_module_version": "1.2.0",
            "_model_name": "LayoutModel",
            "_view_count": null,
            "_view_module": "@jupyter-widgets/base",
            "_view_module_version": "1.2.0",
            "_view_name": "LayoutView",
            "align_content": null,
            "align_items": null,
            "align_self": null,
            "border": null,
            "bottom": null,
            "display": null,
            "flex": null,
            "flex_flow": null,
            "grid_area": null,
            "grid_auto_columns": null,
            "grid_auto_flow": null,
            "grid_auto_rows": null,
            "grid_column": null,
            "grid_gap": null,
            "grid_row": null,
            "grid_template_areas": null,
            "grid_template_columns": null,
            "grid_template_rows": null,
            "height": null,
            "justify_content": null,
            "justify_items": null,
            "left": null,
            "margin": null,
            "max_height": null,
            "max_width": null,
            "min_height": null,
            "min_width": null,
            "object_fit": null,
            "object_position": null,
            "order": null,
            "overflow": null,
            "overflow_x": null,
            "overflow_y": null,
            "padding": null,
            "right": null,
            "top": null,
            "visibility": null,
            "width": null
          }
        },
        "336677cf025e4f21890065111d298586": {
          "model_module": "@jupyter-widgets/base",
          "model_name": "LayoutModel",
          "model_module_version": "1.2.0",
          "state": {
            "_model_module": "@jupyter-widgets/base",
            "_model_module_version": "1.2.0",
            "_model_name": "LayoutModel",
            "_view_count": null,
            "_view_module": "@jupyter-widgets/base",
            "_view_module_version": "1.2.0",
            "_view_name": "LayoutView",
            "align_content": null,
            "align_items": null,
            "align_self": null,
            "border": null,
            "bottom": null,
            "display": null,
            "flex": null,
            "flex_flow": null,
            "grid_area": null,
            "grid_auto_columns": null,
            "grid_auto_flow": null,
            "grid_auto_rows": null,
            "grid_column": null,
            "grid_gap": null,
            "grid_row": null,
            "grid_template_areas": null,
            "grid_template_columns": null,
            "grid_template_rows": null,
            "height": null,
            "justify_content": null,
            "justify_items": null,
            "left": null,
            "margin": null,
            "max_height": null,
            "max_width": null,
            "min_height": null,
            "min_width": null,
            "object_fit": null,
            "object_position": null,
            "order": null,
            "overflow": null,
            "overflow_x": null,
            "overflow_y": null,
            "padding": null,
            "right": null,
            "top": null,
            "visibility": null,
            "width": null
          }
        },
        "e8237036de174779b0ca9ec7533bcc75": {
          "model_module": "@jupyter-widgets/controls",
          "model_name": "DescriptionStyleModel",
          "model_module_version": "1.5.0",
          "state": {
            "_model_module": "@jupyter-widgets/controls",
            "_model_module_version": "1.5.0",
            "_model_name": "DescriptionStyleModel",
            "_view_count": null,
            "_view_module": "@jupyter-widgets/base",
            "_view_module_version": "1.2.0",
            "_view_name": "StyleView",
            "description_width": ""
          }
        },
        "df31b70e5eff43bc8184a2a8ed2d9d39": {
          "model_module": "@jupyter-widgets/base",
          "model_name": "LayoutModel",
          "model_module_version": "1.2.0",
          "state": {
            "_model_module": "@jupyter-widgets/base",
            "_model_module_version": "1.2.0",
            "_model_name": "LayoutModel",
            "_view_count": null,
            "_view_module": "@jupyter-widgets/base",
            "_view_module_version": "1.2.0",
            "_view_name": "LayoutView",
            "align_content": null,
            "align_items": null,
            "align_self": null,
            "border": null,
            "bottom": null,
            "display": null,
            "flex": null,
            "flex_flow": null,
            "grid_area": null,
            "grid_auto_columns": null,
            "grid_auto_flow": null,
            "grid_auto_rows": null,
            "grid_column": null,
            "grid_gap": null,
            "grid_row": null,
            "grid_template_areas": null,
            "grid_template_columns": null,
            "grid_template_rows": null,
            "height": null,
            "justify_content": null,
            "justify_items": null,
            "left": null,
            "margin": null,
            "max_height": null,
            "max_width": null,
            "min_height": null,
            "min_width": null,
            "object_fit": null,
            "object_position": null,
            "order": null,
            "overflow": null,
            "overflow_x": null,
            "overflow_y": null,
            "padding": null,
            "right": null,
            "top": null,
            "visibility": null,
            "width": null
          }
        },
        "0c5cba8c4cfb484fa5d49831d76c597f": {
          "model_module": "@jupyter-widgets/controls",
          "model_name": "ProgressStyleModel",
          "model_module_version": "1.5.0",
          "state": {
            "_model_module": "@jupyter-widgets/controls",
            "_model_module_version": "1.5.0",
            "_model_name": "ProgressStyleModel",
            "_view_count": null,
            "_view_module": "@jupyter-widgets/base",
            "_view_module_version": "1.2.0",
            "_view_name": "StyleView",
            "bar_color": null,
            "description_width": ""
          }
        },
        "6e63176b52234c359b621f0ae36a5d04": {
          "model_module": "@jupyter-widgets/base",
          "model_name": "LayoutModel",
          "model_module_version": "1.2.0",
          "state": {
            "_model_module": "@jupyter-widgets/base",
            "_model_module_version": "1.2.0",
            "_model_name": "LayoutModel",
            "_view_count": null,
            "_view_module": "@jupyter-widgets/base",
            "_view_module_version": "1.2.0",
            "_view_name": "LayoutView",
            "align_content": null,
            "align_items": null,
            "align_self": null,
            "border": null,
            "bottom": null,
            "display": null,
            "flex": null,
            "flex_flow": null,
            "grid_area": null,
            "grid_auto_columns": null,
            "grid_auto_flow": null,
            "grid_auto_rows": null,
            "grid_column": null,
            "grid_gap": null,
            "grid_row": null,
            "grid_template_areas": null,
            "grid_template_columns": null,
            "grid_template_rows": null,
            "height": null,
            "justify_content": null,
            "justify_items": null,
            "left": null,
            "margin": null,
            "max_height": null,
            "max_width": null,
            "min_height": null,
            "min_width": null,
            "object_fit": null,
            "object_position": null,
            "order": null,
            "overflow": null,
            "overflow_x": null,
            "overflow_y": null,
            "padding": null,
            "right": null,
            "top": null,
            "visibility": null,
            "width": null
          }
        },
        "1a7cb3793ee84c0c96b06f5a4b23ea25": {
          "model_module": "@jupyter-widgets/controls",
          "model_name": "DescriptionStyleModel",
          "model_module_version": "1.5.0",
          "state": {
            "_model_module": "@jupyter-widgets/controls",
            "_model_module_version": "1.5.0",
            "_model_name": "DescriptionStyleModel",
            "_view_count": null,
            "_view_module": "@jupyter-widgets/base",
            "_view_module_version": "1.2.0",
            "_view_name": "StyleView",
            "description_width": ""
          }
        },
        "67425e2232bd4f978c25ef415a3226b5": {
          "model_module": "@jupyter-widgets/controls",
          "model_name": "HBoxModel",
          "model_module_version": "1.5.0",
          "state": {
            "_dom_classes": [],
            "_model_module": "@jupyter-widgets/controls",
            "_model_module_version": "1.5.0",
            "_model_name": "HBoxModel",
            "_view_count": null,
            "_view_module": "@jupyter-widgets/controls",
            "_view_module_version": "1.5.0",
            "_view_name": "HBoxView",
            "box_style": "",
            "children": [
              "IPY_MODEL_fd60d5143936400cb5e60afcbd74b175",
              "IPY_MODEL_906d75e39ded4a668e6a38d23aa01a64",
              "IPY_MODEL_1bfb5523aa1b4d3696d4b7297fb1a8f9"
            ],
            "layout": "IPY_MODEL_9a35662af2a94a0db3010759b0b5ee3c"
          }
        },
        "fd60d5143936400cb5e60afcbd74b175": {
          "model_module": "@jupyter-widgets/controls",
          "model_name": "HTMLModel",
          "model_module_version": "1.5.0",
          "state": {
            "_dom_classes": [],
            "_model_module": "@jupyter-widgets/controls",
            "_model_module_version": "1.5.0",
            "_model_name": "HTMLModel",
            "_view_count": null,
            "_view_module": "@jupyter-widgets/controls",
            "_view_module_version": "1.5.0",
            "_view_name": "HTMLView",
            "description": "",
            "description_tooltip": null,
            "layout": "IPY_MODEL_ecd978e858694ee59f02fcd50e96a9da",
            "placeholder": "​",
            "style": "IPY_MODEL_15d90d7aeba5415da7fe284aee4b2507",
            "value": "special_tokens_map.json: 100%"
          }
        },
        "906d75e39ded4a668e6a38d23aa01a64": {
          "model_module": "@jupyter-widgets/controls",
          "model_name": "FloatProgressModel",
          "model_module_version": "1.5.0",
          "state": {
            "_dom_classes": [],
            "_model_module": "@jupyter-widgets/controls",
            "_model_module_version": "1.5.0",
            "_model_name": "FloatProgressModel",
            "_view_count": null,
            "_view_module": "@jupyter-widgets/controls",
            "_view_module_version": "1.5.0",
            "_view_name": "ProgressView",
            "bar_style": "success",
            "description": "",
            "description_tooltip": null,
            "layout": "IPY_MODEL_fa48cdf86fe94897a22e19faa676d3e3",
            "max": 73,
            "min": 0,
            "orientation": "horizontal",
            "style": "IPY_MODEL_7b1d2e2e734d4931a7fbb4909af961bd",
            "value": 73
          }
        },
        "1bfb5523aa1b4d3696d4b7297fb1a8f9": {
          "model_module": "@jupyter-widgets/controls",
          "model_name": "HTMLModel",
          "model_module_version": "1.5.0",
          "state": {
            "_dom_classes": [],
            "_model_module": "@jupyter-widgets/controls",
            "_model_module_version": "1.5.0",
            "_model_name": "HTMLModel",
            "_view_count": null,
            "_view_module": "@jupyter-widgets/controls",
            "_view_module_version": "1.5.0",
            "_view_name": "HTMLView",
            "description": "",
            "description_tooltip": null,
            "layout": "IPY_MODEL_538c2812c5f84b0eb2514b78eff0e5af",
            "placeholder": "​",
            "style": "IPY_MODEL_5906269383524deb82195f05d4bd2cc9",
            "value": " 73.0/73.0 [00:00&lt;00:00, 5.85kB/s]"
          }
        },
        "9a35662af2a94a0db3010759b0b5ee3c": {
          "model_module": "@jupyter-widgets/base",
          "model_name": "LayoutModel",
          "model_module_version": "1.2.0",
          "state": {
            "_model_module": "@jupyter-widgets/base",
            "_model_module_version": "1.2.0",
            "_model_name": "LayoutModel",
            "_view_count": null,
            "_view_module": "@jupyter-widgets/base",
            "_view_module_version": "1.2.0",
            "_view_name": "LayoutView",
            "align_content": null,
            "align_items": null,
            "align_self": null,
            "border": null,
            "bottom": null,
            "display": null,
            "flex": null,
            "flex_flow": null,
            "grid_area": null,
            "grid_auto_columns": null,
            "grid_auto_flow": null,
            "grid_auto_rows": null,
            "grid_column": null,
            "grid_gap": null,
            "grid_row": null,
            "grid_template_areas": null,
            "grid_template_columns": null,
            "grid_template_rows": null,
            "height": null,
            "justify_content": null,
            "justify_items": null,
            "left": null,
            "margin": null,
            "max_height": null,
            "max_width": null,
            "min_height": null,
            "min_width": null,
            "object_fit": null,
            "object_position": null,
            "order": null,
            "overflow": null,
            "overflow_x": null,
            "overflow_y": null,
            "padding": null,
            "right": null,
            "top": null,
            "visibility": null,
            "width": null
          }
        },
        "ecd978e858694ee59f02fcd50e96a9da": {
          "model_module": "@jupyter-widgets/base",
          "model_name": "LayoutModel",
          "model_module_version": "1.2.0",
          "state": {
            "_model_module": "@jupyter-widgets/base",
            "_model_module_version": "1.2.0",
            "_model_name": "LayoutModel",
            "_view_count": null,
            "_view_module": "@jupyter-widgets/base",
            "_view_module_version": "1.2.0",
            "_view_name": "LayoutView",
            "align_content": null,
            "align_items": null,
            "align_self": null,
            "border": null,
            "bottom": null,
            "display": null,
            "flex": null,
            "flex_flow": null,
            "grid_area": null,
            "grid_auto_columns": null,
            "grid_auto_flow": null,
            "grid_auto_rows": null,
            "grid_column": null,
            "grid_gap": null,
            "grid_row": null,
            "grid_template_areas": null,
            "grid_template_columns": null,
            "grid_template_rows": null,
            "height": null,
            "justify_content": null,
            "justify_items": null,
            "left": null,
            "margin": null,
            "max_height": null,
            "max_width": null,
            "min_height": null,
            "min_width": null,
            "object_fit": null,
            "object_position": null,
            "order": null,
            "overflow": null,
            "overflow_x": null,
            "overflow_y": null,
            "padding": null,
            "right": null,
            "top": null,
            "visibility": null,
            "width": null
          }
        },
        "15d90d7aeba5415da7fe284aee4b2507": {
          "model_module": "@jupyter-widgets/controls",
          "model_name": "DescriptionStyleModel",
          "model_module_version": "1.5.0",
          "state": {
            "_model_module": "@jupyter-widgets/controls",
            "_model_module_version": "1.5.0",
            "_model_name": "DescriptionStyleModel",
            "_view_count": null,
            "_view_module": "@jupyter-widgets/base",
            "_view_module_version": "1.2.0",
            "_view_name": "StyleView",
            "description_width": ""
          }
        },
        "fa48cdf86fe94897a22e19faa676d3e3": {
          "model_module": "@jupyter-widgets/base",
          "model_name": "LayoutModel",
          "model_module_version": "1.2.0",
          "state": {
            "_model_module": "@jupyter-widgets/base",
            "_model_module_version": "1.2.0",
            "_model_name": "LayoutModel",
            "_view_count": null,
            "_view_module": "@jupyter-widgets/base",
            "_view_module_version": "1.2.0",
            "_view_name": "LayoutView",
            "align_content": null,
            "align_items": null,
            "align_self": null,
            "border": null,
            "bottom": null,
            "display": null,
            "flex": null,
            "flex_flow": null,
            "grid_area": null,
            "grid_auto_columns": null,
            "grid_auto_flow": null,
            "grid_auto_rows": null,
            "grid_column": null,
            "grid_gap": null,
            "grid_row": null,
            "grid_template_areas": null,
            "grid_template_columns": null,
            "grid_template_rows": null,
            "height": null,
            "justify_content": null,
            "justify_items": null,
            "left": null,
            "margin": null,
            "max_height": null,
            "max_width": null,
            "min_height": null,
            "min_width": null,
            "object_fit": null,
            "object_position": null,
            "order": null,
            "overflow": null,
            "overflow_x": null,
            "overflow_y": null,
            "padding": null,
            "right": null,
            "top": null,
            "visibility": null,
            "width": null
          }
        },
        "7b1d2e2e734d4931a7fbb4909af961bd": {
          "model_module": "@jupyter-widgets/controls",
          "model_name": "ProgressStyleModel",
          "model_module_version": "1.5.0",
          "state": {
            "_model_module": "@jupyter-widgets/controls",
            "_model_module_version": "1.5.0",
            "_model_name": "ProgressStyleModel",
            "_view_count": null,
            "_view_module": "@jupyter-widgets/base",
            "_view_module_version": "1.2.0",
            "_view_name": "StyleView",
            "bar_color": null,
            "description_width": ""
          }
        },
        "538c2812c5f84b0eb2514b78eff0e5af": {
          "model_module": "@jupyter-widgets/base",
          "model_name": "LayoutModel",
          "model_module_version": "1.2.0",
          "state": {
            "_model_module": "@jupyter-widgets/base",
            "_model_module_version": "1.2.0",
            "_model_name": "LayoutModel",
            "_view_count": null,
            "_view_module": "@jupyter-widgets/base",
            "_view_module_version": "1.2.0",
            "_view_name": "LayoutView",
            "align_content": null,
            "align_items": null,
            "align_self": null,
            "border": null,
            "bottom": null,
            "display": null,
            "flex": null,
            "flex_flow": null,
            "grid_area": null,
            "grid_auto_columns": null,
            "grid_auto_flow": null,
            "grid_auto_rows": null,
            "grid_column": null,
            "grid_gap": null,
            "grid_row": null,
            "grid_template_areas": null,
            "grid_template_columns": null,
            "grid_template_rows": null,
            "height": null,
            "justify_content": null,
            "justify_items": null,
            "left": null,
            "margin": null,
            "max_height": null,
            "max_width": null,
            "min_height": null,
            "min_width": null,
            "object_fit": null,
            "object_position": null,
            "order": null,
            "overflow": null,
            "overflow_x": null,
            "overflow_y": null,
            "padding": null,
            "right": null,
            "top": null,
            "visibility": null,
            "width": null
          }
        },
        "5906269383524deb82195f05d4bd2cc9": {
          "model_module": "@jupyter-widgets/controls",
          "model_name": "DescriptionStyleModel",
          "model_module_version": "1.5.0",
          "state": {
            "_model_module": "@jupyter-widgets/controls",
            "_model_module_version": "1.5.0",
            "_model_name": "DescriptionStyleModel",
            "_view_count": null,
            "_view_module": "@jupyter-widgets/base",
            "_view_module_version": "1.2.0",
            "_view_name": "StyleView",
            "description_width": ""
          }
        }
      }
    }
  },
  "cells": [
    {
      "cell_type": "markdown",
      "metadata": {
        "id": "view-in-github",
        "colab_type": "text"
      },
      "source": [
        "<a href=\"https://colab.research.google.com/github/jgmsgabriel/formacao_LLM/blob/main/Joao_Curso_LLMs_RAG.ipynb\" target=\"_parent\"><img src=\"https://colab.research.google.com/assets/colab-badge.svg\" alt=\"Open In Colab\"/></a>"
      ]
    },
    {
      "cell_type": "code",
      "execution_count": null,
      "metadata": {
        "colab": {
          "base_uri": "https://localhost:8080/"
        },
        "id": "dUNRT1KMqoQw",
        "outputId": "0d68617d-750b-4242-ece6-cb497561a930"
      },
      "outputs": [
        {
          "output_type": "stream",
          "name": "stdout",
          "text": [
            "\u001b[2K   \u001b[90m━━━━━━━━━━━━━━━━━━━━━━━━━━━━━━━━━━━━━━━━\u001b[0m \u001b[32m69.1/69.1 MB\u001b[0m \u001b[31m7.6 MB/s\u001b[0m eta \u001b[36m0:00:00\u001b[0m\n",
            "\u001b[2K     \u001b[90m━━━━━━━━━━━━━━━━━━━━━━━━━━━━━━━━━━━━━━━━\u001b[0m \u001b[32m67.3/67.3 kB\u001b[0m \u001b[31m4.0 MB/s\u001b[0m eta \u001b[36m0:00:00\u001b[0m\n",
            "\u001b[?25h  Installing build dependencies ... \u001b[?25l\u001b[?25hdone\n",
            "  Getting requirements to build wheel ... \u001b[?25l\u001b[?25hdone\n",
            "  Preparing metadata (pyproject.toml) ... \u001b[?25l\u001b[?25hdone\n",
            "\u001b[2K     \u001b[90m━━━━━━━━━━━━━━━━━━━━━━━━━━━━━━━━━━━━━━━━\u001b[0m \u001b[32m44.4/44.4 kB\u001b[0m \u001b[31m3.5 MB/s\u001b[0m eta \u001b[36m0:00:00\u001b[0m\n",
            "\u001b[2K     \u001b[90m━━━━━━━━━━━━━━━━━━━━━━━━━━━━━━━━━━━━━━━━\u001b[0m \u001b[32m44.4/44.4 kB\u001b[0m \u001b[31m3.8 MB/s\u001b[0m eta \u001b[36m0:00:00\u001b[0m\n",
            "\u001b[2K     \u001b[90m━━━━━━━━━━━━━━━━━━━━━━━━━━━━━━━━━━━━━━━━\u001b[0m \u001b[32m43.5/43.5 kB\u001b[0m \u001b[31m3.0 MB/s\u001b[0m eta \u001b[36m0:00:00\u001b[0m\n",
            "\u001b[2K     \u001b[90m━━━━━━━━━━━━━━━━━━━━━━━━━━━━━━━━━━━━━━━━\u001b[0m \u001b[32m44.1/44.1 kB\u001b[0m \u001b[31m3.4 MB/s\u001b[0m eta \u001b[36m0:00:00\u001b[0m\n",
            "\u001b[2K   \u001b[90m━━━━━━━━━━━━━━━━━━━━━━━━━━━━━━━━━━━━━━━━\u001b[0m \u001b[32m2.5/2.5 MB\u001b[0m \u001b[31m43.4 MB/s\u001b[0m eta \u001b[36m0:00:00\u001b[0m\n",
            "\u001b[2K   \u001b[90m━━━━━━━━━━━━━━━━━━━━━━━━━━━━━━━━━━━━━━━━\u001b[0m \u001b[32m1.0/1.0 MB\u001b[0m \u001b[31m40.0 MB/s\u001b[0m eta \u001b[36m0:00:00\u001b[0m\n",
            "\u001b[2K   \u001b[90m━━━━━━━━━━━━━━━━━━━━━━━━━━━━━━━━━━━━━━━━\u001b[0m \u001b[32m628.3/628.3 kB\u001b[0m \u001b[31m39.8 MB/s\u001b[0m eta \u001b[36m0:00:00\u001b[0m\n",
            "\u001b[2K   \u001b[90m━━━━━━━━━━━━━━━━━━━━━━━━━━━━━━━━━━━━━━━━\u001b[0m \u001b[32m2.4/2.4 MB\u001b[0m \u001b[31m42.6 MB/s\u001b[0m eta \u001b[36m0:00:00\u001b[0m\n",
            "\u001b[2K   \u001b[90m━━━━━━━━━━━━━━━━━━━━━━━━━━━━━━━━━━━━━━━━\u001b[0m \u001b[32m94.8/94.8 kB\u001b[0m \u001b[31m8.1 MB/s\u001b[0m eta \u001b[36m0:00:00\u001b[0m\n",
            "\u001b[2K   \u001b[90m━━━━━━━━━━━━━━━━━━━━━━━━━━━━━━━━━━━━━━━━\u001b[0m \u001b[32m412.2/412.2 kB\u001b[0m \u001b[31m25.6 MB/s\u001b[0m eta \u001b[36m0:00:00\u001b[0m\n",
            "\u001b[2K   \u001b[90m━━━━━━━━━━━━━━━━━━━━━━━━━━━━━━━━━━━━━━━━\u001b[0m \u001b[32m3.0/3.0 MB\u001b[0m \u001b[31m58.5 MB/s\u001b[0m eta \u001b[36m0:00:00\u001b[0m\n",
            "\u001b[2K   \u001b[90m━━━━━━━━━━━━━━━━━━━━━━━━━━━━━━━━━━━━━━━━\u001b[0m \u001b[32m10.0/10.0 MB\u001b[0m \u001b[31m65.4 MB/s\u001b[0m eta \u001b[36m0:00:00\u001b[0m\n",
            "\u001b[2K   \u001b[90m━━━━━━━━━━━━━━━━━━━━━━━━━━━━━━━━━━━━━━━━\u001b[0m \u001b[32m278.6/278.6 kB\u001b[0m \u001b[31m16.9 MB/s\u001b[0m eta \u001b[36m0:00:00\u001b[0m\n",
            "\u001b[2K   \u001b[90m━━━━━━━━━━━━━━━━━━━━━━━━━━━━━━━━━━━━━━━━\u001b[0m \u001b[32m1.9/1.9 MB\u001b[0m \u001b[31m49.5 MB/s\u001b[0m eta \u001b[36m0:00:00\u001b[0m\n",
            "\u001b[2K   \u001b[90m━━━━━━━━━━━━━━━━━━━━━━━━━━━━━━━━━━━━━━━━\u001b[0m \u001b[32m49.6/49.6 kB\u001b[0m \u001b[31m3.0 MB/s\u001b[0m eta \u001b[36m0:00:00\u001b[0m\n",
            "\u001b[2K   \u001b[90m━━━━━━━━━━━━━━━━━━━━━━━━━━━━━━━━━━━━━━━━\u001b[0m \u001b[32m94.8/94.8 kB\u001b[0m \u001b[31m8.1 MB/s\u001b[0m eta \u001b[36m0:00:00\u001b[0m\n",
            "\u001b[2K   \u001b[90m━━━━━━━━━━━━━━━━━━━━━━━━━━━━━━━━━━━━━━━━\u001b[0m \u001b[32m13.3/13.3 MB\u001b[0m \u001b[31m17.6 MB/s\u001b[0m eta \u001b[36m0:00:00\u001b[0m\n",
            "\u001b[2K   \u001b[90m━━━━━━━━━━━━━━━━━━━━━━━━━━━━━━━━━━━━━━━━\u001b[0m \u001b[32m55.8/55.8 kB\u001b[0m \u001b[31m4.3 MB/s\u001b[0m eta \u001b[36m0:00:00\u001b[0m\n",
            "\u001b[2K   \u001b[90m━━━━━━━━━━━━━━━━━━━━━━━━━━━━━━━━━━━━━━━━\u001b[0m \u001b[32m70.8/70.8 kB\u001b[0m \u001b[31m5.2 MB/s\u001b[0m eta \u001b[36m0:00:00\u001b[0m\n",
            "\u001b[2K   \u001b[90m━━━━━━━━━━━━━━━━━━━━━━━━━━━━━━━━━━━━━━━━\u001b[0m \u001b[32m71.5/71.5 kB\u001b[0m \u001b[31m5.6 MB/s\u001b[0m eta \u001b[36m0:00:00\u001b[0m\n",
            "\u001b[2K   \u001b[90m━━━━━━━━━━━━━━━━━━━━━━━━━━━━━━━━━━━━━━━━\u001b[0m \u001b[32m62.3/62.3 kB\u001b[0m \u001b[31m4.2 MB/s\u001b[0m eta \u001b[36m0:00:00\u001b[0m\n",
            "\u001b[2K   \u001b[90m━━━━━━━━━━━━━━━━━━━━━━━━━━━━━━━━━━━━━━━━\u001b[0m \u001b[32m459.8/459.8 kB\u001b[0m \u001b[31m26.1 MB/s\u001b[0m eta \u001b[36m0:00:00\u001b[0m\n",
            "\u001b[2K   \u001b[90m━━━━━━━━━━━━━━━━━━━━━━━━━━━━━━━━━━━━━━━━\u001b[0m \u001b[32m319.7/319.7 kB\u001b[0m \u001b[31m21.7 MB/s\u001b[0m eta \u001b[36m0:00:00\u001b[0m\n",
            "\u001b[2K   \u001b[90m━━━━━━━━━━━━━━━━━━━━━━━━━━━━━━━━━━━━━━━━\u001b[0m \u001b[32m4.0/4.0 MB\u001b[0m \u001b[31m74.8 MB/s\u001b[0m eta \u001b[36m0:00:00\u001b[0m\n",
            "\u001b[2K   \u001b[90m━━━━━━━━━━━━━━━━━━━━━━━━━━━━━━━━━━━━━━━━\u001b[0m \u001b[32m452.6/452.6 kB\u001b[0m \u001b[31m27.8 MB/s\u001b[0m eta \u001b[36m0:00:00\u001b[0m\n",
            "\u001b[2K   \u001b[90m━━━━━━━━━━━━━━━━━━━━━━━━━━━━━━━━━━━━━━━━\u001b[0m \u001b[32m46.0/46.0 kB\u001b[0m \u001b[31m3.5 MB/s\u001b[0m eta \u001b[36m0:00:00\u001b[0m\n",
            "\u001b[2K   \u001b[90m━━━━━━━━━━━━━━━━━━━━━━━━━━━━━━━━━━━━━━━━\u001b[0m \u001b[32m86.8/86.8 kB\u001b[0m \u001b[31m7.5 MB/s\u001b[0m eta \u001b[36m0:00:00\u001b[0m\n",
            "\u001b[?25h  Building wheel for pypika (pyproject.toml) ... \u001b[?25l\u001b[?25hdone\n",
            "\u001b[31mERROR: pip's dependency resolver does not currently take into account all the packages that are installed. This behaviour is the source of the following dependency conflicts.\n",
            "tensorflow 2.17.1 requires protobuf!=4.21.0,!=4.21.1,!=4.21.2,!=4.21.3,!=4.21.4,!=4.21.5,<5.0.0dev,>=3.20.3, but you have protobuf 5.29.3 which is incompatible.\u001b[0m\u001b[31m\n",
            "\u001b[0m"
          ]
        }
      ],
      "source": [
        "!pip install -q transformers einops accelerate bitsandbytes\n",
        "!pip install -q langchain langchain_community langchain-huggingface langchainhub langchain_chroma"
      ]
    },
    {
      "cell_type": "code",
      "source": [
        "import torch\n",
        "import os\n",
        "import getpass\n",
        "\n",
        "from transformers import AutoModelForCausalLM, AutoTokenizer, pipeline, BitsAndBytesConfig\n",
        "from langchain_huggingface import HuggingFacePipeline\n",
        "\n",
        "from langchain.prompts import PromptTemplate\n",
        "from langchain_core.prompts import (\n",
        "    ChatPromptTemplate,\n",
        "    HumanMessagePromptTemplate,\n",
        "    MessagesPlaceholder,\n",
        ")\n",
        "from langchain_core.messages import SystemMessage\n",
        "from langchain_core.output_parsers import StrOutputParser\n",
        "from langchain_core.runnables import RunnablePassthrough"
      ],
      "metadata": {
        "id": "q6xtr31MtDYQ"
      },
      "execution_count": null,
      "outputs": []
    },
    {
      "cell_type": "code",
      "source": [
        "os.environ['HF_TOKEN'] = getpass.getpass()"
      ],
      "metadata": {
        "colab": {
          "base_uri": "https://localhost:8080/"
        },
        "id": "C3Z7aGvLtFRy",
        "outputId": "df84c09d-ba20-455e-b6c6-295588f4120a"
      },
      "execution_count": null,
      "outputs": [
        {
          "name": "stdout",
          "output_type": "stream",
          "text": [
            "··········\n"
          ]
        }
      ]
    },
    {
      "cell_type": "code",
      "source": [
        "model_id = \"meta-llama/Meta-Llama-3-8B-Instruct\"\n",
        "\n",
        "quantization_config = BitsAndBytesConfig(\n",
        "    load_in_4bit=True, bnb_4bit_use_double_quant=True, bnb_4bit_quant_type=\"nf4\", bnb_4bit_compute_dtype=torch.bfloat16\n",
        ")\n",
        "\n",
        "model = AutoModelForCausalLM.from_pretrained(model_id, quantization_config=quantization_config)\n",
        "tokenizer = AutoTokenizer.from_pretrained(model_id)\n",
        "\n",
        "pipe = pipeline(\n",
        "    model=model,\n",
        "    tokenizer=tokenizer,\n",
        "    task=\"text-generation\",\n",
        "    temperature=0.1,\n",
        "    max_new_tokens=500,\n",
        "    do_sample=True,\n",
        "    repetition_penalty=1.1,\n",
        "    return_full_text=False,\n",
        ")\n",
        "\n",
        "llm = HuggingFacePipeline(pipeline=pipe)"
      ],
      "metadata": {
        "colab": {
          "base_uri": "https://localhost:8080/",
          "height": 523,
          "referenced_widgets": [
            "077a7560a9154376ac72f4518229c3b9",
            "71a5a73b2bb9475baf78ab47de4b9f69",
            "3eccb20875344ae69fa471155e3971a6",
            "d176f7acc1994364b24c2fdae007b4fa",
            "7f28bf8004754e3489e14819dafe6b58",
            "e38b7d0a0b77465ca9caabee67c60d87",
            "6f17bfa703cb49b3ae1c94c644e63c66",
            "ede7a8aa003a404c9374785a9daaf8fe",
            "57c6040c0f3a41029ab46c2d107597b2",
            "d7af64fe6eac4c72869489053750ce81",
            "80f1756a61f84373a03131b24cf68c70",
            "d0a67557bef94f60876c63a077c80387",
            "4da91c8b54c84587a69c065e3ced6b74",
            "5d10c5ddb963401eb2c2fea758e2528d",
            "77f8d49c243644e28415e7746e628157",
            "d36a4d2381a94d61aaa3ce52ff593c5b",
            "3a2767d5c786419b8ea0074ac58b37f9",
            "9a9b42e9a9d94e68881cd2bf18268ae2",
            "5eb3108baa4840e7968e1588ae13eed8",
            "2676d11e34594a6fb838f380311cd752",
            "84a4a610cedd4a7593aec49528354934",
            "c27bfcd3b5784a27a8104d85aac7a0fb",
            "70b893e48cba4cd4b358e88c7c865480",
            "69168ade9af844caa49fedc555c2606c",
            "20c389d7fcfa496c87372d6933ac0b93",
            "42188cce312d4009a0a6e055efb8e197",
            "3d9dbb14f12d4d98ac77827b2de84bcc",
            "7cdc9d5100c242269b11d87432c16870",
            "5b8367ef05134a52a3c7316f3c4d0b00",
            "a3f6d688d417490d945135431f52ef8a",
            "4537055221414121835563bd206e4c5d",
            "91569f0564874446a7deca2285123402",
            "675dd19c309f49fa8a2376d60708e9d7",
            "80be4f8e1f70405cbaf32c32f00bc4c8",
            "10ead21b04f74ddc8f02cce11b259fc1",
            "6a3ef8aec00d47458ce1b57d57335405",
            "868e7e0f62084c90a2506bc7aeec0512",
            "4a44ddcc9abb42299f149b7d16cd7079",
            "db899d5c23a44ed4b237446e4b89e09e",
            "b7444b78cb57482c8e8ab5f99697b009",
            "04d72b01855e47b0b5d826b3f6525d6a",
            "c76b22e23386479e97a4cd2e666e0725",
            "9dd10eaee5274ce0a0afad1958886276",
            "dca5d848d691445982563f4296ec292b",
            "73cb583bdd0441ea8e7062d79ea1875b",
            "12aa3749f4ee4a8990c075715bf96c85",
            "1071ccb3a6a144039da841ce683a40e8",
            "adcfc520ff024b12813db8276bd478ff",
            "a00d6b52135a4435a13f293e91cfe9a1",
            "01afb09248224ae98ecbb919492c4e55",
            "52ed9bdb40b54fc282f2244cb2475521",
            "bff3a2de9b6347cb8045ec5ebad8fe9e",
            "e625ebce71684970957805073a8dc32b",
            "0386f143e2ad4febb56ffc1a1e65d8f2",
            "a8f567faf0614f48ab968da542d9edb0",
            "97b10d3a1b794e51932ffcdb3bb8923f",
            "118a4a276ed043feb7de5dfd4f78da96",
            "6a201dd5be4949739ad8d75c5c0b6860",
            "b4a7bdd15d654d7482ce68f5faeb0df0",
            "26dbeda2e015425f98be83a1601cd989",
            "a77bef853db14dc5a2c69d32a9509e1f",
            "8de9c203cf03421ca559c1e9f71ead55",
            "0d1b0198c34a4a0c939794cd6c02ad5f",
            "7483b70069d24d9c9bf309b05941d88f",
            "11a45262097e422c9349d79b8b1abb57",
            "82f6bf89cdc7430097a9755727df394b",
            "d9b8908085bc46b1a02d1f18e31e007d",
            "78100c560839469f80c1e0a37afd7e00",
            "8e752a14788348e5a3937dd0c6cde695",
            "b7ed920c009f4b87a298b4c6fdef338a",
            "c8228c75679d47349a4b536c14f9b682",
            "43ff139e03654a41b4b51df9304a4424",
            "86e5f021b60e40bfa3a4cac6214b7511",
            "8e9b543a815c4a6db2fdf923ff8128e6",
            "370244cfa0884975ac88aec8730122d3",
            "ab02f8e6ff3d4bbcbcbde8b33e436dc7",
            "1e431e58894e4776ad59e4733dd9b896",
            "b95db99cba6b40b6ba62254bddb8d961",
            "4ffa0bb6ef624c9aaf14780e83c079ed",
            "485983b3de4040418fe56b73873c02be",
            "354fcbba66f44728ab39dda10a68c487",
            "166e11f58b9f40b3aee2292e72ffb00a",
            "660b531109304032ba497033f6569b20",
            "f7beb0d4ba4b478da81da3cc8624a9e5",
            "3cccadd317024d01878536aab8724a4a",
            "66faf30818bd4730a86025331a9895d3",
            "f3b5d856d15341da8915aba5fb5cf924",
            "24a5ab028def43a8bfcf06992ef29ab1",
            "c731b65d183c4dc095ea50ff8288d444",
            "eb08b69cdab44fb9a14290fb1c1ec35b",
            "baebc2ae46d34ae19f2c1a835f16abc3",
            "62bfcb74512b457da754c40d4439f2b3",
            "edc95d542bea4cfa8bad463fc7ae0e73",
            "4494f720ec8d44fa9bfac30811be73ab",
            "ab457ae089f948e6af1ad4057705105a",
            "8b1149b1d1df404db49725ef7fb68458",
            "61cf88f3399a40dcaecb5fcc29cd4fe2",
            "13e30e760ae843efac69a32677ce4ec8",
            "6feeea8fa1764efe83d7ef543f7b594d",
            "086b5a179f7a4cb2bb0063dacd80550a",
            "4fe3fee24f5748649aa9afbdb8b854f5",
            "44f6373faa45498dafdf407d8328f1dd",
            "5e373afd3e8d4730a0515bc3c2940fdc",
            "9ebd3a1084c54ef9a4e6eda7be6db27d",
            "cc4e31128c1c4b849acbefdc2702793f",
            "3fde90a9846749d99bbd85e97abddc16",
            "67dc6cc6f54e4829a1fcec14f39c1fa8",
            "28bf251cfdd54a9192792b692bdeb210",
            "77cc823a4d6c4386bed43bef96497c99",
            "defb29da31a54010aa25fbf863c4f202",
            "2df0bc1e9882453eb042237029f277fd",
            "fa5505f98cd64794985ee87e69874ee8",
            "5ec80d5c14474df0a268040122e87a98",
            "bf7e5eb3d472426b88d345247d65692f",
            "6fd7d248281c467384bf64ffd203240c",
            "336677cf025e4f21890065111d298586",
            "e8237036de174779b0ca9ec7533bcc75",
            "df31b70e5eff43bc8184a2a8ed2d9d39",
            "0c5cba8c4cfb484fa5d49831d76c597f",
            "6e63176b52234c359b621f0ae36a5d04",
            "1a7cb3793ee84c0c96b06f5a4b23ea25",
            "67425e2232bd4f978c25ef415a3226b5",
            "fd60d5143936400cb5e60afcbd74b175",
            "906d75e39ded4a668e6a38d23aa01a64",
            "1bfb5523aa1b4d3696d4b7297fb1a8f9",
            "9a35662af2a94a0db3010759b0b5ee3c",
            "ecd978e858694ee59f02fcd50e96a9da",
            "15d90d7aeba5415da7fe284aee4b2507",
            "fa48cdf86fe94897a22e19faa676d3e3",
            "7b1d2e2e734d4931a7fbb4909af961bd",
            "538c2812c5f84b0eb2514b78eff0e5af",
            "5906269383524deb82195f05d4bd2cc9"
          ]
        },
        "id": "ZYJSKvXRtgJB",
        "outputId": "f2263e19-d249-4db4-b913-310b45c6c99d"
      },
      "execution_count": null,
      "outputs": [
        {
          "output_type": "stream",
          "name": "stderr",
          "text": [
            "/usr/local/lib/python3.11/dist-packages/huggingface_hub/utils/_auth.py:94: UserWarning: \n",
            "The secret `HF_TOKEN` does not exist in your Colab secrets.\n",
            "To authenticate with the Hugging Face Hub, create a token in your settings tab (https://huggingface.co/settings/tokens), set it as secret in your Google Colab and restart your session.\n",
            "You will be able to reuse this secret in all of your notebooks.\n",
            "Please note that authentication is recommended but still optional to access public models or datasets.\n",
            "  warnings.warn(\n"
          ]
        },
        {
          "output_type": "display_data",
          "data": {
            "text/plain": [
              "config.json:   0%|          | 0.00/654 [00:00<?, ?B/s]"
            ],
            "application/vnd.jupyter.widget-view+json": {
              "version_major": 2,
              "version_minor": 0,
              "model_id": "077a7560a9154376ac72f4518229c3b9"
            }
          },
          "metadata": {}
        },
        {
          "output_type": "stream",
          "name": "stderr",
          "text": [
            "`low_cpu_mem_usage` was None, now default to True since model is quantized.\n"
          ]
        },
        {
          "output_type": "display_data",
          "data": {
            "text/plain": [
              "model.safetensors.index.json:   0%|          | 0.00/23.9k [00:00<?, ?B/s]"
            ],
            "application/vnd.jupyter.widget-view+json": {
              "version_major": 2,
              "version_minor": 0,
              "model_id": "d0a67557bef94f60876c63a077c80387"
            }
          },
          "metadata": {}
        },
        {
          "output_type": "display_data",
          "data": {
            "text/plain": [
              "Downloading shards:   0%|          | 0/4 [00:00<?, ?it/s]"
            ],
            "application/vnd.jupyter.widget-view+json": {
              "version_major": 2,
              "version_minor": 0,
              "model_id": "70b893e48cba4cd4b358e88c7c865480"
            }
          },
          "metadata": {}
        },
        {
          "output_type": "display_data",
          "data": {
            "text/plain": [
              "model-00001-of-00004.safetensors:   0%|          | 0.00/4.98G [00:00<?, ?B/s]"
            ],
            "application/vnd.jupyter.widget-view+json": {
              "version_major": 2,
              "version_minor": 0,
              "model_id": "80be4f8e1f70405cbaf32c32f00bc4c8"
            }
          },
          "metadata": {}
        },
        {
          "output_type": "display_data",
          "data": {
            "text/plain": [
              "model-00002-of-00004.safetensors:   0%|          | 0.00/5.00G [00:00<?, ?B/s]"
            ],
            "application/vnd.jupyter.widget-view+json": {
              "version_major": 2,
              "version_minor": 0,
              "model_id": "73cb583bdd0441ea8e7062d79ea1875b"
            }
          },
          "metadata": {}
        },
        {
          "output_type": "display_data",
          "data": {
            "text/plain": [
              "model-00003-of-00004.safetensors:   0%|          | 0.00/4.92G [00:00<?, ?B/s]"
            ],
            "application/vnd.jupyter.widget-view+json": {
              "version_major": 2,
              "version_minor": 0,
              "model_id": "97b10d3a1b794e51932ffcdb3bb8923f"
            }
          },
          "metadata": {}
        },
        {
          "output_type": "display_data",
          "data": {
            "text/plain": [
              "model-00004-of-00004.safetensors:   0%|          | 0.00/1.17G [00:00<?, ?B/s]"
            ],
            "application/vnd.jupyter.widget-view+json": {
              "version_major": 2,
              "version_minor": 0,
              "model_id": "d9b8908085bc46b1a02d1f18e31e007d"
            }
          },
          "metadata": {}
        },
        {
          "output_type": "display_data",
          "data": {
            "text/plain": [
              "Loading checkpoint shards:   0%|          | 0/4 [00:00<?, ?it/s]"
            ],
            "application/vnd.jupyter.widget-view+json": {
              "version_major": 2,
              "version_minor": 0,
              "model_id": "b95db99cba6b40b6ba62254bddb8d961"
            }
          },
          "metadata": {}
        },
        {
          "output_type": "display_data",
          "data": {
            "text/plain": [
              "generation_config.json:   0%|          | 0.00/187 [00:00<?, ?B/s]"
            ],
            "application/vnd.jupyter.widget-view+json": {
              "version_major": 2,
              "version_minor": 0,
              "model_id": "c731b65d183c4dc095ea50ff8288d444"
            }
          },
          "metadata": {}
        },
        {
          "output_type": "display_data",
          "data": {
            "text/plain": [
              "tokenizer_config.json:   0%|          | 0.00/51.0k [00:00<?, ?B/s]"
            ],
            "application/vnd.jupyter.widget-view+json": {
              "version_major": 2,
              "version_minor": 0,
              "model_id": "086b5a179f7a4cb2bb0063dacd80550a"
            }
          },
          "metadata": {}
        },
        {
          "output_type": "display_data",
          "data": {
            "text/plain": [
              "tokenizer.json:   0%|          | 0.00/9.09M [00:00<?, ?B/s]"
            ],
            "application/vnd.jupyter.widget-view+json": {
              "version_major": 2,
              "version_minor": 0,
              "model_id": "2df0bc1e9882453eb042237029f277fd"
            }
          },
          "metadata": {}
        },
        {
          "output_type": "display_data",
          "data": {
            "text/plain": [
              "special_tokens_map.json:   0%|          | 0.00/73.0 [00:00<?, ?B/s]"
            ],
            "application/vnd.jupyter.widget-view+json": {
              "version_major": 2,
              "version_minor": 0,
              "model_id": "67425e2232bd4f978c25ef415a3226b5"
            }
          },
          "metadata": {}
        }
      ]
    },
    {
      "cell_type": "code",
      "source": [
        "# LLAMA 3\n",
        "template = \"\"\"\n",
        "<|begin_of_text|>\n",
        "<|start_header_id|>system<|end_header_id|>\n",
        "Você é um assistente virtual prestativo e está respondendo perguntas gerais.\n",
        "<|eot_id|>\n",
        "<|start_header_id|>user<|end_header_id|>\n",
        "{pergunta}\n",
        "<|eot_id|>\n",
        "<|start_header_id|>assistant<|end_header_id|>\n",
        "\"\"\"\n",
        "\n",
        "template"
      ],
      "metadata": {
        "colab": {
          "base_uri": "https://localhost:8080/",
          "height": 53
        },
        "id": "_y9ffJmPthdZ",
        "outputId": "9b0fc42f-0700-434f-b9a4-82ec3a631a09"
      },
      "execution_count": null,
      "outputs": [
        {
          "output_type": "execute_result",
          "data": {
            "text/plain": [
              "'\\n<|begin_of_text|>\\n<|start_header_id|>system<|end_header_id|>\\nVocê é um assistente virtual prestativo e está respondendo perguntas gerais.\\n<|eot_id|>\\n<|start_header_id|>user<|end_header_id|>\\n{pergunta}\\n<|eot_id|>\\n<|start_header_id|>assistant<|end_header_id|>\\n'"
            ],
            "application/vnd.google.colaboratory.intrinsic+json": {
              "type": "string"
            }
          },
          "metadata": {},
          "execution_count": 6
        }
      ]
    },
    {
      "cell_type": "code",
      "source": [
        "prompt = PromptTemplate.from_template(template)\n",
        "prompt"
      ],
      "metadata": {
        "colab": {
          "base_uri": "https://localhost:8080/"
        },
        "id": "bfh7BihzvsIl",
        "outputId": "7d6f781c-8c74-4220-fdec-8aabd55e404d"
      },
      "execution_count": null,
      "outputs": [
        {
          "output_type": "execute_result",
          "data": {
            "text/plain": [
              "PromptTemplate(input_variables=['pergunta'], input_types={}, partial_variables={}, template='\\n<|begin_of_text|>\\n<|start_header_id|>system<|end_header_id|>\\nVocê é um assistente virtual prestativo e está respondendo perguntas gerais.\\n<|eot_id|>\\n<|start_header_id|>user<|end_header_id|>\\n{pergunta}\\n<|eot_id|>\\n<|start_header_id|>assistant<|end_header_id|>\\n')"
            ]
          },
          "metadata": {},
          "execution_count": 7
        }
      ]
    },
    {
      "cell_type": "code",
      "source": [
        "chain = prompt | llm\n",
        "\n",
        "chain.invoke({\"pergunta\": \"Que dia é hoje?\"})"
      ],
      "metadata": {
        "colab": {
          "base_uri": "https://localhost:8080/",
          "height": 53
        },
        "id": "eoTkmn_Avv5I",
        "outputId": "be7e998c-d7d6-45fc-cb88-48c2daea57bc"
      },
      "execution_count": null,
      "outputs": [
        {
          "output_type": "stream",
          "name": "stderr",
          "text": [
            "Setting `pad_token_id` to `eos_token_id`:None for open-end generation.\n"
          ]
        },
        {
          "output_type": "execute_result",
          "data": {
            "text/plain": [
              "'Peço desculpas, mas como sou um assistente virtual, não tenho acesso a informações em tempo real sobre a data atual. No entanto, posso ajudá-lo com outras coisas!'"
            ],
            "application/vnd.google.colaboratory.intrinsic+json": {
              "type": "string"
            }
          },
          "metadata": {},
          "execution_count": 8
        }
      ]
    },
    {
      "cell_type": "markdown",
      "source": [
        "## Prompt com RAG"
      ],
      "metadata": {
        "id": "ujDvvNTSv6iZ"
      }
    },
    {
      "cell_type": "code",
      "source": [
        "template_rag = \"\"\"\n",
        "<|begin_of_text|>\n",
        "<|start_header_id|>system<|end_header_id|>\n",
        "Você é um assistente virtual prestativo e está respondendo perguntas gerais.\n",
        "Use os seguintes pedaços de contexto recuperado para responder à pergunta.\n",
        "Se você não sabe a resposta, apenas diga que não sabe. Mantenha a resposta concisa.\n",
        "<|eot_id|>\n",
        "<|start_header_id|>user<|end_header_id|>\n",
        "Pergunta: {pergunta}\n",
        "Contexto: {contexto}\n",
        "<|eot_id|>\n",
        "<|start_header_id|>assistant<|end_header_id|>\n",
        "\"\"\""
      ],
      "metadata": {
        "id": "Sxnv-xiPv2zU"
      },
      "execution_count": null,
      "outputs": []
    },
    {
      "cell_type": "code",
      "source": [
        "prompt_rag = PromptTemplate.from_template(template_rag)\n",
        "prompt_rag"
      ],
      "metadata": {
        "colab": {
          "base_uri": "https://localhost:8080/"
        },
        "id": "AiVt7EF3v-sG",
        "outputId": "51aac1be-82f5-4929-d81c-6f20a72ac9fb"
      },
      "execution_count": null,
      "outputs": [
        {
          "output_type": "execute_result",
          "data": {
            "text/plain": [
              "PromptTemplate(input_variables=['contexto', 'pergunta'], input_types={}, partial_variables={}, template='\\n<|begin_of_text|>\\n<|start_header_id|>system<|end_header_id|>\\nVocê é um assistente virtual prestativo e está respondendo perguntas gerais.\\nUse os seguintes pedaços de contexto recuperado para responder à pergunta.\\nSe você não sabe a resposta, apenas diga que não sabe. Mantenha a resposta concisa.\\n<|eot_id|>\\n<|start_header_id|>user<|end_header_id|>\\nPergunta: {pergunta}\\nContexto: {contexto}\\n<|eot_id|>\\n<|start_header_id|>assistant<|end_header_id|>\\n')"
            ]
          },
          "metadata": {},
          "execution_count": 10
        }
      ]
    },
    {
      "cell_type": "code",
      "source": [
        "from datetime import date\n",
        "\n",
        "dia = date.today()\n",
        "print(dia)"
      ],
      "metadata": {
        "colab": {
          "base_uri": "https://localhost:8080/"
        },
        "id": "AvStj-2owGuC",
        "outputId": "e021a84b-bc12-4716-878f-dccd8e0cd0c3"
      },
      "execution_count": null,
      "outputs": [
        {
          "output_type": "stream",
          "name": "stdout",
          "text": [
            "2025-01-23\n"
          ]
        }
      ]
    },
    {
      "cell_type": "code",
      "source": [
        "contexto = \"Você sabe que hoje é dia '{}'\".format(dia)\n",
        "print(contexto)"
      ],
      "metadata": {
        "colab": {
          "base_uri": "https://localhost:8080/"
        },
        "id": "SyU3GzYcwTr7",
        "outputId": "82cd7eb8-cb72-46c8-9259-78bd0f7c6e2a"
      },
      "execution_count": null,
      "outputs": [
        {
          "output_type": "stream",
          "name": "stdout",
          "text": [
            "Você sabe que hoje é dia '2025-01-23'\n"
          ]
        }
      ]
    },
    {
      "cell_type": "code",
      "source": [
        "chain_rag = prompt_rag | llm | StrOutputParser()\n",
        "\n",
        "pergunta = \"Qual dia é hoje? Responta utilizando o formate dd/mm/yyyy\"\n",
        "\n",
        "res = chain_rag.invoke({\"pergunta\": pergunta, \"contexto\": contexto})\n",
        "res"
      ],
      "metadata": {
        "colab": {
          "base_uri": "https://localhost:8080/",
          "height": 53
        },
        "id": "a6IPfo8lwebC",
        "outputId": "ee41743b-a800-4aef-b3ba-9aa4813b0392"
      },
      "execution_count": null,
      "outputs": [
        {
          "output_type": "stream",
          "name": "stderr",
          "text": [
            "Setting `pad_token_id` to `eos_token_id`:None for open-end generation.\n"
          ]
        },
        {
          "output_type": "execute_result",
          "data": {
            "text/plain": [
              "'Hoje é 23/01/2025.'"
            ],
            "application/vnd.google.colaboratory.intrinsic+json": {
              "type": "string"
            }
          },
          "metadata": {},
          "execution_count": 15
        }
      ]
    },
    {
      "cell_type": "code",
      "source": [
        "prompt_rag"
      ],
      "metadata": {
        "colab": {
          "base_uri": "https://localhost:8080/"
        },
        "id": "IPXNKPzKw-tx",
        "outputId": "27aadf0f-d5d2-44e8-9704-db5a77ed67f1"
      },
      "execution_count": null,
      "outputs": [
        {
          "output_type": "execute_result",
          "data": {
            "text/plain": [
              "PromptTemplate(input_variables=['contexto', 'pergunta'], input_types={}, partial_variables={}, template='\\n<|begin_of_text|>\\n<|start_header_id|>system<|end_header_id|>\\nVocê é um assistente virtual prestativo e está respondendo perguntas gerais.\\nUse os seguintes pedaços de contexto recuperado para responder à pergunta.\\nSe você não sabe a resposta, apenas diga que não sabe. Mantenha a resposta concisa.\\n<|eot_id|>\\n<|start_header_id|>user<|end_header_id|>\\nPergunta: {pergunta}\\nContexto: {contexto}\\n<|eot_id|>\\n<|start_header_id|>assistant<|end_header_id|>\\n')"
            ]
          },
          "metadata": {},
          "execution_count": 16
        }
      ]
    },
    {
      "cell_type": "code",
      "source": [
        "chain_rag = prompt_rag | llm | StrOutputParser()\n",
        "\n",
        "contexto = \"\"\"Faturamento trimestral:\n",
        "1º: R$42476,40\n",
        "2º: R$46212,97\n",
        "3º: R$101324,56\n",
        "4º: R$56430,24\"\"\"\n",
        "\n",
        "#pergunta = \"Qual é o faturamento do segundo trimestre?\"\n",
        "pergunta = \"Qual trimestre teve o maior faturamento?\"\n",
        "\n",
        "chain_rag.invoke({\n",
        "  \"contexto\": contexto,\n",
        "  \"pergunta\": pergunta\n",
        "})"
      ],
      "metadata": {
        "colab": {
          "base_uri": "https://localhost:8080/",
          "height": 53
        },
        "id": "oVJMWTWixFig",
        "outputId": "46bbef7f-6e76-4abf-b814-ba1b18a0b8a6"
      },
      "execution_count": null,
      "outputs": [
        {
          "output_type": "stream",
          "name": "stderr",
          "text": [
            "Setting `pad_token_id` to `eos_token_id`:None for open-end generation.\n"
          ]
        },
        {
          "output_type": "execute_result",
          "data": {
            "text/plain": [
              "'O trimestre com o maior faturamento foi o 3º, com R$101324,56.'"
            ],
            "application/vnd.google.colaboratory.intrinsic+json": {
              "type": "string"
            }
          },
          "metadata": {},
          "execution_count": 18
        }
      ]
    },
    {
      "cell_type": "markdown",
      "source": [
        "## Depuração/Debugging"
      ],
      "metadata": {
        "id": "vI7Uh2wmxOa4"
      }
    },
    {
      "cell_type": "code",
      "source": [
        "from langchain.globals import set_debug\n",
        "set_debug(True)"
      ],
      "metadata": {
        "id": "k97VOIIvwmHi"
      },
      "execution_count": null,
      "outputs": []
    },
    {
      "cell_type": "code",
      "source": [
        "pergunta = \"Qual trimestre teve o menor faturamento?\"\n",
        "\n",
        "chain_rag.invoke({\n",
        "  \"contexto\": contexto,\n",
        "  \"pergunta\": pergunta\n",
        "})"
      ],
      "metadata": {
        "colab": {
          "base_uri": "https://localhost:8080/",
          "height": 854
        },
        "id": "eAYA-WVFxTTC",
        "outputId": "eb320aad-0c1e-46f2-f944-7284dc99b6de"
      },
      "execution_count": null,
      "outputs": [
        {
          "output_type": "stream",
          "name": "stderr",
          "text": [
            "Setting `pad_token_id` to `eos_token_id`:None for open-end generation.\n"
          ]
        },
        {
          "output_type": "stream",
          "name": "stdout",
          "text": [
            "\u001b[32;1m\u001b[1;3m[chain/start]\u001b[0m \u001b[1m[chain:RunnableSequence] Entering Chain run with input:\n",
            "\u001b[0m{\n",
            "  \"contexto\": \"Faturamento trimestral:\\n1º: R$42476,40\\n2º: R$46212,97\\n3º: R$101324,56\\n4º: R$56430,24\",\n",
            "  \"pergunta\": \"Qual trimestre teve o menor faturamento?\"\n",
            "}\n",
            "\u001b[32;1m\u001b[1;3m[chain/start]\u001b[0m \u001b[1m[chain:RunnableSequence > prompt:PromptTemplate] Entering Prompt run with input:\n",
            "\u001b[0m{\n",
            "  \"contexto\": \"Faturamento trimestral:\\n1º: R$42476,40\\n2º: R$46212,97\\n3º: R$101324,56\\n4º: R$56430,24\",\n",
            "  \"pergunta\": \"Qual trimestre teve o menor faturamento?\"\n",
            "}\n",
            "\u001b[36;1m\u001b[1;3m[chain/end]\u001b[0m \u001b[1m[chain:RunnableSequence > prompt:PromptTemplate] [1ms] Exiting Prompt run with output:\n",
            "\u001b[0m[outputs]\n",
            "\u001b[32;1m\u001b[1;3m[llm/start]\u001b[0m \u001b[1m[chain:RunnableSequence > llm:HuggingFacePipeline] Entering LLM run with input:\n",
            "\u001b[0m{\n",
            "  \"prompts\": [\n",
            "    \"<|begin_of_text|>\\n<|start_header_id|>system<|end_header_id|>\\nVocê é um assistente virtual prestativo e está respondendo perguntas gerais.\\nUse os seguintes pedaços de contexto recuperado para responder à pergunta.\\nSe você não sabe a resposta, apenas diga que não sabe. Mantenha a resposta concisa.\\n<|eot_id|>\\n<|start_header_id|>user<|end_header_id|>\\nPergunta: Qual trimestre teve o menor faturamento?\\nContexto: Faturamento trimestral:\\n1º: R$42476,40\\n2º: R$46212,97\\n3º: R$101324,56\\n4º: R$56430,24\\n<|eot_id|>\\n<|start_header_id|>assistant<|end_header_id|>\"\n",
            "  ]\n",
            "}\n",
            "\u001b[36;1m\u001b[1;3m[llm/end]\u001b[0m \u001b[1m[chain:RunnableSequence > llm:HuggingFacePipeline] [4.84s] Exiting LLM run with output:\n",
            "\u001b[0m{\n",
            "  \"generations\": [\n",
            "    [\n",
            "      {\n",
            "        \"text\": \"O trimestre com o menor faturamento foi o 1º, com R$42.476,40.\",\n",
            "        \"generation_info\": null,\n",
            "        \"type\": \"Generation\"\n",
            "      }\n",
            "    ]\n",
            "  ],\n",
            "  \"llm_output\": null,\n",
            "  \"run\": null,\n",
            "  \"type\": \"LLMResult\"\n",
            "}\n",
            "\u001b[32;1m\u001b[1;3m[chain/start]\u001b[0m \u001b[1m[chain:RunnableSequence > parser:StrOutputParser] Entering Parser run with input:\n",
            "\u001b[0m{\n",
            "  \"input\": \"O trimestre com o menor faturamento foi o 1º, com R$42.476,40.\"\n",
            "}\n",
            "\u001b[36;1m\u001b[1;3m[chain/end]\u001b[0m \u001b[1m[chain:RunnableSequence > parser:StrOutputParser] [1ms] Exiting Parser run with output:\n",
            "\u001b[0m{\n",
            "  \"output\": \"O trimestre com o menor faturamento foi o 1º, com R$42.476,40.\"\n",
            "}\n",
            "\u001b[36;1m\u001b[1;3m[chain/end]\u001b[0m \u001b[1m[chain:RunnableSequence] [4.85s] Exiting Chain run with output:\n",
            "\u001b[0m{\n",
            "  \"output\": \"O trimestre com o menor faturamento foi o 1º, com R$42.476,40.\"\n",
            "}\n"
          ]
        },
        {
          "output_type": "execute_result",
          "data": {
            "text/plain": [
              "'O trimestre com o menor faturamento foi o 1º, com R$42.476,40.'"
            ],
            "application/vnd.google.colaboratory.intrinsic+json": {
              "type": "string"
            }
          },
          "metadata": {},
          "execution_count": 20
        }
      ]
    },
    {
      "cell_type": "code",
      "source": [
        "set_debug(True)"
      ],
      "metadata": {
        "id": "YuwQ2skoxhIx"
      },
      "execution_count": null,
      "outputs": []
    },
    {
      "cell_type": "markdown",
      "source": [
        "## Aplicação para RAG com contextos maiores"
      ],
      "metadata": {
        "id": "uCrBcBpLxlm_"
      }
    },
    {
      "cell_type": "markdown",
      "source": [
        "### 01 - Carregando o conteúdo"
      ],
      "metadata": {
        "id": "yxPjArmw2ann"
      }
    },
    {
      "cell_type": "code",
      "source": [
        "import bs4\n",
        "from langchain_community.document_loaders import WebBaseLoader\n",
        "from langchain_huggingface import HuggingFaceEmbeddings\n",
        "from langchain_chroma import Chroma"
      ],
      "metadata": {
        "id": "SeP7yoUpxnFk"
      },
      "execution_count": null,
      "outputs": []
    },
    {
      "cell_type": "code",
      "source": [
        "loader = WebBaseLoader(web_paths = (\"https://www.bbc.com/portuguese/articles/cd19vexw0y1o\",),)\n",
        "docs = loader.load()"
      ],
      "metadata": {
        "id": "Fd8nuIei2gry"
      },
      "execution_count": null,
      "outputs": []
    },
    {
      "cell_type": "code",
      "source": [
        "len(docs[0].page_content)"
      ],
      "metadata": {
        "colab": {
          "base_uri": "https://localhost:8080/"
        },
        "id": "AF7SfXAp2jWI",
        "outputId": "fd7b15e7-2394-436f-e405-3f68fd7075e4"
      },
      "execution_count": null,
      "outputs": [
        {
          "output_type": "execute_result",
          "data": {
            "text/plain": [
              "11897"
            ]
          },
          "metadata": {},
          "execution_count": 97
        }
      ]
    },
    {
      "cell_type": "code",
      "source": [
        "docs"
      ],
      "metadata": {
        "colab": {
          "base_uri": "https://localhost:8080/"
        },
        "id": "Dr8Xsngk2lcl",
        "outputId": "31467ebb-6dac-474e-f0ee-d842b21b19e2"
      },
      "execution_count": null,
      "outputs": [
        {
          "output_type": "execute_result",
          "data": {
            "text/plain": [
              "[Document(metadata={'source': 'https://www.bbc.com/portuguese/articles/cd19vexw0y1o', 'title': 'Oscar 2024: confira todos os ganhadores dos prêmios da Academia de Hollywood  - BBC News Brasil', 'description': \"'Oppenheimer' foi o grande vencedor da noite com sete estatuetas, incluindo o prêmio de melhor filme, melhor diretor e melhor ator.\", 'language': 'pt-br'}, page_content=\"Oscar 2024: confira todos os ganhadores dos prêmios da Academia de Hollywood  - BBC News BrasilBBC News, BrasilVá para o conteúdoSeçõesNotíciasBrasilInternacionalEconomiaSaúdeCiênciaTecnologiaVídeosBBC LêNotíciasBrasilInternacionalEconomiaSaúdeCiênciaTecnologiaVídeosBBC LêOscar 2024: confira todos os ganhadores dos prêmios da Academia de HollywoodCrédito, Getty ImagesLegenda da foto, Robert Downey Jr., Da'Vine Hoy Randolph, Emma Stone e Cillian Murphy com suas respectivas estatuetas do OscarArticle informationAuthor, Leire VentasRole,  Correspondente da BBC News Mundo em Los AngelesTwitter, @leire_ventas11 março 2024Oppenheimer foi consagrado o grande vencedor da 96ª edição do Oscar no domingo (10/3) .O filme sobre o “pai” da bomba atômica ganhou sete estatuetas, incluindo na categoria de melhor filme, melhor diretor para Christopher Nolan, melhor ator para Cillian Murphy e melhor ator coadjuvante para Robert Downey Jr.Em uma cerimônia com poucas surpresas, na qual a maior parte das apostas da crítica e do público se concretizaram, Pobres Criaturas também conquistou vários prêmios.Uma das quatro estatuetas que o filme do grego Yorgos Lanthimos arrebatou foi graças a Emma Stone, que ganhou o prêmio de melhor atriz por interpretar a protagonista Bella Baxter.O Oscar de Da'Vine Joy Randolph como melhor atriz coadjuvante foi o único de Os Rejeitados; e o de Billie Eislish, que recebeu o prêmio de melhor canção original por What Was I Made For?, foi o único Oscar do grande sucesso de bilheteria do ano, Barbie.Pule Matérias recomendadas e continue lendoMatérias recomendadas25 filmes que vão chegar aos cinemas em 2025Fernanda Torres no Globo de Ouro 2025: confira outros filmes brasileiros premiados internacionalmenteOscar 2025: as previsões dos críticos da BBC para as indicações (e o que dizem de Fernanda Torres)Fernanda Torres fala à BBC sobre o Oscar: 'Odeio expectativas, sou pessimista por natureza'Fim do Matérias recomendadasAssassinos da Lua das Flores voltou para casa sem nenhuma estatueta, apesar de ter recebido 10 indicações.Confira abaixo a lista completa dos vencedores.Os ganhadoresPule Novo podcast investigativo: A Raposa e continue lendoNovo podcast investigativo: A RaposaUma tonelada de cocaína, três brasileiros inocentes e a busca por um suspeito inglêsEpisódiosFim do Novo podcast investigativo: A RaposaMelhor filme: OppenheimerMelhor diretor: Christopher Nolan – OppenheimerMelhor atriz: Emma Stone – Pobres CriaturasMelhor ator: Cillian Murphy - OppenheimerMelhor atriz coadjuvante: Da’Vine Joy Randolph - Os RejeitadosMelhor ator coadjuvante: Robert Downey Jr. - OppenheimerMelhor roteiro original: Anatomia de Uma Queda— Justin Triet, Arthur HarariMelhor roteiro adaptado: American Fiction - Cord JeffersonMelhor edição: OppenheimerMelhor filme estrangeiro: Zona de InteresseMelhor animação: O Menino e a GarçaMelhor curta-metragem de animação: War Is Over! Inspired by the Music of John & Yoko - Dace Mullins, Brad BookerMelhor maquiagem e penteados: Pobres CriaturasMelhor design de produção: Pobres CriaturasMelhor design de figurino: Pobres CriaturasMelhores efeitos visuais: Godzilla Minus OneMelhor documentário: 20 Dias em MariupolMelhor documentário de curta-metragem: The Last Repair ShopMelhor fotografia: OppenheimerMelhor curta-metragem: The Wonderful Story of Henry Sugar - Wes Anderson, Steven RalesMelhor som: Zona de InteresseMelhor trilha sonora original: OppenheimerMelhor canção original: What Was I Made For? - BarbieCrédito, GETTY IMAGESLegenda da foto, Emma Stone, estrela de Pobres Criaturas, ganhou seu segundo Oscar de melhor atriz — em 2017, ela foi premiada por sua atuação em La La Land - Cantando estaçõesDiscursosEmma Stone estava em choque quando subiu ao palco para receber o prêmio de melhor atriz após uma disputa acirrada com a estrela de Assassinos da Lua das Flores, Lily Gladstone.“Juntos fizemos algo maior do que a soma de suas partes”, disse Stone sobre o filme Pobres Criaturas, no qual interpreta Bella Baxter.“Me sinto profundamente honrada em compartilhar isso com cada uma das pessoas que colocaram seu amor e brilhantismo neste filme”, acrescentou, depois de reconhecer as indicações das demais indicadas, enquanto segurava o vestido nas costas.“Não olhem, acho que rasgou enquanto Ryan Gosling cantava I’m Just Ken”, disse ela, fazendo referência à aplaudida performance do ator durante a cerimônia.Crédito, Getty ImagesLegenda da foto, Cillian Murphy com a estatueta do Oscar por interpretar o 'pai' da bomba atômica em OppenheimerEm um gesto semelhante ao de Stone, Cillian Murphy reconheceu o trabalho de todos os indicados na categoria de melhor ator ao receber o Oscar por interpretar J. Robert Oppenheimer, o cientista-chefe do Projeto Manhattan.“Vivemos em um mundo criado por Oppenheimer. Quero dedicar (o prêmio) àqueles que defendem a paz em todos os lugares”, declarou o ator, destacando ainda que se sente “orgulhosamente irlandês”.Crédito, Getty ImagesLegenda da foto, Christopher Nolan ganhou o prêmio de melhor diretor por Oppenheimer, o grande vencedor da noiteCrédito, EPALegenda da foto, Da'Vine Joy Randolph recebeu o Oscar de melhor atriz coadjuvante por sua atuação em Os RejeitadosClaramente emocionada, Da'Vine Joy Randolph foi a primeira da noite a subir ao palco para receber uma estatueta, exclamando: “Deus é tão bom”, enquanto tentava segurar as lágrimas.Ela agradeceu à mãe por inspirá-la a tentar atuar, em vez de cantar.“Durante anos, pensei que queria ser diferente, mas percebi que precisava ser eu mesma”, disse.Lembrou ainda que era a única negra da sua turma — e agradeceu a todas as mulheres que a ajudaram e inspiraram ao longo de sua carreira.Crédito, Getty ImagesLegenda da foto, Robert Downey Jr. foi contemplado com o Oscar de melhor ator coadjuvante por interpretar Lewis Strauss em OppenheimerRobert Downey Jr., que brilhou durante toda a temporada de premiações por interpretar o antagonista de Oppenheimer, Lewis Strauss, também ganhou o Oscar de melhor ator coadjuvante.Em primeiro lugar, ele agradeceu à sua “infância terrível” e à Academia, “nesta ordem”, e destacou que o trabalho do seu setor é poderoso e significativo.Crédito, GETTY IMAGESLegenda da foto, Jonathan Glazer fez referência à guerra entre Israel e o Hamas e à situação em Gaza, mencionando 'todas as vítimas desta desumanização'Zona de Interesse conquistou a estatueta de melhor filme estrangeiro, desbancando A Sociedade da Neve, e também ganhou o prêmio de melhor som.Seu diretor, Jonathan Glazer, recebeu a estatueta sob fortes aplausos.“Nosso filme mostra que a desumanização nos leva ao pior, moldou nosso passado e nosso presente”, disse ele sobre o filme, que aborda o Holocausto sob um novo ponto de vista.“Como podemos resistir a esta desumanização? Sejam as vítimas do 7 de outubro em Israel ou dos ataques que estão sendo realizados em Gaza”, acrescentou.Ele discursou enquanto centenas de manifestantes, reunidos nos arredores do Dolby Theatre, em Los Angeles, desde o início da cerimônia, denunciavam as operações de Israel na Faixa de Gaza e exigiam um cessar-fogo definitivo.Crédito, GETTY IMAGESLegenda da foto, Centenas de pessoas protestaram nas imediações do teatro em que era realizada a cerimônia para pedir um cessar-fogo definitivo em GazaEste não foi, no entanto, o único momento político do evento.“Serei certamente o primeiro neste palco a dizer que preferia não ter feito este filme”, declarou Mstyslav Cherno ao receber o Oscar de melhor documentário por 20 Dias em Mariupol.Ganhador do Pulitzer, Cherno foi um dos poucos jornalistas que cobriu de perto o cerco das tropas russas à cidade portuária ucraniana, e narrou isso em seu documentário.“Gostaria de poder trocar o Oscar por a Rússia nunca ter ocupado as nossas cidades”, afirmou.Crédito, GETTY IMAGESLegenda da foto, Mstyslav Cherno documentou de dentro o cerco à cidade ucraniana de MariupolOutro momento emocionante foi quando Sean Lennon, filho de John Lennon e Yoko Ono, aproveitou para parabenizar a mãe pelo Dia das Mães (celebrado três semanas antes da Páscoa no Reino Unido) ao receber o Oscar de melhor documentário de curta-metragem por War Is Over! Inspired by the Music of John & Yoko.Quem não subiu (novamente) ao palco para receber o prêmio foi Hayao Miyazaki. Aos 83 anos, a lenda viva do Studio Ghibli voltou a ganhar o Oscar de melhor filme de animação, que se soma agora à estatueta que ele conquistou em 2003 por A Viagem de Chihiro.Crédito, Getty ImagesLegenda da foto, Ao receber o Oscar de melhor curta-metragem de animação, Sean Lennon parabenizou Yoko Ono pelo Dia das MãesEssa não foi a noite dos latino-americanos e espanhóis.Ficaram sem Oscar: A Sociedade da Neve, longa dirigido pelo catalão Juan Antonio Bayona e estrelado, entre outros, pelo uruguaio Enzo Vogrincic e pelo argentino Matías Recalt; o filme de animação Meu Amigo Robô, do espanhol Pablo Berger, e o documentário A Memória Infinita, da diretora chilena Maite Alberdi.E até Martin Scorsese, cujo filme Assassinos da Lua das Flores havia recebido 10 indicações e era cotado como um dos favoritos, saiu de mãos abanando.Tópicos relacionadosCelebridade EntretenimentoCulturaCinemaOscarsHistórias relacionadas'Oppenheimer': Joseph Rotblat, o único cientista que abandonou o Projeto Manhattan por razões morais (e ganhou o Prêmio Nobel da Paz)10 março 2024'A Sociedade da Neve': a amizade entre protagonista e o homem que decidiu não embarcar no avião5 fevereiro 2024As irmãs que se juntaram ao Estado Islâmico e inspiraram documentário que concorre ao Oscar9 março 2024Principais notícias'Exército de likes' do Brasil pode influenciar chances de 'Ainda Estou Aqui' no Oscar? Há 3 horasTrump exige que Putin acabe com a 'ridícula' guerra na Ucrânia ou enfrente novas sançõesHá 6 horasEuropa em crise está preparada para um novo governo Trump?22 janeiro 2025Leia maisFernanda Torres fala à BBC sobre o Oscar: 'Odeio expectativas, sou pessimista por natureza'Há 7 horasComo aliança entre Trump e big techs aumenta pressão sobre governo Lula e STF21 janeiro 2025Dólar, Amazônia, STF: um guia para entender o impacto do governo Trump no Brasil 20 janeiro 2025Quanto controle a China realmente tem sobre o Canal do Panamá 21 janeiro 2025Dólar: o que esperar com o retorno de Donald Trump à Casa Branca?21 janeiro 2025O chapéu de Melania, Obama sozinho e outras 14 fotos da posse de Trump20 janeiro 2025O que é Destino Manifesto, doutrina citada por Trump que faz EUA se enxergarem como 'nação escolhida'21 janeiro 2025'Oscar não é mérito, é concurso de popularidade': as chances de 'Ainda Estou Aqui', segundo a crítica Isabela Boscov21 janeiro 2025O que significa o raro alinhamento de planetas que está acontecendo no céu 21 janeiro 2025Mais lidas1Como aliança entre Trump e big techs aumenta pressão sobre governo Lula e STF2Nova classe trabalhadora não está satisfeita com governo Lula. É um fenômeno\\xa0de\\xa0classe, diz cientista político André Singer39 frases que marcaram o discurso de posse de Trump 4Quem é a bispa de Washington, Mariann Edgar Budde, criticada por Trump por pedir misericórdia com imigrantes e LGBT5Por que mulher presa por invadir Capitólio recusa perdão de Trump6As reações ao controverso gesto de Elon Musk, criticado por semelhança à 'saudação' nazista7O que significa o raro alinhamento de planetas que está acontecendo no céu 8O chapéu de Melania, Obama sozinho e outras 14 fotos da posse de Trump9Trump exige que Putin acabe com a 'ridícula' guerra na Ucrânia ou enfrente novas sanções10O que cena do bastidor de 'É assim que acaba' diz sobre polêmica entre Blake Lively e Justin BaldoniBBC News, BrasilPor que você pode confiar na BBCTermos de UsoSobre a BBCPolítica de privacidadeCookiesContate a BBCBBC News em outras línguasDo not share or sell my info© 2025 BBC. A BBC não se responsabiliza pelo conteúdo de sites externos. Leia sobre nossa política em relação a links externos.\")]"
            ]
          },
          "metadata": {},
          "execution_count": 98
        }
      ]
    },
    {
      "cell_type": "code",
      "source": [
        "print(docs[0].page_content[:300])"
      ],
      "metadata": {
        "colab": {
          "base_uri": "https://localhost:8080/"
        },
        "id": "s-iDaOeq2pyR",
        "outputId": "f1419839-9b51-42ee-f7c8-8341cf85b7b0"
      },
      "execution_count": null,
      "outputs": [
        {
          "output_type": "stream",
          "name": "stdout",
          "text": [
            "Oscar 2024: confira todos os ganhadores dos prêmios da Academia de Hollywood  - BBC News BrasilBBC News, BrasilVá para o conteúdoSeçõesNotíciasBrasilInternacionalEconomiaSaúdeCiênciaTecnologiaVídeosBBC LêNotíciasBrasilInternacionalEconomiaSaúdeCiênciaTecnologiaVídeosBBC LêOscar 2024: confira todos o\n"
          ]
        }
      ]
    },
    {
      "cell_type": "markdown",
      "source": [
        "### 02 - Divisão em pedaços de texto / Split\n"
      ],
      "metadata": {
        "id": "qnO-HpEF2ta9"
      }
    },
    {
      "cell_type": "code",
      "source": [
        "from langchain_text_splitters import RecursiveCharacterTextSplitter\n",
        "\n",
        "text_splitter = RecursiveCharacterTextSplitter(chunk_size = 1000, chunk_overlap = 200, add_start_index = True)\n",
        "splits = text_splitter.split_documents(docs)"
      ],
      "metadata": {
        "id": "CJKzeW2_2rW6"
      },
      "execution_count": null,
      "outputs": []
    },
    {
      "cell_type": "code",
      "source": [
        "len(splits)"
      ],
      "metadata": {
        "colab": {
          "base_uri": "https://localhost:8080/"
        },
        "id": "8QyNHEEA3EQZ",
        "outputId": "2ad9b30e-8af4-4e8b-abad-9887e8c30bd3"
      },
      "execution_count": null,
      "outputs": [
        {
          "output_type": "execute_result",
          "data": {
            "text/plain": [
              "15"
            ]
          },
          "metadata": {},
          "execution_count": 101
        }
      ]
    },
    {
      "cell_type": "code",
      "source": [
        "splits[3]"
      ],
      "metadata": {
        "colab": {
          "base_uri": "https://localhost:8080/"
        },
        "id": "cAqFgTX63GZD",
        "outputId": "febc6543-6423-4657-aee2-9a8668f2a318"
      },
      "execution_count": null,
      "outputs": [
        {
          "output_type": "execute_result",
          "data": {
            "text/plain": [
              "Document(metadata={'source': 'https://www.bbc.com/portuguese/articles/cd19vexw0y1o', 'title': 'Oscar 2024: confira todos os ganhadores dos prêmios da Academia de Hollywood  - BBC News Brasil', 'description': \"'Oppenheimer' foi o grande vencedor da noite com sete estatuetas, incluindo o prêmio de melhor filme, melhor diretor e melhor ator.\", 'language': 'pt-br', 'start_index': 2405}, page_content='Nolan – OppenheimerMelhor atriz: Emma Stone – Pobres CriaturasMelhor ator: Cillian Murphy - OppenheimerMelhor atriz coadjuvante: Da’Vine Joy Randolph - Os RejeitadosMelhor ator coadjuvante: Robert Downey Jr. - OppenheimerMelhor roteiro original: Anatomia de Uma Queda— Justin Triet, Arthur HarariMelhor roteiro adaptado: American Fiction - Cord JeffersonMelhor edição: OppenheimerMelhor filme estrangeiro: Zona de InteresseMelhor animação: O Menino e a GarçaMelhor curta-metragem de animação: War Is Over! Inspired by the Music of John & Yoko - Dace Mullins, Brad BookerMelhor maquiagem e penteados: Pobres CriaturasMelhor design de produção: Pobres CriaturasMelhor design de figurino: Pobres CriaturasMelhores efeitos visuais: Godzilla Minus OneMelhor documentário: 20 Dias em MariupolMelhor documentário de curta-metragem: The Last Repair ShopMelhor fotografia: OppenheimerMelhor curta-metragem: The Wonderful Story of Henry Sugar - Wes Anderson, Steven RalesMelhor som: Zona de InteresseMelhor')"
            ]
          },
          "metadata": {},
          "execution_count": 102
        }
      ]
    },
    {
      "cell_type": "code",
      "source": [
        "splits[3].metadata"
      ],
      "metadata": {
        "colab": {
          "base_uri": "https://localhost:8080/"
        },
        "id": "ffN7XtKk3JDd",
        "outputId": "0e1b46c5-1fac-4364-bf1c-80a5c79cb5c9"
      },
      "execution_count": null,
      "outputs": [
        {
          "output_type": "execute_result",
          "data": {
            "text/plain": [
              "{'source': 'https://www.bbc.com/portuguese/articles/cd19vexw0y1o',\n",
              " 'title': 'Oscar 2024: confira todos os ganhadores dos prêmios da Academia de Hollywood  - BBC News Brasil',\n",
              " 'description': \"'Oppenheimer' foi o grande vencedor da noite com sete estatuetas, incluindo o prêmio de melhor filme, melhor diretor e melhor ator.\",\n",
              " 'language': 'pt-br',\n",
              " 'start_index': 2405}"
            ]
          },
          "metadata": {},
          "execution_count": 103
        }
      ]
    },
    {
      "cell_type": "markdown",
      "source": [
        "### 3 - Armazenamento\n"
      ],
      "metadata": {
        "id": "aCNuZmIA3L9h"
      }
    },
    {
      "cell_type": "code",
      "source": [
        "hf_embeddings = HuggingFaceEmbeddings(model_name = \"sentence-transformers/all-mpnet-base-v2\")"
      ],
      "metadata": {
        "id": "zcWT8Onv3JkT"
      },
      "execution_count": null,
      "outputs": []
    },
    {
      "cell_type": "code",
      "source": [
        "input_test = \"Um teste apenas\"\n",
        "result = hf_embeddings.embed_query(input_test)"
      ],
      "metadata": {
        "id": "wmDa_TTb3ZQz"
      },
      "execution_count": null,
      "outputs": []
    },
    {
      "cell_type": "code",
      "source": [
        "len(result)"
      ],
      "metadata": {
        "colab": {
          "base_uri": "https://localhost:8080/"
        },
        "id": "UpB2CSjs3qUR",
        "outputId": "0995d869-e215-4d83-918e-8880e764dc70"
      },
      "execution_count": null,
      "outputs": [
        {
          "output_type": "execute_result",
          "data": {
            "text/plain": [
              "768"
            ]
          },
          "metadata": {},
          "execution_count": 106
        }
      ]
    },
    {
      "cell_type": "code",
      "source": [
        "print(result)"
      ],
      "metadata": {
        "colab": {
          "base_uri": "https://localhost:8080/"
        },
        "id": "Ro9FD9oM3q4Z",
        "outputId": "2fa5cc80-fd03-485d-d0dd-fcb658f929c5"
      },
      "execution_count": null,
      "outputs": [
        {
          "output_type": "stream",
          "name": "stdout",
          "text": [
            "[-0.026895053684711456, -0.011064697988331318, -0.04531998932361603, -0.0013973648892715573, 0.042436011135578156, -0.014201739802956581, 0.023354941979050636, 0.06011558324098587, 0.061521951109170914, 0.006502094678580761, 0.008159150369465351, -0.030567463487386703, 0.002060323255136609, 0.01296155247837305, 0.004251229576766491, 0.0036631699185818434, -0.026755528524518013, 0.029737044125795364, -0.009770004078745842, -0.046504564583301544, -0.028108958154916763, 0.00016858700837474316, -0.024811016395688057, -0.011828277260065079, 0.08182830363512039, 0.0014993291115388274, 0.013264901004731655, -0.06242178753018379, -0.0012287781573832035, 0.02897716872394085, -0.029528986662626266, -0.025696074590086937, 0.003377106273546815, -0.028868991881608963, 1.518518047305406e-06, -0.03882475197315216, -0.019842026755213737, -0.01765800639986992, -0.008112344890832901, -0.02513054944574833, 0.025749174878001213, 0.11367511004209518, -0.006133120507001877, -0.017986472696065903, -0.04541151598095894, -0.027877165004611015, 0.0015603386564180255, -0.09155325591564178, -0.04099877178668976, 0.09265203773975372, 0.004412883892655373, 0.010464498773217201, 0.0007996232598088682, -0.01969101093709469, 0.03650812804698944, -0.03294997662305832, -0.008631055243313313, -0.0701548308134079, 0.04781185835599899, 0.01242687925696373, 0.03929930180311203, -0.033150848001241684, 0.03459770977497101, 0.05724991112947464, -0.08736559748649597, 0.03071819432079792, 0.031383298337459564, 0.01405106671154499, 0.0017950341571122408, -0.005633484106510878, 0.04815462604165077, -0.019206684082746506, -0.011559923179447651, 0.08503212034702301, -0.006487357430160046, 0.002352138515561819, -0.041903410106897354, 0.017692994326353073, -0.018437864258885384, -0.026105333119630814, 0.06485641002655029, 0.025859495624899864, 0.023214777931571007, 0.05545844882726669, 0.026868928223848343, 0.002058749319985509, 0.000931562390178442, -0.02609676495194435, 0.057364918291568756, -0.02261415123939514, -0.07133803516626358, -0.030265329405665398, -0.037073612213134766, 0.005593080539256334, -0.020938171073794365, 0.006007133983075619, 0.02880081534385681, -0.0708334743976593, 0.04129241406917572, -0.015260600484907627, 0.0034544726368039846, -0.044606395065784454, -0.015291173942387104, 0.02772432565689087, -0.05711260065436363, 0.04585936293005943, -0.005197740625590086, 0.0065271081402897835, -0.009516829624772072, 0.0257089976221323, -0.02121337503194809, -0.026100803166627884, -0.059945348650217056, 0.0018884144956246018, -0.02055685967206955, 0.03388509526848793, -0.032541852444410324, -0.03989897668361664, -0.028026051819324493, 0.03304499387741089, -0.07813955098390579, 0.028564518317580223, 0.007828607223927975, -0.021498817950487137, 0.023470856249332428, -0.04386097192764282, -0.025265324860811234, 0.021412551403045654, -0.005159985739737749, -0.006203569006174803, 0.030328521504998207, -0.015578138642013073, -0.03226373717188835, -0.014691643416881561, 0.027362851426005363, 0.0613548681139946, 0.008915924467146397, -0.06337063014507294, 0.09293574839830399, -0.072969451546669, 0.0050009614787995815, -0.02166321687400341, 0.016978997737169266, 0.0393311083316803, 0.05606892704963684, 0.004061495419591665, 0.04266587272286415, -0.009427386336028576, -0.013593750074505806, 0.004144074860960245, 0.10023456811904907, -0.024249080568552017, 0.00688911322504282, -0.006571982987225056, -0.0011964918812736869, 0.059758614748716354, 0.025898439809679985, -0.023822477087378502, -0.010319527238607407, 0.017328690737485886, 0.017304323613643646, 0.017995420843362808, -0.016577553004026413, 0.03262535482645035, 0.054933082312345505, 0.04279313236474991, 0.01080537959933281, 0.07248576730489731, 0.015065872110426426, 0.052979689091444016, -0.0184662826359272, -0.0021783090196549892, 0.013975213281810284, 0.016508769243955612, -0.0328894667327404, -0.02628203295171261, -0.01711881160736084, 0.05347096174955368, 0.03749585896730423, -0.09625163674354553, 0.0537499375641346, -0.09891687333583832, 0.04951917752623558, -0.044780537486076355, -0.005402594804763794, 0.030070586130023003, -0.018221404403448105, 0.00806620717048645, -0.04340556263923645, 0.03534470871090889, 0.031540822237730026, -0.0004620073887053877, -0.06522037088871002, 0.028470050543546677, 0.009117938578128815, -0.00185540656093508, -0.00044075105688534677, -0.04350679740309715, -0.026620855554938316, -0.004173607099801302, -0.002683888655155897, -0.06295045465230942, 0.13889798521995544, -0.002507589990273118, -0.008020876906812191, 0.005475195124745369, 0.04419318214058876, -0.01563056744635105, 0.008162658661603928, -0.04315406084060669, -0.0780256912112236, -0.02225547470152378, -0.008205278776586056, -0.012218842282891273, 0.006667322013527155, -0.008870579302310944, -0.01614365726709366, 0.04857475683093071, -0.06864816695451736, 0.10150329768657684, 0.014913693070411682, 0.002720428863540292, -0.0063642943277955055, 0.03729987516999245, -0.04535914957523346, 0.0015552924014627934, -0.008102726191282272, -0.0040617408230900764, -0.021751221269369125, 0.022363457828760147, 0.003913432825356722, -0.016853943467140198, 0.03583043813705444, -0.010102756321430206, 0.022809011861681938, 0.04941322281956673, 0.004059541970491409, -0.031630389392375946, -0.017502745613455772, -0.04231632873415947, -0.016446862369775772, 0.05341669172048569, -0.03999195620417595, -0.024126341566443443, -0.0008645046036690474, -0.03582377731800079, 0.04642068222165108, 0.03517131507396698, -0.0029336477164179087, -0.02181144617497921, -0.007590743713080883, -0.0033185489010065794, -0.017720676958560944, -0.004196131136268377, 0.060929734259843826, 0.031193872913718224, -0.04978979378938675, 0.02892782725393772, 0.018123481422662735, 0.0055874986574053764, 0.04935720935463905, -0.03837158903479576, 0.013980034738779068, -0.005702233407646418, 0.11206536740064621, -0.030786387622356415, -0.01954057067632675, -0.06197692081332207, -0.005198275204747915, -0.012934770435094833, 0.04317959025502205, 0.05277311056852341, -0.005386768374592066, -0.005968057084828615, -0.020812485367059708, 0.006294059567153454, -0.019052665680646896, 0.03348454460501671, 0.015530138276517391, -0.025307200849056244, 0.0038923807442188263, -0.011546185240149498, -0.02220572717487812, 0.005664369091391563, 0.024062564596533775, -0.0006229706341400743, 0.03223339095711708, -0.022099453955888748, 0.014996856451034546, 0.03907864913344383, -0.047266751527786255, -0.03156279772520065, -0.001101478235796094, 0.02936713397502899, -0.005944694392383099, 0.06348291784524918, -0.028771495446562767, 0.08674213290214539, 0.04289354756474495, 0.016258174553513527, 0.05796824395656586, 0.045200709253549576, 0.00011935827205888927, -0.05662570148706436, 0.033665891736745834, 0.022164030000567436, -0.06480123847723007, -0.04862647131085396, 0.05708761885762215, -0.031306445598602295, 0.008798126131296158, -0.01576833613216877, 0.03160414844751358, 0.05372082069516182, -0.005637482274323702, 0.0025356700643897057, 0.03380732983350754, -0.0781092718243599, -0.040026403963565826, -0.022713804617524147, -0.027494722977280617, 0.047700025141239166, 0.007517876103520393, 0.00420733354985714, -0.03007596731185913, -0.06297485530376434, 0.0298675037920475, -0.03143463283777237, -0.033699844032526016, 0.016761144623160362, 0.0012701336527243257, -0.05749844014644623, 0.02516699954867363, 0.03966623544692993, 0.007802706677466631, -0.023739291355013847, -0.022619320079684258, -0.004247014410793781, 0.022254617884755135, -0.012884608469903469, -0.002912837313488126, -0.017688916996121407, -0.013026570901274681, -0.005166490096598864, 0.001362227601930499, 0.05785772204399109, 0.004168892279267311, 0.051725033670663834, -0.05108501389622688, -0.04914678633213043, -0.02090972475707531, 0.008270793594419956, -0.0013398920418694615, -0.014617253094911575, 0.0003625804092735052, 0.013110173866152763, -0.0072990525513887405, -0.0019826069474220276, 0.0008838083012960851, -0.007931382395327091, -0.032286953181028366, -0.010726937092840672, -0.030969591811299324, -0.036131296306848526, -0.028829680755734444, 0.032394226640462875, -0.0021129141096025705, 0.0019669022876769304, -0.011133600026369095, -0.04089076817035675, 0.02914983592927456, 0.012858839705586433, -0.014429569244384766, 0.04041209816932678, -0.007630564738065004, 0.01890498399734497, 0.018534718081355095, 0.007928495295345783, -0.009208259172737598, -0.007835163734853268, 0.01292962022125721, -0.060546502470970154, 0.02852935902774334, -0.04050907865166664, -0.011371146887540817, -0.03471026197075844, 0.025328636169433594, 0.01980757713317871, -0.012731448747217655, 0.014655875973403454, 0.027469472959637642, -0.04595623165369034, 0.0630895122885704, 0.030518291518092155, 0.005620489362627268, -0.00937032513320446, 0.07778038829565048, 0.0033721786458045244, 0.03219781070947647, 0.04639967158436775, 0.05518962815403938, 0.0694604367017746, -0.06990892440080643, 0.025291183963418007, -0.014019875787198544, -0.04343266040086746, 0.0249183289706707, 0.04559719190001488, 0.014913607388734818, -0.05965794250369072, 0.026316102594137192, -0.03638666123151779, -0.012211638502776623, 0.0009538937592878938, -0.04916293919086456, -0.0048863026313483715, 0.01594819501042366, -0.036215122789144516, 0.0003700878587551415, 0.015516592189669609, 0.04279942065477371, 0.09239183366298676, 0.03407520055770874, -0.028672711923718452, -0.0442204624414444, -0.015852265059947968, -0.053673408925533295, -0.014707996509969234, -0.031728725880384445, 0.023120053112506866, 0.003933253698050976, 0.020892668515443802, 0.03424791246652603, -0.034081365913152695, -0.056498292833566666, -0.02956196665763855, -0.058831095695495605, -0.0012101989705115557, 0.007963180541992188, -0.04625135660171509, -0.025428015738725662, -0.0001385160576319322, -0.008623582310974598, 0.0242458488792181, -0.08036450296640396, -0.07633545249700546, -0.01668662577867508, 0.020801402628421783, -0.006170358043164015, 0.027865586802363396, 0.06136997789144516, 0.050424542278051376, -0.004134825896471739, -0.0045705982483923435, 0.06354054808616638, -0.017646174877882004, 0.002085944404825568, -0.004755123984068632, -0.00017062942788470536, 0.014183664694428444, 0.006581672467291355, 0.01828818768262863, 0.005858233664184809, -0.019091684371232986, -0.049882177263498306, -0.03656888008117676, -0.014485604129731655, -0.04697567597031593, 0.0195555929094553, -0.03956340253353119, -0.051466941833496094, -0.009109021164476871, -0.007895082235336304, 0.008904341608285904, -0.004791710525751114, 0.014999606646597385, -0.043376561254262924, -0.005429161246865988, -0.05800542235374451, 0.0136066609993577, 0.02750343270599842, 0.0029979748651385307, -0.0063028098084032536, -0.0470665767788887, -0.0004844830837100744, 0.006820735987275839, 0.028988581150770187, -0.008416913449764252, 0.043224867433309555, 0.06299037486314774, -0.02307990752160549, 0.014262547716498375, -0.008182890713214874, -0.04585276544094086, -0.0608292892575264, -0.017659448087215424, 0.032998863607645035, 0.014474357478320599, 0.04223334789276123, 0.014864042401313782, 0.014850080013275146, 0.04350018501281738, 0.004389965906739235, 0.020708497613668442, 0.028191376477479935, 0.05633515492081642, -0.022038020193576813, 0.012528261169791222, 0.020243149250745773, -0.027205130085349083, 0.030859969556331635, 0.05097557231783867, 0.05706193298101425, 0.04912218824028969, -0.07532688975334167, -0.038752634078264236, -0.06011521443724632, -0.047788165509700775, -0.041218146681785583, -0.006737362127751112, 0.022876949980854988, -0.005868763662874699, -0.031858984380960464, -0.001739666797220707, 0.011983754113316536, 0.025129979476332664, 0.0010289561469107866, -0.02750932052731514, 0.08624665439128876, 0.010777016170322895, -0.017090246081352234, -0.019142353907227516, 0.04873690754175186, -0.003805912798270583, -0.05204708129167557, 0.036526158452034, 0.06062298268079758, -0.03370005264878273, -0.05457992106676102, -0.03006918542087078, 0.023620707914233208, -0.00040282224654220045, -0.026550622656941414, 0.0003641492803581059, 0.04256284981966019, 0.04173566773533821, 0.013853291049599648, 0.0641976147890091, 0.002216935623437166, 0.01658572070300579, 0.0017610640497878194, 0.09430369734764099, -0.12284845113754272, 0.011991523206233978, -0.08268555998802185, -6.041273953162646e-33, 0.029623985290527344, -0.04171997308731079, 0.03399186581373215, -0.043173648416996, -0.021690096706151962, -0.005367735866457224, -0.015080617740750313, 0.015964554622769356, 0.008724525570869446, 0.014837730675935745, 0.012467598542571068, -0.08036109060049057, 0.011160045862197876, -0.008565978147089481, 0.013953981921076775, 0.03522086888551712, 0.009990070015192032, -0.04325594753026962, -0.042410172522068024, -0.026297926902770996, -0.018999401479959488, -0.023900441825389862, 0.06179909408092499, 0.015349975787103176, 0.036560818552970886, -0.0507681705057621, 0.014108461327850819, 0.006591141223907471, -0.08108485490083694, -0.0007322669262066483, 0.022310469299554825, 0.009007138200104237, 0.04123251512646675, 0.03427496924996376, 0.07497353106737137, 0.0013246563030406833, 0.039471011608839035, -0.03775465860962868, 0.051662299782037735, 0.03569386154413223, -0.05036347731947899, -0.03865088149905205, 0.0005450425669550896, -0.010135207325220108, 0.0053892419673502445, 0.020403489470481873, -0.0009993924759328365, -0.04171357676386833, 0.023081228137016296, -0.045247841626405716, 0.030325785279273987, 0.01059507392346859, 0.02601918764412403, -0.041253361850976944, 0.02241983264684677, 0.09777529537677765, -0.012653055600821972, -0.08025764673948288, 0.03153526782989502, -0.003796136472374201, 0.032681528478860855, -0.01577659323811531, 0.010834425687789917, -0.029962671920657158, -0.017286254093050957, -0.012102194130420685, 0.04526418074965477, -0.029832512140274048, 0.04376807436347008, 0.023305488750338554, -0.00014861096860840917, 0.0009504720219410956, 0.015173177234828472, 0.0022455696016550064, -0.007003620732575655, 0.029672903940081596, 0.004535204730927944, 0.014706582762300968, 0.03527464345097542, 0.03940526023507118, 0.005220023449510336, -0.031784165650606155, -0.02239246293902397, 0.009863285347819328, -0.008316876366734505, -0.046990688890218735, -0.027865998446941376, -0.06348729133605957, -0.05670996755361557, -0.010592471808195114, 0.0034514914732426405, 0.05052628740668297, -0.024081990122795105, -0.03432291001081467, 0.010506933555006981, -0.06821897625923157, -0.08237332850694656, -0.01446250919252634, 0.018882105126976967, 0.007988055236637592, -0.031108321622014046, 0.02713713049888611, 0.017847856506705284, 0.08641738444566727, -0.03292906656861305, -0.03030162863433361, 0.011653658002614975, -0.027213219553232193, -0.014072672463953495, 0.03499464690685272, 0.02563861571252346, 0.04131954908370972, 0.02094157598912716, -0.029840154573321342, 0.010065632872283459, 0.0634731724858284, 0.02500336430966854, -0.027065973728895187, -0.031641773879528046, -0.04833236336708069, -0.05961793288588524, 0.022296763956546783, -0.0037330782506614923, 0.00870359968394041, -0.042247261852025986, -0.034361276775598526, 0.01910862885415554, 0.06573142856359482, -0.06816920638084412, -0.03570789843797684, -0.006035950966179371, -0.02602393738925457, 2.3450331809726777e-07, -0.021343087777495384, 0.0628800317645073, 0.023480772972106934, -0.018586428835988045, 0.030350325629115105, -0.016687771305441856, -0.018327657133340836, 0.04241564869880676, 0.011716802604496479, 0.01138859149068594, 0.016773052513599396, -0.022977743297815323, -0.007362912409007549, 0.00027961714658886194, -0.031322773545980453, 0.031277772039175034, -0.06951127201318741, -0.013779822736978531, -0.02424202300608158, -0.05249482020735741, -0.025316331535577774, 0.010528521612286568, -0.0065851965919137, -0.02347673662006855, -0.049025170505046844, -0.01490033883601427, 0.025055954232811928, 0.022544873878359795, -0.04918356239795685, -0.06017880141735077, 0.0427793487906456, 0.08589533716440201, 0.0031902152113616467, 0.0242992602288723, 0.015067122876644135, -0.021560028195381165, 0.002398459007963538, -0.0007855859585106373, 0.018858419731259346, 0.03064674139022827, 0.04828720539808273, -0.04779693856835365, -0.01701468601822853, 0.0034241441171616316, 0.04564569890499115, -0.006248499266803265, -0.019756225869059563, -0.02017008699476719, 0.05161752924323082, -0.03356385603547096, -0.022708702832460403, 0.0026186613831669092, 0.007378587033599615, 0.030401092022657394, -0.022932281717658043, -0.0004075298202224076, 0.024469031020998955, -0.03299549221992493, -0.0006159942713566124, 0.10305841267108917, -0.002326441230252385, -0.043820858001708984, 0.034792833030223846, 0.08542444556951523, 0.0026990969199687243, -0.05801435187458992, 0.017570791766047478, 1.3583878408689223e-34, -0.03432239964604378, 0.0009078576695173979, -0.0041879648342728615, -0.010864580050110817, 0.00746581656858325, -0.003714600345119834, 0.0018862003926187754, -0.01174075622111559, 0.05101265758275986, 0.0008827742421999574, 0.004050463438034058]\n"
          ]
        }
      ]
    },
    {
      "cell_type": "code",
      "source": [
        "vectorstore = Chroma.from_documents(documents=splits, embedding=hf_embeddings)"
      ],
      "metadata": {
        "id": "gzjYFG-m3tZJ"
      },
      "execution_count": null,
      "outputs": []
    },
    {
      "cell_type": "markdown",
      "source": [
        "### 4 - Configurando o recuperador de texto / Retriever\n"
      ],
      "metadata": {
        "id": "Ypyy4KPg4AH2"
      }
    },
    {
      "cell_type": "code",
      "source": [
        "retriever = vectorstore.as_retriever(search_type = \"similarity\", search_kwargs={\"k\": 6})"
      ],
      "metadata": {
        "id": "QUL4NeKU38vU"
      },
      "execution_count": null,
      "outputs": []
    },
    {
      "cell_type": "markdown",
      "source": [
        "### 5 - Geração"
      ],
      "metadata": {
        "id": "LerlWyGD4U3V"
      }
    },
    {
      "cell_type": "code",
      "source": [
        "template_rag"
      ],
      "metadata": {
        "colab": {
          "base_uri": "https://localhost:8080/",
          "height": 53
        },
        "id": "b9HKV4_G4RU6",
        "outputId": "dcbafd19-a748-4735-fde6-5a302f510c93"
      },
      "execution_count": null,
      "outputs": [
        {
          "output_type": "execute_result",
          "data": {
            "text/plain": [
              "'\\n<|begin_of_text|>\\n<|start_header_id|>system<|end_header_id|>\\nVocê é um assistente virtual prestativo e está respondendo perguntas gerais.\\nUse os seguintes pedaços de contexto recuperado para responder à pergunta.\\nSe você não sabe a resposta, apenas diga que não sabe. Mantenha a resposta concisa.\\n<|eot_id|>\\n<|start_header_id|>user<|end_header_id|>\\nPergunta: {pergunta}\\nContexto: {contexto}\\n<|eot_id|>\\n<|start_header_id|>assistant<|end_header_id|>\\n'"
            ],
            "application/vnd.google.colaboratory.intrinsic+json": {
              "type": "string"
            }
          },
          "metadata": {},
          "execution_count": 110
        }
      ]
    },
    {
      "cell_type": "code",
      "source": [
        "prompt_rag = PromptTemplate(\n",
        "    input_variables=[\"contexto\", \"pergunta\"],\n",
        "    template=template_rag,\n",
        ")\n",
        "prompt_rag"
      ],
      "metadata": {
        "colab": {
          "base_uri": "https://localhost:8080/"
        },
        "id": "8mNOQEbP4Z7M",
        "outputId": "8a6f5b67-512f-46f6-fbd4-0cf2d9520c81"
      },
      "execution_count": null,
      "outputs": [
        {
          "output_type": "execute_result",
          "data": {
            "text/plain": [
              "PromptTemplate(input_variables=['contexto', 'pergunta'], input_types={}, partial_variables={}, template='\\n<|begin_of_text|>\\n<|start_header_id|>system<|end_header_id|>\\nVocê é um assistente virtual prestativo e está respondendo perguntas gerais.\\nUse os seguintes pedaços de contexto recuperado para responder à pergunta.\\nSe você não sabe a resposta, apenas diga que não sabe. Mantenha a resposta concisa.\\n<|eot_id|>\\n<|start_header_id|>user<|end_header_id|>\\nPergunta: {pergunta}\\nContexto: {contexto}\\n<|eot_id|>\\n<|start_header_id|>assistant<|end_header_id|>\\n')"
            ]
          },
          "metadata": {},
          "execution_count": 111
        }
      ]
    },
    {
      "cell_type": "code",
      "source": [
        "def format_docs(docs):\n",
        "  return \"\\n\\n\".join(doc.page_content for doc in docs)"
      ],
      "metadata": {
        "id": "DAuhbV_E4qg2"
      },
      "execution_count": null,
      "outputs": []
    },
    {
      "cell_type": "code",
      "source": [
        "chain_rag = ({\"contexto\": retriever | format_docs, \"pergunta\": RunnablePassthrough()}\n",
        "             | prompt_rag\n",
        "             | llm\n",
        "             | StrOutputParser())"
      ],
      "metadata": {
        "id": "aNiek6H74tt-"
      },
      "execution_count": null,
      "outputs": []
    },
    {
      "cell_type": "code",
      "source": [
        "chain_rag.invoke(\"Qual filme ganhou mais oscars na premiação de 2024?\")"
      ],
      "metadata": {
        "colab": {
          "base_uri": "https://localhost:8080/",
          "height": 1000
        },
        "id": "heCOEFWK5GPP",
        "outputId": "e3e12246-45ee-47ee-edad-524aef5ab61f"
      },
      "execution_count": null,
      "outputs": [
        {
          "output_type": "stream",
          "name": "stderr",
          "text": [
            "Setting `pad_token_id` to `eos_token_id`:None for open-end generation.\n"
          ]
        },
        {
          "output_type": "stream",
          "name": "stdout",
          "text": [
            "\u001b[32;1m\u001b[1;3m[chain/start]\u001b[0m \u001b[1m[chain:RunnableSequence] Entering Chain run with input:\n",
            "\u001b[0m{\n",
            "  \"input\": \"Qual filme ganhou mais oscars na premiação de 2024?\"\n",
            "}\n",
            "\u001b[32;1m\u001b[1;3m[chain/start]\u001b[0m \u001b[1m[chain:RunnableSequence > chain:RunnableParallel<contexto,pergunta>] Entering Chain run with input:\n",
            "\u001b[0m{\n",
            "  \"input\": \"Qual filme ganhou mais oscars na premiação de 2024?\"\n",
            "}\n",
            "\u001b[32;1m\u001b[1;3m[chain/start]\u001b[0m \u001b[1m[chain:RunnableSequence > chain:RunnableParallel<contexto,pergunta> > chain:RunnableSequence] Entering Chain run with input:\n",
            "\u001b[0m{\n",
            "  \"input\": \"Qual filme ganhou mais oscars na premiação de 2024?\"\n",
            "}\n",
            "\u001b[32;1m\u001b[1;3m[chain/start]\u001b[0m \u001b[1m[chain:RunnableSequence > chain:RunnableParallel<contexto,pergunta> > chain:RunnablePassthrough] Entering Chain run with input:\n",
            "\u001b[0m{\n",
            "  \"input\": \"Qual filme ganhou mais oscars na premiação de 2024?\"\n",
            "}\n",
            "\u001b[36;1m\u001b[1;3m[chain/end]\u001b[0m \u001b[1m[chain:RunnableSequence > chain:RunnableParallel<contexto,pergunta> > chain:RunnablePassthrough] [2ms] Exiting Chain run with output:\n",
            "\u001b[0m{\n",
            "  \"output\": \"Qual filme ganhou mais oscars na premiação de 2024?\"\n",
            "}\n",
            "\u001b[32;1m\u001b[1;3m[chain/start]\u001b[0m \u001b[1m[chain:RunnableSequence > chain:RunnableParallel<contexto,pergunta> > chain:RunnableSequence > chain:format_docs] Entering Chain run with input:\n",
            "\u001b[0m[inputs]\n",
            "\u001b[36;1m\u001b[1;3m[chain/end]\u001b[0m \u001b[1m[chain:RunnableSequence > chain:RunnableParallel<contexto,pergunta> > chain:RunnableSequence > chain:format_docs] [1ms] Exiting Chain run with output:\n",
            "\u001b[0m{\n",
            "  \"output\": \"filmes que vão chegar aos cinemas em 2025Fernanda Torres no Globo de Ouro 2025: confira outros filmes brasileiros premiados internacionalmenteOscar 2025: as previsões dos críticos da BBC para as indicações (e o que dizem de Fernanda Torres)Fernanda Torres fala à BBC sobre o Oscar: 'Odeio expectativas, sou pessimista por natureza'Fim do Matérias recomendadasAssassinos da Lua das Flores voltou para casa sem nenhuma estatueta, apesar de ter recebido 10 indicações.Confira abaixo a lista completa dos vencedores.Os ganhadoresPule Novo podcast investigativo: A Raposa e continue lendoNovo podcast investigativo: A RaposaUma tonelada de cocaína, três brasileiros inocentes e a busca por um suspeito inglêsEpisódiosFim do Novo podcast investigativo: A RaposaMelhor filme: OppenheimerMelhor diretor: Christopher Nolan – OppenheimerMelhor atriz: Emma Stone – Pobres CriaturasMelhor ator: Cillian Murphy - OppenheimerMelhor atriz coadjuvante: Da’Vine Joy Randolph - Os RejeitadosMelhor ator coadjuvante:\\n\\nOscar 2024: confira todos os ganhadores dos prêmios da Academia de Hollywood  - BBC News BrasilBBC News, BrasilVá para o conteúdoSeçõesNotíciasBrasilInternacionalEconomiaSaúdeCiênciaTecnologiaVídeosBBC LêNotíciasBrasilInternacionalEconomiaSaúdeCiênciaTecnologiaVídeosBBC LêOscar 2024: confira todos os ganhadores dos prêmios da Academia de HollywoodCrédito, Getty ImagesLegenda da foto, Robert Downey Jr., Da'Vine Hoy Randolph, Emma Stone e Cillian Murphy com suas respectivas estatuetas do OscarArticle informationAuthor, Leire VentasRole,  Correspondente da BBC News Mundo em Los AngelesTwitter, @leire_ventas11 março 2024Oppenheimer foi consagrado o grande vencedor da 96ª edição do Oscar no domingo (10/3) .O filme sobre o “pai” da bomba atômica ganhou sete estatuetas, incluindo na categoria de melhor filme, melhor diretor para Christopher Nolan, melhor ator para Cillian Murphy e melhor ator coadjuvante para Robert Downey Jr.Em uma cerimônia com poucas surpresas, na qual a maior parte das\\n\\nMatías Recalt; o filme de animação Meu Amigo Robô, do espanhol Pablo Berger, e o documentário A Memória Infinita, da diretora chilena Maite Alberdi.E até Martin Scorsese, cujo filme Assassinos da Lua das Flores havia recebido 10 indicações e era cotado como um dos favoritos, saiu de mãos abanando.Tópicos relacionadosCelebridade EntretenimentoCulturaCinemaOscarsHistórias relacionadas'Oppenheimer': Joseph Rotblat, o único cientista que abandonou o Projeto Manhattan por razões morais (e ganhou o Prêmio Nobel da Paz)10 março 2024'A Sociedade da Neve': a amizade entre protagonista e o homem que decidiu não embarcar no avião5 fevereiro 2024As irmãs que se juntaram ao Estado Islâmico e inspiraram documentário que concorre ao Oscar9 março 2024Principais notícias'Exército de likes' do Brasil pode influenciar chances de 'Ainda Estou Aqui' no Oscar? Há 3 horasTrump exige que Putin acabe com a 'ridícula' guerra na Ucrânia ou enfrente novas sançõesHá 6 horasEuropa em crise está preparada para um\\n\\nmelhor filme, melhor diretor para Christopher Nolan, melhor ator para Cillian Murphy e melhor ator coadjuvante para Robert Downey Jr.Em uma cerimônia com poucas surpresas, na qual a maior parte das apostas da crítica e do público se concretizaram, Pobres Criaturas também conquistou vários prêmios.Uma das quatro estatuetas que o filme do grego Yorgos Lanthimos arrebatou foi graças a Emma Stone, que ganhou o prêmio de melhor atriz por interpretar a protagonista Bella Baxter.O Oscar de Da'Vine Joy Randolph como melhor atriz coadjuvante foi o único de Os Rejeitados; e o de Billie Eislish, que recebeu o prêmio de melhor canção original por What Was I Made For?, foi o único Oscar do grande sucesso de bilheteria do ano, Barbie.Pule Matérias recomendadas e continue lendoMatérias recomendadas25 filmes que vão chegar aos cinemas em 2025Fernanda Torres no Globo de Ouro 2025: confira outros filmes brasileiros premiados internacionalmenteOscar 2025: as previsões dos críticos da BBC para as\\n\\ninfluenciar chances de 'Ainda Estou Aqui' no Oscar? Há 3 horasTrump exige que Putin acabe com a 'ridícula' guerra na Ucrânia ou enfrente novas sançõesHá 6 horasEuropa em crise está preparada para um novo governo Trump?22 janeiro 2025Leia maisFernanda Torres fala à BBC sobre o Oscar: 'Odeio expectativas, sou pessimista por natureza'Há 7 horasComo aliança entre Trump e big techs aumenta pressão sobre governo Lula e STF21 janeiro 2025Dólar, Amazônia, STF: um guia para entender o impacto do governo Trump no Brasil 20 janeiro 2025Quanto controle a China realmente tem sobre o Canal do Panamá 21 janeiro 2025Dólar: o que esperar com o retorno de Donald Trump à Casa Branca?21 janeiro 2025O chapéu de Melania, Obama sozinho e outras 14 fotos da posse de Trump20 janeiro 2025O que é Destino Manifesto, doutrina citada por Trump que faz EUA se enxergarem como 'nação escolhida'21 janeiro 2025'Oscar não é mérito, é concurso de popularidade': as chances de 'Ainda Estou Aqui', segundo a crítica Isabela\\n\\npelo Dia das Mães (celebrado três semanas antes da Páscoa no Reino Unido) ao receber o Oscar de melhor documentário de curta-metragem por War Is Over! Inspired by the Music of John & Yoko.Quem não subiu (novamente) ao palco para receber o prêmio foi Hayao Miyazaki. Aos 83 anos, a lenda viva do Studio Ghibli voltou a ganhar o Oscar de melhor filme de animação, que se soma agora à estatueta que ele conquistou em 2003 por A Viagem de Chihiro.Crédito, Getty ImagesLegenda da foto, Ao receber o Oscar de melhor curta-metragem de animação, Sean Lennon parabenizou Yoko Ono pelo Dia das MãesEssa não foi a noite dos latino-americanos e espanhóis.Ficaram sem Oscar: A Sociedade da Neve, longa dirigido pelo catalão Juan Antonio Bayona e estrelado, entre outros, pelo uruguaio Enzo Vogrincic e pelo argentino Matías Recalt; o filme de animação Meu Amigo Robô, do espanhol Pablo Berger, e o documentário A Memória Infinita, da diretora chilena Maite Alberdi.E até Martin Scorsese, cujo filme Assassinos da\"\n",
            "}\n",
            "\u001b[36;1m\u001b[1;3m[chain/end]\u001b[0m \u001b[1m[chain:RunnableSequence > chain:RunnableParallel<contexto,pergunta> > chain:RunnableSequence] [31ms] Exiting Chain run with output:\n",
            "\u001b[0m{\n",
            "  \"output\": \"filmes que vão chegar aos cinemas em 2025Fernanda Torres no Globo de Ouro 2025: confira outros filmes brasileiros premiados internacionalmenteOscar 2025: as previsões dos críticos da BBC para as indicações (e o que dizem de Fernanda Torres)Fernanda Torres fala à BBC sobre o Oscar: 'Odeio expectativas, sou pessimista por natureza'Fim do Matérias recomendadasAssassinos da Lua das Flores voltou para casa sem nenhuma estatueta, apesar de ter recebido 10 indicações.Confira abaixo a lista completa dos vencedores.Os ganhadoresPule Novo podcast investigativo: A Raposa e continue lendoNovo podcast investigativo: A RaposaUma tonelada de cocaína, três brasileiros inocentes e a busca por um suspeito inglêsEpisódiosFim do Novo podcast investigativo: A RaposaMelhor filme: OppenheimerMelhor diretor: Christopher Nolan – OppenheimerMelhor atriz: Emma Stone – Pobres CriaturasMelhor ator: Cillian Murphy - OppenheimerMelhor atriz coadjuvante: Da’Vine Joy Randolph - Os RejeitadosMelhor ator coadjuvante:\\n\\nOscar 2024: confira todos os ganhadores dos prêmios da Academia de Hollywood  - BBC News BrasilBBC News, BrasilVá para o conteúdoSeçõesNotíciasBrasilInternacionalEconomiaSaúdeCiênciaTecnologiaVídeosBBC LêNotíciasBrasilInternacionalEconomiaSaúdeCiênciaTecnologiaVídeosBBC LêOscar 2024: confira todos os ganhadores dos prêmios da Academia de HollywoodCrédito, Getty ImagesLegenda da foto, Robert Downey Jr., Da'Vine Hoy Randolph, Emma Stone e Cillian Murphy com suas respectivas estatuetas do OscarArticle informationAuthor, Leire VentasRole,  Correspondente da BBC News Mundo em Los AngelesTwitter, @leire_ventas11 março 2024Oppenheimer foi consagrado o grande vencedor da 96ª edição do Oscar no domingo (10/3) .O filme sobre o “pai” da bomba atômica ganhou sete estatuetas, incluindo na categoria de melhor filme, melhor diretor para Christopher Nolan, melhor ator para Cillian Murphy e melhor ator coadjuvante para Robert Downey Jr.Em uma cerimônia com poucas surpresas, na qual a maior parte das\\n\\nMatías Recalt; o filme de animação Meu Amigo Robô, do espanhol Pablo Berger, e o documentário A Memória Infinita, da diretora chilena Maite Alberdi.E até Martin Scorsese, cujo filme Assassinos da Lua das Flores havia recebido 10 indicações e era cotado como um dos favoritos, saiu de mãos abanando.Tópicos relacionadosCelebridade EntretenimentoCulturaCinemaOscarsHistórias relacionadas'Oppenheimer': Joseph Rotblat, o único cientista que abandonou o Projeto Manhattan por razões morais (e ganhou o Prêmio Nobel da Paz)10 março 2024'A Sociedade da Neve': a amizade entre protagonista e o homem que decidiu não embarcar no avião5 fevereiro 2024As irmãs que se juntaram ao Estado Islâmico e inspiraram documentário que concorre ao Oscar9 março 2024Principais notícias'Exército de likes' do Brasil pode influenciar chances de 'Ainda Estou Aqui' no Oscar? Há 3 horasTrump exige que Putin acabe com a 'ridícula' guerra na Ucrânia ou enfrente novas sançõesHá 6 horasEuropa em crise está preparada para um\\n\\nmelhor filme, melhor diretor para Christopher Nolan, melhor ator para Cillian Murphy e melhor ator coadjuvante para Robert Downey Jr.Em uma cerimônia com poucas surpresas, na qual a maior parte das apostas da crítica e do público se concretizaram, Pobres Criaturas também conquistou vários prêmios.Uma das quatro estatuetas que o filme do grego Yorgos Lanthimos arrebatou foi graças a Emma Stone, que ganhou o prêmio de melhor atriz por interpretar a protagonista Bella Baxter.O Oscar de Da'Vine Joy Randolph como melhor atriz coadjuvante foi o único de Os Rejeitados; e o de Billie Eislish, que recebeu o prêmio de melhor canção original por What Was I Made For?, foi o único Oscar do grande sucesso de bilheteria do ano, Barbie.Pule Matérias recomendadas e continue lendoMatérias recomendadas25 filmes que vão chegar aos cinemas em 2025Fernanda Torres no Globo de Ouro 2025: confira outros filmes brasileiros premiados internacionalmenteOscar 2025: as previsões dos críticos da BBC para as\\n\\ninfluenciar chances de 'Ainda Estou Aqui' no Oscar? Há 3 horasTrump exige que Putin acabe com a 'ridícula' guerra na Ucrânia ou enfrente novas sançõesHá 6 horasEuropa em crise está preparada para um novo governo Trump?22 janeiro 2025Leia maisFernanda Torres fala à BBC sobre o Oscar: 'Odeio expectativas, sou pessimista por natureza'Há 7 horasComo aliança entre Trump e big techs aumenta pressão sobre governo Lula e STF21 janeiro 2025Dólar, Amazônia, STF: um guia para entender o impacto do governo Trump no Brasil 20 janeiro 2025Quanto controle a China realmente tem sobre o Canal do Panamá 21 janeiro 2025Dólar: o que esperar com o retorno de Donald Trump à Casa Branca?21 janeiro 2025O chapéu de Melania, Obama sozinho e outras 14 fotos da posse de Trump20 janeiro 2025O que é Destino Manifesto, doutrina citada por Trump que faz EUA se enxergarem como 'nação escolhida'21 janeiro 2025'Oscar não é mérito, é concurso de popularidade': as chances de 'Ainda Estou Aqui', segundo a crítica Isabela\\n\\npelo Dia das Mães (celebrado três semanas antes da Páscoa no Reino Unido) ao receber o Oscar de melhor documentário de curta-metragem por War Is Over! Inspired by the Music of John & Yoko.Quem não subiu (novamente) ao palco para receber o prêmio foi Hayao Miyazaki. Aos 83 anos, a lenda viva do Studio Ghibli voltou a ganhar o Oscar de melhor filme de animação, que se soma agora à estatueta que ele conquistou em 2003 por A Viagem de Chihiro.Crédito, Getty ImagesLegenda da foto, Ao receber o Oscar de melhor curta-metragem de animação, Sean Lennon parabenizou Yoko Ono pelo Dia das MãesEssa não foi a noite dos latino-americanos e espanhóis.Ficaram sem Oscar: A Sociedade da Neve, longa dirigido pelo catalão Juan Antonio Bayona e estrelado, entre outros, pelo uruguaio Enzo Vogrincic e pelo argentino Matías Recalt; o filme de animação Meu Amigo Robô, do espanhol Pablo Berger, e o documentário A Memória Infinita, da diretora chilena Maite Alberdi.E até Martin Scorsese, cujo filme Assassinos da\"\n",
            "}\n",
            "\u001b[36;1m\u001b[1;3m[chain/end]\u001b[0m \u001b[1m[chain:RunnableSequence > chain:RunnableParallel<contexto,pergunta>] [35ms] Exiting Chain run with output:\n",
            "\u001b[0m{\n",
            "  \"contexto\": \"filmes que vão chegar aos cinemas em 2025Fernanda Torres no Globo de Ouro 2025: confira outros filmes brasileiros premiados internacionalmenteOscar 2025: as previsões dos críticos da BBC para as indicações (e o que dizem de Fernanda Torres)Fernanda Torres fala à BBC sobre o Oscar: 'Odeio expectativas, sou pessimista por natureza'Fim do Matérias recomendadasAssassinos da Lua das Flores voltou para casa sem nenhuma estatueta, apesar de ter recebido 10 indicações.Confira abaixo a lista completa dos vencedores.Os ganhadoresPule Novo podcast investigativo: A Raposa e continue lendoNovo podcast investigativo: A RaposaUma tonelada de cocaína, três brasileiros inocentes e a busca por um suspeito inglêsEpisódiosFim do Novo podcast investigativo: A RaposaMelhor filme: OppenheimerMelhor diretor: Christopher Nolan – OppenheimerMelhor atriz: Emma Stone – Pobres CriaturasMelhor ator: Cillian Murphy - OppenheimerMelhor atriz coadjuvante: Da’Vine Joy Randolph - Os RejeitadosMelhor ator coadjuvante:\\n\\nOscar 2024: confira todos os ganhadores dos prêmios da Academia de Hollywood  - BBC News BrasilBBC News, BrasilVá para o conteúdoSeçõesNotíciasBrasilInternacionalEconomiaSaúdeCiênciaTecnologiaVídeosBBC LêNotíciasBrasilInternacionalEconomiaSaúdeCiênciaTecnologiaVídeosBBC LêOscar 2024: confira todos os ganhadores dos prêmios da Academia de HollywoodCrédito, Getty ImagesLegenda da foto, Robert Downey Jr., Da'Vine Hoy Randolph, Emma Stone e Cillian Murphy com suas respectivas estatuetas do OscarArticle informationAuthor, Leire VentasRole,  Correspondente da BBC News Mundo em Los AngelesTwitter, @leire_ventas11 março 2024Oppenheimer foi consagrado o grande vencedor da 96ª edição do Oscar no domingo (10/3) .O filme sobre o “pai” da bomba atômica ganhou sete estatuetas, incluindo na categoria de melhor filme, melhor diretor para Christopher Nolan, melhor ator para Cillian Murphy e melhor ator coadjuvante para Robert Downey Jr.Em uma cerimônia com poucas surpresas, na qual a maior parte das\\n\\nMatías Recalt; o filme de animação Meu Amigo Robô, do espanhol Pablo Berger, e o documentário A Memória Infinita, da diretora chilena Maite Alberdi.E até Martin Scorsese, cujo filme Assassinos da Lua das Flores havia recebido 10 indicações e era cotado como um dos favoritos, saiu de mãos abanando.Tópicos relacionadosCelebridade EntretenimentoCulturaCinemaOscarsHistórias relacionadas'Oppenheimer': Joseph Rotblat, o único cientista que abandonou o Projeto Manhattan por razões morais (e ganhou o Prêmio Nobel da Paz)10 março 2024'A Sociedade da Neve': a amizade entre protagonista e o homem que decidiu não embarcar no avião5 fevereiro 2024As irmãs que se juntaram ao Estado Islâmico e inspiraram documentário que concorre ao Oscar9 março 2024Principais notícias'Exército de likes' do Brasil pode influenciar chances de 'Ainda Estou Aqui' no Oscar? Há 3 horasTrump exige que Putin acabe com a 'ridícula' guerra na Ucrânia ou enfrente novas sançõesHá 6 horasEuropa em crise está preparada para um\\n\\nmelhor filme, melhor diretor para Christopher Nolan, melhor ator para Cillian Murphy e melhor ator coadjuvante para Robert Downey Jr.Em uma cerimônia com poucas surpresas, na qual a maior parte das apostas da crítica e do público se concretizaram, Pobres Criaturas também conquistou vários prêmios.Uma das quatro estatuetas que o filme do grego Yorgos Lanthimos arrebatou foi graças a Emma Stone, que ganhou o prêmio de melhor atriz por interpretar a protagonista Bella Baxter.O Oscar de Da'Vine Joy Randolph como melhor atriz coadjuvante foi o único de Os Rejeitados; e o de Billie Eislish, que recebeu o prêmio de melhor canção original por What Was I Made For?, foi o único Oscar do grande sucesso de bilheteria do ano, Barbie.Pule Matérias recomendadas e continue lendoMatérias recomendadas25 filmes que vão chegar aos cinemas em 2025Fernanda Torres no Globo de Ouro 2025: confira outros filmes brasileiros premiados internacionalmenteOscar 2025: as previsões dos críticos da BBC para as\\n\\ninfluenciar chances de 'Ainda Estou Aqui' no Oscar? Há 3 horasTrump exige que Putin acabe com a 'ridícula' guerra na Ucrânia ou enfrente novas sançõesHá 6 horasEuropa em crise está preparada para um novo governo Trump?22 janeiro 2025Leia maisFernanda Torres fala à BBC sobre o Oscar: 'Odeio expectativas, sou pessimista por natureza'Há 7 horasComo aliança entre Trump e big techs aumenta pressão sobre governo Lula e STF21 janeiro 2025Dólar, Amazônia, STF: um guia para entender o impacto do governo Trump no Brasil 20 janeiro 2025Quanto controle a China realmente tem sobre o Canal do Panamá 21 janeiro 2025Dólar: o que esperar com o retorno de Donald Trump à Casa Branca?21 janeiro 2025O chapéu de Melania, Obama sozinho e outras 14 fotos da posse de Trump20 janeiro 2025O que é Destino Manifesto, doutrina citada por Trump que faz EUA se enxergarem como 'nação escolhida'21 janeiro 2025'Oscar não é mérito, é concurso de popularidade': as chances de 'Ainda Estou Aqui', segundo a crítica Isabela\\n\\npelo Dia das Mães (celebrado três semanas antes da Páscoa no Reino Unido) ao receber o Oscar de melhor documentário de curta-metragem por War Is Over! Inspired by the Music of John & Yoko.Quem não subiu (novamente) ao palco para receber o prêmio foi Hayao Miyazaki. Aos 83 anos, a lenda viva do Studio Ghibli voltou a ganhar o Oscar de melhor filme de animação, que se soma agora à estatueta que ele conquistou em 2003 por A Viagem de Chihiro.Crédito, Getty ImagesLegenda da foto, Ao receber o Oscar de melhor curta-metragem de animação, Sean Lennon parabenizou Yoko Ono pelo Dia das MãesEssa não foi a noite dos latino-americanos e espanhóis.Ficaram sem Oscar: A Sociedade da Neve, longa dirigido pelo catalão Juan Antonio Bayona e estrelado, entre outros, pelo uruguaio Enzo Vogrincic e pelo argentino Matías Recalt; o filme de animação Meu Amigo Robô, do espanhol Pablo Berger, e o documentário A Memória Infinita, da diretora chilena Maite Alberdi.E até Martin Scorsese, cujo filme Assassinos da\",\n",
            "  \"pergunta\": \"Qual filme ganhou mais oscars na premiação de 2024?\"\n",
            "}\n",
            "\u001b[32;1m\u001b[1;3m[chain/start]\u001b[0m \u001b[1m[chain:RunnableSequence > prompt:PromptTemplate] Entering Prompt run with input:\n",
            "\u001b[0m{\n",
            "  \"contexto\": \"filmes que vão chegar aos cinemas em 2025Fernanda Torres no Globo de Ouro 2025: confira outros filmes brasileiros premiados internacionalmenteOscar 2025: as previsões dos críticos da BBC para as indicações (e o que dizem de Fernanda Torres)Fernanda Torres fala à BBC sobre o Oscar: 'Odeio expectativas, sou pessimista por natureza'Fim do Matérias recomendadasAssassinos da Lua das Flores voltou para casa sem nenhuma estatueta, apesar de ter recebido 10 indicações.Confira abaixo a lista completa dos vencedores.Os ganhadoresPule Novo podcast investigativo: A Raposa e continue lendoNovo podcast investigativo: A RaposaUma tonelada de cocaína, três brasileiros inocentes e a busca por um suspeito inglêsEpisódiosFim do Novo podcast investigativo: A RaposaMelhor filme: OppenheimerMelhor diretor: Christopher Nolan – OppenheimerMelhor atriz: Emma Stone – Pobres CriaturasMelhor ator: Cillian Murphy - OppenheimerMelhor atriz coadjuvante: Da’Vine Joy Randolph - Os RejeitadosMelhor ator coadjuvante:\\n\\nOscar 2024: confira todos os ganhadores dos prêmios da Academia de Hollywood  - BBC News BrasilBBC News, BrasilVá para o conteúdoSeçõesNotíciasBrasilInternacionalEconomiaSaúdeCiênciaTecnologiaVídeosBBC LêNotíciasBrasilInternacionalEconomiaSaúdeCiênciaTecnologiaVídeosBBC LêOscar 2024: confira todos os ganhadores dos prêmios da Academia de HollywoodCrédito, Getty ImagesLegenda da foto, Robert Downey Jr., Da'Vine Hoy Randolph, Emma Stone e Cillian Murphy com suas respectivas estatuetas do OscarArticle informationAuthor, Leire VentasRole,  Correspondente da BBC News Mundo em Los AngelesTwitter, @leire_ventas11 março 2024Oppenheimer foi consagrado o grande vencedor da 96ª edição do Oscar no domingo (10/3) .O filme sobre o “pai” da bomba atômica ganhou sete estatuetas, incluindo na categoria de melhor filme, melhor diretor para Christopher Nolan, melhor ator para Cillian Murphy e melhor ator coadjuvante para Robert Downey Jr.Em uma cerimônia com poucas surpresas, na qual a maior parte das\\n\\nMatías Recalt; o filme de animação Meu Amigo Robô, do espanhol Pablo Berger, e o documentário A Memória Infinita, da diretora chilena Maite Alberdi.E até Martin Scorsese, cujo filme Assassinos da Lua das Flores havia recebido 10 indicações e era cotado como um dos favoritos, saiu de mãos abanando.Tópicos relacionadosCelebridade EntretenimentoCulturaCinemaOscarsHistórias relacionadas'Oppenheimer': Joseph Rotblat, o único cientista que abandonou o Projeto Manhattan por razões morais (e ganhou o Prêmio Nobel da Paz)10 março 2024'A Sociedade da Neve': a amizade entre protagonista e o homem que decidiu não embarcar no avião5 fevereiro 2024As irmãs que se juntaram ao Estado Islâmico e inspiraram documentário que concorre ao Oscar9 março 2024Principais notícias'Exército de likes' do Brasil pode influenciar chances de 'Ainda Estou Aqui' no Oscar? Há 3 horasTrump exige que Putin acabe com a 'ridícula' guerra na Ucrânia ou enfrente novas sançõesHá 6 horasEuropa em crise está preparada para um\\n\\nmelhor filme, melhor diretor para Christopher Nolan, melhor ator para Cillian Murphy e melhor ator coadjuvante para Robert Downey Jr.Em uma cerimônia com poucas surpresas, na qual a maior parte das apostas da crítica e do público se concretizaram, Pobres Criaturas também conquistou vários prêmios.Uma das quatro estatuetas que o filme do grego Yorgos Lanthimos arrebatou foi graças a Emma Stone, que ganhou o prêmio de melhor atriz por interpretar a protagonista Bella Baxter.O Oscar de Da'Vine Joy Randolph como melhor atriz coadjuvante foi o único de Os Rejeitados; e o de Billie Eislish, que recebeu o prêmio de melhor canção original por What Was I Made For?, foi o único Oscar do grande sucesso de bilheteria do ano, Barbie.Pule Matérias recomendadas e continue lendoMatérias recomendadas25 filmes que vão chegar aos cinemas em 2025Fernanda Torres no Globo de Ouro 2025: confira outros filmes brasileiros premiados internacionalmenteOscar 2025: as previsões dos críticos da BBC para as\\n\\ninfluenciar chances de 'Ainda Estou Aqui' no Oscar? Há 3 horasTrump exige que Putin acabe com a 'ridícula' guerra na Ucrânia ou enfrente novas sançõesHá 6 horasEuropa em crise está preparada para um novo governo Trump?22 janeiro 2025Leia maisFernanda Torres fala à BBC sobre o Oscar: 'Odeio expectativas, sou pessimista por natureza'Há 7 horasComo aliança entre Trump e big techs aumenta pressão sobre governo Lula e STF21 janeiro 2025Dólar, Amazônia, STF: um guia para entender o impacto do governo Trump no Brasil 20 janeiro 2025Quanto controle a China realmente tem sobre o Canal do Panamá 21 janeiro 2025Dólar: o que esperar com o retorno de Donald Trump à Casa Branca?21 janeiro 2025O chapéu de Melania, Obama sozinho e outras 14 fotos da posse de Trump20 janeiro 2025O que é Destino Manifesto, doutrina citada por Trump que faz EUA se enxergarem como 'nação escolhida'21 janeiro 2025'Oscar não é mérito, é concurso de popularidade': as chances de 'Ainda Estou Aqui', segundo a crítica Isabela\\n\\npelo Dia das Mães (celebrado três semanas antes da Páscoa no Reino Unido) ao receber o Oscar de melhor documentário de curta-metragem por War Is Over! Inspired by the Music of John & Yoko.Quem não subiu (novamente) ao palco para receber o prêmio foi Hayao Miyazaki. Aos 83 anos, a lenda viva do Studio Ghibli voltou a ganhar o Oscar de melhor filme de animação, que se soma agora à estatueta que ele conquistou em 2003 por A Viagem de Chihiro.Crédito, Getty ImagesLegenda da foto, Ao receber o Oscar de melhor curta-metragem de animação, Sean Lennon parabenizou Yoko Ono pelo Dia das MãesEssa não foi a noite dos latino-americanos e espanhóis.Ficaram sem Oscar: A Sociedade da Neve, longa dirigido pelo catalão Juan Antonio Bayona e estrelado, entre outros, pelo uruguaio Enzo Vogrincic e pelo argentino Matías Recalt; o filme de animação Meu Amigo Robô, do espanhol Pablo Berger, e o documentário A Memória Infinita, da diretora chilena Maite Alberdi.E até Martin Scorsese, cujo filme Assassinos da\",\n",
            "  \"pergunta\": \"Qual filme ganhou mais oscars na premiação de 2024?\"\n",
            "}\n",
            "\u001b[36;1m\u001b[1;3m[chain/end]\u001b[0m \u001b[1m[chain:RunnableSequence > prompt:PromptTemplate] [1ms] Exiting Prompt run with output:\n",
            "\u001b[0m[outputs]\n",
            "\u001b[32;1m\u001b[1;3m[llm/start]\u001b[0m \u001b[1m[chain:RunnableSequence > llm:HuggingFacePipeline] Entering LLM run with input:\n",
            "\u001b[0m{\n",
            "  \"prompts\": [\n",
            "    \"<|begin_of_text|>\\n<|start_header_id|>system<|end_header_id|>\\nVocê é um assistente virtual prestativo e está respondendo perguntas gerais.\\nUse os seguintes pedaços de contexto recuperado para responder à pergunta.\\nSe você não sabe a resposta, apenas diga que não sabe. Mantenha a resposta concisa.\\n<|eot_id|>\\n<|start_header_id|>user<|end_header_id|>\\nPergunta: Qual filme ganhou mais oscars na premiação de 2024?\\nContexto: filmes que vão chegar aos cinemas em 2025Fernanda Torres no Globo de Ouro 2025: confira outros filmes brasileiros premiados internacionalmenteOscar 2025: as previsões dos críticos da BBC para as indicações (e o que dizem de Fernanda Torres)Fernanda Torres fala à BBC sobre o Oscar: 'Odeio expectativas, sou pessimista por natureza'Fim do Matérias recomendadasAssassinos da Lua das Flores voltou para casa sem nenhuma estatueta, apesar de ter recebido 10 indicações.Confira abaixo a lista completa dos vencedores.Os ganhadoresPule Novo podcast investigativo: A Raposa e continue lendoNovo podcast investigativo: A RaposaUma tonelada de cocaína, três brasileiros inocentes e a busca por um suspeito inglêsEpisódiosFim do Novo podcast investigativo: A RaposaMelhor filme: OppenheimerMelhor diretor: Christopher Nolan – OppenheimerMelhor atriz: Emma Stone – Pobres CriaturasMelhor ator: Cillian Murphy - OppenheimerMelhor atriz coadjuvante: Da’Vine Joy Randolph - Os RejeitadosMelhor ator coadjuvante:\\n\\nOscar 2024: confira todos os ganhadores dos prêmios da Academia de Hollywood  - BBC News BrasilBBC News, BrasilVá para o conteúdoSeçõesNotíciasBrasilInternacionalEconomiaSaúdeCiênciaTecnologiaVídeosBBC LêNotíciasBrasilInternacionalEconomiaSaúdeCiênciaTecnologiaVídeosBBC LêOscar 2024: confira todos os ganhadores dos prêmios da Academia de HollywoodCrédito, Getty ImagesLegenda da foto, Robert Downey Jr., Da'Vine Hoy Randolph, Emma Stone e Cillian Murphy com suas respectivas estatuetas do OscarArticle informationAuthor, Leire VentasRole,  Correspondente da BBC News Mundo em Los AngelesTwitter, @leire_ventas11 março 2024Oppenheimer foi consagrado o grande vencedor da 96ª edição do Oscar no domingo (10/3) .O filme sobre o “pai” da bomba atômica ganhou sete estatuetas, incluindo na categoria de melhor filme, melhor diretor para Christopher Nolan, melhor ator para Cillian Murphy e melhor ator coadjuvante para Robert Downey Jr.Em uma cerimônia com poucas surpresas, na qual a maior parte das\\n\\nMatías Recalt; o filme de animação Meu Amigo Robô, do espanhol Pablo Berger, e o documentário A Memória Infinita, da diretora chilena Maite Alberdi.E até Martin Scorsese, cujo filme Assassinos da Lua das Flores havia recebido 10 indicações e era cotado como um dos favoritos, saiu de mãos abanando.Tópicos relacionadosCelebridade EntretenimentoCulturaCinemaOscarsHistórias relacionadas'Oppenheimer': Joseph Rotblat, o único cientista que abandonou o Projeto Manhattan por razões morais (e ganhou o Prêmio Nobel da Paz)10 março 2024'A Sociedade da Neve': a amizade entre protagonista e o homem que decidiu não embarcar no avião5 fevereiro 2024As irmãs que se juntaram ao Estado Islâmico e inspiraram documentário que concorre ao Oscar9 março 2024Principais notícias'Exército de likes' do Brasil pode influenciar chances de 'Ainda Estou Aqui' no Oscar? Há 3 horasTrump exige que Putin acabe com a 'ridícula' guerra na Ucrânia ou enfrente novas sançõesHá 6 horasEuropa em crise está preparada para um\\n\\nmelhor filme, melhor diretor para Christopher Nolan, melhor ator para Cillian Murphy e melhor ator coadjuvante para Robert Downey Jr.Em uma cerimônia com poucas surpresas, na qual a maior parte das apostas da crítica e do público se concretizaram, Pobres Criaturas também conquistou vários prêmios.Uma das quatro estatuetas que o filme do grego Yorgos Lanthimos arrebatou foi graças a Emma Stone, que ganhou o prêmio de melhor atriz por interpretar a protagonista Bella Baxter.O Oscar de Da'Vine Joy Randolph como melhor atriz coadjuvante foi o único de Os Rejeitados; e o de Billie Eislish, que recebeu o prêmio de melhor canção original por What Was I Made For?, foi o único Oscar do grande sucesso de bilheteria do ano, Barbie.Pule Matérias recomendadas e continue lendoMatérias recomendadas25 filmes que vão chegar aos cinemas em 2025Fernanda Torres no Globo de Ouro 2025: confira outros filmes brasileiros premiados internacionalmenteOscar 2025: as previsões dos críticos da BBC para as\\n\\ninfluenciar chances de 'Ainda Estou Aqui' no Oscar? Há 3 horasTrump exige que Putin acabe com a 'ridícula' guerra na Ucrânia ou enfrente novas sançõesHá 6 horasEuropa em crise está preparada para um novo governo Trump?22 janeiro 2025Leia maisFernanda Torres fala à BBC sobre o Oscar: 'Odeio expectativas, sou pessimista por natureza'Há 7 horasComo aliança entre Trump e big techs aumenta pressão sobre governo Lula e STF21 janeiro 2025Dólar, Amazônia, STF: um guia para entender o impacto do governo Trump no Brasil 20 janeiro 2025Quanto controle a China realmente tem sobre o Canal do Panamá 21 janeiro 2025Dólar: o que esperar com o retorno de Donald Trump à Casa Branca?21 janeiro 2025O chapéu de Melania, Obama sozinho e outras 14 fotos da posse de Trump20 janeiro 2025O que é Destino Manifesto, doutrina citada por Trump que faz EUA se enxergarem como 'nação escolhida'21 janeiro 2025'Oscar não é mérito, é concurso de popularidade': as chances de 'Ainda Estou Aqui', segundo a crítica Isabela\\n\\npelo Dia das Mães (celebrado três semanas antes da Páscoa no Reino Unido) ao receber o Oscar de melhor documentário de curta-metragem por War Is Over! Inspired by the Music of John & Yoko.Quem não subiu (novamente) ao palco para receber o prêmio foi Hayao Miyazaki. Aos 83 anos, a lenda viva do Studio Ghibli voltou a ganhar o Oscar de melhor filme de animação, que se soma agora à estatueta que ele conquistou em 2003 por A Viagem de Chihiro.Crédito, Getty ImagesLegenda da foto, Ao receber o Oscar de melhor curta-metragem de animação, Sean Lennon parabenizou Yoko Ono pelo Dia das MãesEssa não foi a noite dos latino-americanos e espanhóis.Ficaram sem Oscar: A Sociedade da Neve, longa dirigido pelo catalão Juan Antonio Bayona e estrelado, entre outros, pelo uruguaio Enzo Vogrincic e pelo argentino Matías Recalt; o filme de animação Meu Amigo Robô, do espanhol Pablo Berger, e o documentário A Memória Infinita, da diretora chilena Maite Alberdi.E até Martin Scorsese, cujo filme Assassinos da\\n<|eot_id|>\\n<|start_header_id|>assistant<|end_header_id|>\"\n",
            "  ]\n",
            "}\n",
            "\u001b[36;1m\u001b[1;3m[llm/end]\u001b[0m \u001b[1m[chain:RunnableSequence > llm:HuggingFacePipeline] [19.04s] Exiting LLM run with output:\n",
            "\u001b[0m{\n",
            "  \"generations\": [\n",
            "    [\n",
            "      {\n",
            "        \"text\": \"Infelizmente, não há informações disponíveis sobre o filme que ganhou mais Oscars na premiação de 2024, pois a informação fornecida refere-se ao Oscar de 2025. Além disso, a lista de vencedores do Oscar de 2024 não está presente na matéria fornecida. Se você tiver acesso a essa informação, sinta-se à vontade para compartilhá-la comigo.\",\n",
            "        \"generation_info\": null,\n",
            "        \"type\": \"Generation\"\n",
            "      }\n",
            "    ]\n",
            "  ],\n",
            "  \"llm_output\": null,\n",
            "  \"run\": null,\n",
            "  \"type\": \"LLMResult\"\n",
            "}\n",
            "\u001b[32;1m\u001b[1;3m[chain/start]\u001b[0m \u001b[1m[chain:RunnableSequence > parser:StrOutputParser] Entering Parser run with input:\n",
            "\u001b[0m{\n",
            "  \"input\": \"Infelizmente, não há informações disponíveis sobre o filme que ganhou mais Oscars na premiação de 2024, pois a informação fornecida refere-se ao Oscar de 2025. Além disso, a lista de vencedores do Oscar de 2024 não está presente na matéria fornecida. Se você tiver acesso a essa informação, sinta-se à vontade para compartilhá-la comigo.\"\n",
            "}\n",
            "\u001b[36;1m\u001b[1;3m[chain/end]\u001b[0m \u001b[1m[chain:RunnableSequence > parser:StrOutputParser] [1ms] Exiting Parser run with output:\n",
            "\u001b[0m{\n",
            "  \"output\": \"Infelizmente, não há informações disponíveis sobre o filme que ganhou mais Oscars na premiação de 2024, pois a informação fornecida refere-se ao Oscar de 2025. Além disso, a lista de vencedores do Oscar de 2024 não está presente na matéria fornecida. Se você tiver acesso a essa informação, sinta-se à vontade para compartilhá-la comigo.\"\n",
            "}\n",
            "\u001b[36;1m\u001b[1;3m[chain/end]\u001b[0m \u001b[1m[chain:RunnableSequence] [19.08s] Exiting Chain run with output:\n",
            "\u001b[0m{\n",
            "  \"output\": \"Infelizmente, não há informações disponíveis sobre o filme que ganhou mais Oscars na premiação de 2024, pois a informação fornecida refere-se ao Oscar de 2025. Além disso, a lista de vencedores do Oscar de 2024 não está presente na matéria fornecida. Se você tiver acesso a essa informação, sinta-se à vontade para compartilhá-la comigo.\"\n",
            "}\n"
          ]
        },
        {
          "output_type": "execute_result",
          "data": {
            "text/plain": [
              "'Infelizmente, não há informações disponíveis sobre o filme que ganhou mais Oscars na premiação de 2024, pois a informação fornecida refere-se ao Oscar de 2025. Além disso, a lista de vencedores do Oscar de 2024 não está presente na matéria fornecida. Se você tiver acesso a essa informação, sinta-se à vontade para compartilhá-la comigo.'"
            ],
            "application/vnd.google.colaboratory.intrinsic+json": {
              "type": "string"
            }
          },
          "metadata": {},
          "execution_count": 116
        }
      ]
    },
    {
      "cell_type": "code",
      "source": [
        "chain_rag.invoke(\"Quem ganhou o premio de melhor ator?\")"
      ],
      "metadata": {
        "colab": {
          "base_uri": "https://localhost:8080/",
          "height": 1000
        },
        "id": "yNIsWPSU5okU",
        "outputId": "3a53f4b6-c115-431b-efae-38c77c7ce16c"
      },
      "execution_count": null,
      "outputs": [
        {
          "output_type": "stream",
          "name": "stderr",
          "text": [
            "Setting `pad_token_id` to `eos_token_id`:None for open-end generation.\n"
          ]
        },
        {
          "output_type": "stream",
          "name": "stdout",
          "text": [
            "\u001b[32;1m\u001b[1;3m[chain/start]\u001b[0m \u001b[1m[chain:RunnableSequence] Entering Chain run with input:\n",
            "\u001b[0m{\n",
            "  \"input\": \"Quem ganhou o premio de melhor ator?\"\n",
            "}\n",
            "\u001b[32;1m\u001b[1;3m[chain/start]\u001b[0m \u001b[1m[chain:RunnableSequence > chain:RunnableParallel<contexto,pergunta>] Entering Chain run with input:\n",
            "\u001b[0m{\n",
            "  \"input\": \"Quem ganhou o premio de melhor ator?\"\n",
            "}\n",
            "\u001b[32;1m\u001b[1;3m[chain/start]\u001b[0m \u001b[1m[chain:RunnableSequence > chain:RunnableParallel<contexto,pergunta> > chain:RunnableSequence] Entering Chain run with input:\n",
            "\u001b[0m{\n",
            "  \"input\": \"Quem ganhou o premio de melhor ator?\"\n",
            "}\n",
            "\u001b[32;1m\u001b[1;3m[chain/start]\u001b[0m \u001b[1m[chain:RunnableSequence > chain:RunnableParallel<contexto,pergunta> > chain:RunnablePassthrough] Entering Chain run with input:\n",
            "\u001b[0m{\n",
            "  \"input\": \"Quem ganhou o premio de melhor ator?\"\n",
            "}\n",
            "\u001b[36;1m\u001b[1;3m[chain/end]\u001b[0m \u001b[1m[chain:RunnableSequence > chain:RunnableParallel<contexto,pergunta> > chain:RunnablePassthrough] [0ms] Exiting Chain run with output:\n",
            "\u001b[0m{\n",
            "  \"output\": \"Quem ganhou o premio de melhor ator?\"\n",
            "}\n",
            "\u001b[32;1m\u001b[1;3m[chain/start]\u001b[0m \u001b[1m[chain:RunnableSequence > chain:RunnableParallel<contexto,pergunta> > chain:RunnableSequence > chain:format_docs] Entering Chain run with input:\n",
            "\u001b[0m[inputs]\n",
            "\u001b[36;1m\u001b[1;3m[chain/end]\u001b[0m \u001b[1m[chain:RunnableSequence > chain:RunnableParallel<contexto,pergunta> > chain:RunnableSequence > chain:format_docs] [0ms] Exiting Chain run with output:\n",
            "\u001b[0m{\n",
            "  \"output\": \"(o prêmio) àqueles que defendem a paz em todos os lugares”, declarou o ator, destacando ainda que se sente “orgulhosamente irlandês”.Crédito, Getty ImagesLegenda da foto, Christopher Nolan ganhou o prêmio de melhor diretor por Oppenheimer, o grande vencedor da noiteCrédito, EPALegenda da foto, Da'Vine Joy Randolph recebeu o Oscar de melhor atriz coadjuvante por sua atuação em Os RejeitadosClaramente emocionada, Da'Vine Joy Randolph foi a primeira da noite a subir ao palco para receber uma estatueta, exclamando: “Deus é tão bom”, enquanto tentava segurar as lágrimas.Ela agradeceu à mãe por inspirá-la a tentar atuar, em vez de cantar.“Durante anos, pensei que queria ser diferente, mas percebi que precisava ser eu mesma”, disse.Lembrou ainda que era a única negra da sua turma — e agradeceu a todas as mulheres que a ajudaram e inspiraram ao longo de sua carreira.Crédito, Getty ImagesLegenda da foto, Robert Downey Jr. foi contemplado com o Oscar de melhor ator coadjuvante por interpretar\\n\\nmelhor filme, melhor diretor para Christopher Nolan, melhor ator para Cillian Murphy e melhor ator coadjuvante para Robert Downey Jr.Em uma cerimônia com poucas surpresas, na qual a maior parte das apostas da crítica e do público se concretizaram, Pobres Criaturas também conquistou vários prêmios.Uma das quatro estatuetas que o filme do grego Yorgos Lanthimos arrebatou foi graças a Emma Stone, que ganhou o prêmio de melhor atriz por interpretar a protagonista Bella Baxter.O Oscar de Da'Vine Joy Randolph como melhor atriz coadjuvante foi o único de Os Rejeitados; e o de Billie Eislish, que recebeu o prêmio de melhor canção original por What Was I Made For?, foi o único Oscar do grande sucesso de bilheteria do ano, Barbie.Pule Matérias recomendadas e continue lendoMatérias recomendadas25 filmes que vão chegar aos cinemas em 2025Fernanda Torres no Globo de Ouro 2025: confira outros filmes brasileiros premiados internacionalmenteOscar 2025: as previsões dos críticos da BBC para as\\n\\nrealizada a cerimônia para pedir um cessar-fogo definitivo em GazaEste não foi, no entanto, o único momento político do evento.“Serei certamente o primeiro neste palco a dizer que preferia não ter feito este filme”, declarou Mstyslav Cherno ao receber o Oscar de melhor documentário por 20 Dias em Mariupol.Ganhador do Pulitzer, Cherno foi um dos poucos jornalistas que cobriu de perto o cerco das tropas russas à cidade portuária ucraniana, e narrou isso em seu documentário.“Gostaria de poder trocar o Oscar por a Rússia nunca ter ocupado as nossas cidades”, afirmou.Crédito, GETTY IMAGESLegenda da foto, Mstyslav Cherno documentou de dentro o cerco à cidade ucraniana de MariupolOutro momento emocionante foi quando Sean Lennon, filho de John Lennon e Yoko Ono, aproveitou para parabenizar a mãe pelo Dia das Mães (celebrado três semanas antes da Páscoa no Reino Unido) ao receber o Oscar de melhor documentário de curta-metragem por War Is Over! Inspired by the Music of John & Yoko.Quem não\\n\\npelo Dia das Mães (celebrado três semanas antes da Páscoa no Reino Unido) ao receber o Oscar de melhor documentário de curta-metragem por War Is Over! Inspired by the Music of John & Yoko.Quem não subiu (novamente) ao palco para receber o prêmio foi Hayao Miyazaki. Aos 83 anos, a lenda viva do Studio Ghibli voltou a ganhar o Oscar de melhor filme de animação, que se soma agora à estatueta que ele conquistou em 2003 por A Viagem de Chihiro.Crédito, Getty ImagesLegenda da foto, Ao receber o Oscar de melhor curta-metragem de animação, Sean Lennon parabenizou Yoko Ono pelo Dia das MãesEssa não foi a noite dos latino-americanos e espanhóis.Ficaram sem Oscar: A Sociedade da Neve, longa dirigido pelo catalão Juan Antonio Bayona e estrelado, entre outros, pelo uruguaio Enzo Vogrincic e pelo argentino Matías Recalt; o filme de animação Meu Amigo Robô, do espanhol Pablo Berger, e o documentário A Memória Infinita, da diretora chilena Maite Alberdi.E até Martin Scorsese, cujo filme Assassinos da\\n\\nsinto profundamente honrada em compartilhar isso com cada uma das pessoas que colocaram seu amor e brilhantismo neste filme”, acrescentou, depois de reconhecer as indicações das demais indicadas, enquanto segurava o vestido nas costas.“Não olhem, acho que rasgou enquanto Ryan Gosling cantava I’m Just Ken”, disse ela, fazendo referência à aplaudida performance do ator durante a cerimônia.Crédito, Getty ImagesLegenda da foto, Cillian Murphy com a estatueta do Oscar por interpretar o 'pai' da bomba atômica em OppenheimerEm um gesto semelhante ao de Stone, Cillian Murphy reconheceu o trabalho de todos os indicados na categoria de melhor ator ao receber o Oscar por interpretar J. Robert Oppenheimer, o cientista-chefe do Projeto Manhattan.“Vivemos em um mundo criado por Oppenheimer. Quero dedicar (o prêmio) àqueles que defendem a paz em todos os lugares”, declarou o ator, destacando ainda que se sente “orgulhosamente irlandês”.Crédito, Getty ImagesLegenda da foto, Christopher Nolan ganhou o\\n\\nMatías Recalt; o filme de animação Meu Amigo Robô, do espanhol Pablo Berger, e o documentário A Memória Infinita, da diretora chilena Maite Alberdi.E até Martin Scorsese, cujo filme Assassinos da Lua das Flores havia recebido 10 indicações e era cotado como um dos favoritos, saiu de mãos abanando.Tópicos relacionadosCelebridade EntretenimentoCulturaCinemaOscarsHistórias relacionadas'Oppenheimer': Joseph Rotblat, o único cientista que abandonou o Projeto Manhattan por razões morais (e ganhou o Prêmio Nobel da Paz)10 março 2024'A Sociedade da Neve': a amizade entre protagonista e o homem que decidiu não embarcar no avião5 fevereiro 2024As irmãs que se juntaram ao Estado Islâmico e inspiraram documentário que concorre ao Oscar9 março 2024Principais notícias'Exército de likes' do Brasil pode influenciar chances de 'Ainda Estou Aqui' no Oscar? Há 3 horasTrump exige que Putin acabe com a 'ridícula' guerra na Ucrânia ou enfrente novas sançõesHá 6 horasEuropa em crise está preparada para um\"\n",
            "}\n",
            "\u001b[36;1m\u001b[1;3m[chain/end]\u001b[0m \u001b[1m[chain:RunnableSequence > chain:RunnableParallel<contexto,pergunta> > chain:RunnableSequence] [22ms] Exiting Chain run with output:\n",
            "\u001b[0m{\n",
            "  \"output\": \"(o prêmio) àqueles que defendem a paz em todos os lugares”, declarou o ator, destacando ainda que se sente “orgulhosamente irlandês”.Crédito, Getty ImagesLegenda da foto, Christopher Nolan ganhou o prêmio de melhor diretor por Oppenheimer, o grande vencedor da noiteCrédito, EPALegenda da foto, Da'Vine Joy Randolph recebeu o Oscar de melhor atriz coadjuvante por sua atuação em Os RejeitadosClaramente emocionada, Da'Vine Joy Randolph foi a primeira da noite a subir ao palco para receber uma estatueta, exclamando: “Deus é tão bom”, enquanto tentava segurar as lágrimas.Ela agradeceu à mãe por inspirá-la a tentar atuar, em vez de cantar.“Durante anos, pensei que queria ser diferente, mas percebi que precisava ser eu mesma”, disse.Lembrou ainda que era a única negra da sua turma — e agradeceu a todas as mulheres que a ajudaram e inspiraram ao longo de sua carreira.Crédito, Getty ImagesLegenda da foto, Robert Downey Jr. foi contemplado com o Oscar de melhor ator coadjuvante por interpretar\\n\\nmelhor filme, melhor diretor para Christopher Nolan, melhor ator para Cillian Murphy e melhor ator coadjuvante para Robert Downey Jr.Em uma cerimônia com poucas surpresas, na qual a maior parte das apostas da crítica e do público se concretizaram, Pobres Criaturas também conquistou vários prêmios.Uma das quatro estatuetas que o filme do grego Yorgos Lanthimos arrebatou foi graças a Emma Stone, que ganhou o prêmio de melhor atriz por interpretar a protagonista Bella Baxter.O Oscar de Da'Vine Joy Randolph como melhor atriz coadjuvante foi o único de Os Rejeitados; e o de Billie Eislish, que recebeu o prêmio de melhor canção original por What Was I Made For?, foi o único Oscar do grande sucesso de bilheteria do ano, Barbie.Pule Matérias recomendadas e continue lendoMatérias recomendadas25 filmes que vão chegar aos cinemas em 2025Fernanda Torres no Globo de Ouro 2025: confira outros filmes brasileiros premiados internacionalmenteOscar 2025: as previsões dos críticos da BBC para as\\n\\nrealizada a cerimônia para pedir um cessar-fogo definitivo em GazaEste não foi, no entanto, o único momento político do evento.“Serei certamente o primeiro neste palco a dizer que preferia não ter feito este filme”, declarou Mstyslav Cherno ao receber o Oscar de melhor documentário por 20 Dias em Mariupol.Ganhador do Pulitzer, Cherno foi um dos poucos jornalistas que cobriu de perto o cerco das tropas russas à cidade portuária ucraniana, e narrou isso em seu documentário.“Gostaria de poder trocar o Oscar por a Rússia nunca ter ocupado as nossas cidades”, afirmou.Crédito, GETTY IMAGESLegenda da foto, Mstyslav Cherno documentou de dentro o cerco à cidade ucraniana de MariupolOutro momento emocionante foi quando Sean Lennon, filho de John Lennon e Yoko Ono, aproveitou para parabenizar a mãe pelo Dia das Mães (celebrado três semanas antes da Páscoa no Reino Unido) ao receber o Oscar de melhor documentário de curta-metragem por War Is Over! Inspired by the Music of John & Yoko.Quem não\\n\\npelo Dia das Mães (celebrado três semanas antes da Páscoa no Reino Unido) ao receber o Oscar de melhor documentário de curta-metragem por War Is Over! Inspired by the Music of John & Yoko.Quem não subiu (novamente) ao palco para receber o prêmio foi Hayao Miyazaki. Aos 83 anos, a lenda viva do Studio Ghibli voltou a ganhar o Oscar de melhor filme de animação, que se soma agora à estatueta que ele conquistou em 2003 por A Viagem de Chihiro.Crédito, Getty ImagesLegenda da foto, Ao receber o Oscar de melhor curta-metragem de animação, Sean Lennon parabenizou Yoko Ono pelo Dia das MãesEssa não foi a noite dos latino-americanos e espanhóis.Ficaram sem Oscar: A Sociedade da Neve, longa dirigido pelo catalão Juan Antonio Bayona e estrelado, entre outros, pelo uruguaio Enzo Vogrincic e pelo argentino Matías Recalt; o filme de animação Meu Amigo Robô, do espanhol Pablo Berger, e o documentário A Memória Infinita, da diretora chilena Maite Alberdi.E até Martin Scorsese, cujo filme Assassinos da\\n\\nsinto profundamente honrada em compartilhar isso com cada uma das pessoas que colocaram seu amor e brilhantismo neste filme”, acrescentou, depois de reconhecer as indicações das demais indicadas, enquanto segurava o vestido nas costas.“Não olhem, acho que rasgou enquanto Ryan Gosling cantava I’m Just Ken”, disse ela, fazendo referência à aplaudida performance do ator durante a cerimônia.Crédito, Getty ImagesLegenda da foto, Cillian Murphy com a estatueta do Oscar por interpretar o 'pai' da bomba atômica em OppenheimerEm um gesto semelhante ao de Stone, Cillian Murphy reconheceu o trabalho de todos os indicados na categoria de melhor ator ao receber o Oscar por interpretar J. Robert Oppenheimer, o cientista-chefe do Projeto Manhattan.“Vivemos em um mundo criado por Oppenheimer. Quero dedicar (o prêmio) àqueles que defendem a paz em todos os lugares”, declarou o ator, destacando ainda que se sente “orgulhosamente irlandês”.Crédito, Getty ImagesLegenda da foto, Christopher Nolan ganhou o\\n\\nMatías Recalt; o filme de animação Meu Amigo Robô, do espanhol Pablo Berger, e o documentário A Memória Infinita, da diretora chilena Maite Alberdi.E até Martin Scorsese, cujo filme Assassinos da Lua das Flores havia recebido 10 indicações e era cotado como um dos favoritos, saiu de mãos abanando.Tópicos relacionadosCelebridade EntretenimentoCulturaCinemaOscarsHistórias relacionadas'Oppenheimer': Joseph Rotblat, o único cientista que abandonou o Projeto Manhattan por razões morais (e ganhou o Prêmio Nobel da Paz)10 março 2024'A Sociedade da Neve': a amizade entre protagonista e o homem que decidiu não embarcar no avião5 fevereiro 2024As irmãs que se juntaram ao Estado Islâmico e inspiraram documentário que concorre ao Oscar9 março 2024Principais notícias'Exército de likes' do Brasil pode influenciar chances de 'Ainda Estou Aqui' no Oscar? Há 3 horasTrump exige que Putin acabe com a 'ridícula' guerra na Ucrânia ou enfrente novas sançõesHá 6 horasEuropa em crise está preparada para um\"\n",
            "}\n",
            "\u001b[36;1m\u001b[1;3m[chain/end]\u001b[0m \u001b[1m[chain:RunnableSequence > chain:RunnableParallel<contexto,pergunta>] [26ms] Exiting Chain run with output:\n",
            "\u001b[0m{\n",
            "  \"contexto\": \"(o prêmio) àqueles que defendem a paz em todos os lugares”, declarou o ator, destacando ainda que se sente “orgulhosamente irlandês”.Crédito, Getty ImagesLegenda da foto, Christopher Nolan ganhou o prêmio de melhor diretor por Oppenheimer, o grande vencedor da noiteCrédito, EPALegenda da foto, Da'Vine Joy Randolph recebeu o Oscar de melhor atriz coadjuvante por sua atuação em Os RejeitadosClaramente emocionada, Da'Vine Joy Randolph foi a primeira da noite a subir ao palco para receber uma estatueta, exclamando: “Deus é tão bom”, enquanto tentava segurar as lágrimas.Ela agradeceu à mãe por inspirá-la a tentar atuar, em vez de cantar.“Durante anos, pensei que queria ser diferente, mas percebi que precisava ser eu mesma”, disse.Lembrou ainda que era a única negra da sua turma — e agradeceu a todas as mulheres que a ajudaram e inspiraram ao longo de sua carreira.Crédito, Getty ImagesLegenda da foto, Robert Downey Jr. foi contemplado com o Oscar de melhor ator coadjuvante por interpretar\\n\\nmelhor filme, melhor diretor para Christopher Nolan, melhor ator para Cillian Murphy e melhor ator coadjuvante para Robert Downey Jr.Em uma cerimônia com poucas surpresas, na qual a maior parte das apostas da crítica e do público se concretizaram, Pobres Criaturas também conquistou vários prêmios.Uma das quatro estatuetas que o filme do grego Yorgos Lanthimos arrebatou foi graças a Emma Stone, que ganhou o prêmio de melhor atriz por interpretar a protagonista Bella Baxter.O Oscar de Da'Vine Joy Randolph como melhor atriz coadjuvante foi o único de Os Rejeitados; e o de Billie Eislish, que recebeu o prêmio de melhor canção original por What Was I Made For?, foi o único Oscar do grande sucesso de bilheteria do ano, Barbie.Pule Matérias recomendadas e continue lendoMatérias recomendadas25 filmes que vão chegar aos cinemas em 2025Fernanda Torres no Globo de Ouro 2025: confira outros filmes brasileiros premiados internacionalmenteOscar 2025: as previsões dos críticos da BBC para as\\n\\nrealizada a cerimônia para pedir um cessar-fogo definitivo em GazaEste não foi, no entanto, o único momento político do evento.“Serei certamente o primeiro neste palco a dizer que preferia não ter feito este filme”, declarou Mstyslav Cherno ao receber o Oscar de melhor documentário por 20 Dias em Mariupol.Ganhador do Pulitzer, Cherno foi um dos poucos jornalistas que cobriu de perto o cerco das tropas russas à cidade portuária ucraniana, e narrou isso em seu documentário.“Gostaria de poder trocar o Oscar por a Rússia nunca ter ocupado as nossas cidades”, afirmou.Crédito, GETTY IMAGESLegenda da foto, Mstyslav Cherno documentou de dentro o cerco à cidade ucraniana de MariupolOutro momento emocionante foi quando Sean Lennon, filho de John Lennon e Yoko Ono, aproveitou para parabenizar a mãe pelo Dia das Mães (celebrado três semanas antes da Páscoa no Reino Unido) ao receber o Oscar de melhor documentário de curta-metragem por War Is Over! Inspired by the Music of John & Yoko.Quem não\\n\\npelo Dia das Mães (celebrado três semanas antes da Páscoa no Reino Unido) ao receber o Oscar de melhor documentário de curta-metragem por War Is Over! Inspired by the Music of John & Yoko.Quem não subiu (novamente) ao palco para receber o prêmio foi Hayao Miyazaki. Aos 83 anos, a lenda viva do Studio Ghibli voltou a ganhar o Oscar de melhor filme de animação, que se soma agora à estatueta que ele conquistou em 2003 por A Viagem de Chihiro.Crédito, Getty ImagesLegenda da foto, Ao receber o Oscar de melhor curta-metragem de animação, Sean Lennon parabenizou Yoko Ono pelo Dia das MãesEssa não foi a noite dos latino-americanos e espanhóis.Ficaram sem Oscar: A Sociedade da Neve, longa dirigido pelo catalão Juan Antonio Bayona e estrelado, entre outros, pelo uruguaio Enzo Vogrincic e pelo argentino Matías Recalt; o filme de animação Meu Amigo Robô, do espanhol Pablo Berger, e o documentário A Memória Infinita, da diretora chilena Maite Alberdi.E até Martin Scorsese, cujo filme Assassinos da\\n\\nsinto profundamente honrada em compartilhar isso com cada uma das pessoas que colocaram seu amor e brilhantismo neste filme”, acrescentou, depois de reconhecer as indicações das demais indicadas, enquanto segurava o vestido nas costas.“Não olhem, acho que rasgou enquanto Ryan Gosling cantava I’m Just Ken”, disse ela, fazendo referência à aplaudida performance do ator durante a cerimônia.Crédito, Getty ImagesLegenda da foto, Cillian Murphy com a estatueta do Oscar por interpretar o 'pai' da bomba atômica em OppenheimerEm um gesto semelhante ao de Stone, Cillian Murphy reconheceu o trabalho de todos os indicados na categoria de melhor ator ao receber o Oscar por interpretar J. Robert Oppenheimer, o cientista-chefe do Projeto Manhattan.“Vivemos em um mundo criado por Oppenheimer. Quero dedicar (o prêmio) àqueles que defendem a paz em todos os lugares”, declarou o ator, destacando ainda que se sente “orgulhosamente irlandês”.Crédito, Getty ImagesLegenda da foto, Christopher Nolan ganhou o\\n\\nMatías Recalt; o filme de animação Meu Amigo Robô, do espanhol Pablo Berger, e o documentário A Memória Infinita, da diretora chilena Maite Alberdi.E até Martin Scorsese, cujo filme Assassinos da Lua das Flores havia recebido 10 indicações e era cotado como um dos favoritos, saiu de mãos abanando.Tópicos relacionadosCelebridade EntretenimentoCulturaCinemaOscarsHistórias relacionadas'Oppenheimer': Joseph Rotblat, o único cientista que abandonou o Projeto Manhattan por razões morais (e ganhou o Prêmio Nobel da Paz)10 março 2024'A Sociedade da Neve': a amizade entre protagonista e o homem que decidiu não embarcar no avião5 fevereiro 2024As irmãs que se juntaram ao Estado Islâmico e inspiraram documentário que concorre ao Oscar9 março 2024Principais notícias'Exército de likes' do Brasil pode influenciar chances de 'Ainda Estou Aqui' no Oscar? Há 3 horasTrump exige que Putin acabe com a 'ridícula' guerra na Ucrânia ou enfrente novas sançõesHá 6 horasEuropa em crise está preparada para um\",\n",
            "  \"pergunta\": \"Quem ganhou o premio de melhor ator?\"\n",
            "}\n",
            "\u001b[32;1m\u001b[1;3m[chain/start]\u001b[0m \u001b[1m[chain:RunnableSequence > prompt:PromptTemplate] Entering Prompt run with input:\n",
            "\u001b[0m{\n",
            "  \"contexto\": \"(o prêmio) àqueles que defendem a paz em todos os lugares”, declarou o ator, destacando ainda que se sente “orgulhosamente irlandês”.Crédito, Getty ImagesLegenda da foto, Christopher Nolan ganhou o prêmio de melhor diretor por Oppenheimer, o grande vencedor da noiteCrédito, EPALegenda da foto, Da'Vine Joy Randolph recebeu o Oscar de melhor atriz coadjuvante por sua atuação em Os RejeitadosClaramente emocionada, Da'Vine Joy Randolph foi a primeira da noite a subir ao palco para receber uma estatueta, exclamando: “Deus é tão bom”, enquanto tentava segurar as lágrimas.Ela agradeceu à mãe por inspirá-la a tentar atuar, em vez de cantar.“Durante anos, pensei que queria ser diferente, mas percebi que precisava ser eu mesma”, disse.Lembrou ainda que era a única negra da sua turma — e agradeceu a todas as mulheres que a ajudaram e inspiraram ao longo de sua carreira.Crédito, Getty ImagesLegenda da foto, Robert Downey Jr. foi contemplado com o Oscar de melhor ator coadjuvante por interpretar\\n\\nmelhor filme, melhor diretor para Christopher Nolan, melhor ator para Cillian Murphy e melhor ator coadjuvante para Robert Downey Jr.Em uma cerimônia com poucas surpresas, na qual a maior parte das apostas da crítica e do público se concretizaram, Pobres Criaturas também conquistou vários prêmios.Uma das quatro estatuetas que o filme do grego Yorgos Lanthimos arrebatou foi graças a Emma Stone, que ganhou o prêmio de melhor atriz por interpretar a protagonista Bella Baxter.O Oscar de Da'Vine Joy Randolph como melhor atriz coadjuvante foi o único de Os Rejeitados; e o de Billie Eislish, que recebeu o prêmio de melhor canção original por What Was I Made For?, foi o único Oscar do grande sucesso de bilheteria do ano, Barbie.Pule Matérias recomendadas e continue lendoMatérias recomendadas25 filmes que vão chegar aos cinemas em 2025Fernanda Torres no Globo de Ouro 2025: confira outros filmes brasileiros premiados internacionalmenteOscar 2025: as previsões dos críticos da BBC para as\\n\\nrealizada a cerimônia para pedir um cessar-fogo definitivo em GazaEste não foi, no entanto, o único momento político do evento.“Serei certamente o primeiro neste palco a dizer que preferia não ter feito este filme”, declarou Mstyslav Cherno ao receber o Oscar de melhor documentário por 20 Dias em Mariupol.Ganhador do Pulitzer, Cherno foi um dos poucos jornalistas que cobriu de perto o cerco das tropas russas à cidade portuária ucraniana, e narrou isso em seu documentário.“Gostaria de poder trocar o Oscar por a Rússia nunca ter ocupado as nossas cidades”, afirmou.Crédito, GETTY IMAGESLegenda da foto, Mstyslav Cherno documentou de dentro o cerco à cidade ucraniana de MariupolOutro momento emocionante foi quando Sean Lennon, filho de John Lennon e Yoko Ono, aproveitou para parabenizar a mãe pelo Dia das Mães (celebrado três semanas antes da Páscoa no Reino Unido) ao receber o Oscar de melhor documentário de curta-metragem por War Is Over! Inspired by the Music of John & Yoko.Quem não\\n\\npelo Dia das Mães (celebrado três semanas antes da Páscoa no Reino Unido) ao receber o Oscar de melhor documentário de curta-metragem por War Is Over! Inspired by the Music of John & Yoko.Quem não subiu (novamente) ao palco para receber o prêmio foi Hayao Miyazaki. Aos 83 anos, a lenda viva do Studio Ghibli voltou a ganhar o Oscar de melhor filme de animação, que se soma agora à estatueta que ele conquistou em 2003 por A Viagem de Chihiro.Crédito, Getty ImagesLegenda da foto, Ao receber o Oscar de melhor curta-metragem de animação, Sean Lennon parabenizou Yoko Ono pelo Dia das MãesEssa não foi a noite dos latino-americanos e espanhóis.Ficaram sem Oscar: A Sociedade da Neve, longa dirigido pelo catalão Juan Antonio Bayona e estrelado, entre outros, pelo uruguaio Enzo Vogrincic e pelo argentino Matías Recalt; o filme de animação Meu Amigo Robô, do espanhol Pablo Berger, e o documentário A Memória Infinita, da diretora chilena Maite Alberdi.E até Martin Scorsese, cujo filme Assassinos da\\n\\nsinto profundamente honrada em compartilhar isso com cada uma das pessoas que colocaram seu amor e brilhantismo neste filme”, acrescentou, depois de reconhecer as indicações das demais indicadas, enquanto segurava o vestido nas costas.“Não olhem, acho que rasgou enquanto Ryan Gosling cantava I’m Just Ken”, disse ela, fazendo referência à aplaudida performance do ator durante a cerimônia.Crédito, Getty ImagesLegenda da foto, Cillian Murphy com a estatueta do Oscar por interpretar o 'pai' da bomba atômica em OppenheimerEm um gesto semelhante ao de Stone, Cillian Murphy reconheceu o trabalho de todos os indicados na categoria de melhor ator ao receber o Oscar por interpretar J. Robert Oppenheimer, o cientista-chefe do Projeto Manhattan.“Vivemos em um mundo criado por Oppenheimer. Quero dedicar (o prêmio) àqueles que defendem a paz em todos os lugares”, declarou o ator, destacando ainda que se sente “orgulhosamente irlandês”.Crédito, Getty ImagesLegenda da foto, Christopher Nolan ganhou o\\n\\nMatías Recalt; o filme de animação Meu Amigo Robô, do espanhol Pablo Berger, e o documentário A Memória Infinita, da diretora chilena Maite Alberdi.E até Martin Scorsese, cujo filme Assassinos da Lua das Flores havia recebido 10 indicações e era cotado como um dos favoritos, saiu de mãos abanando.Tópicos relacionadosCelebridade EntretenimentoCulturaCinemaOscarsHistórias relacionadas'Oppenheimer': Joseph Rotblat, o único cientista que abandonou o Projeto Manhattan por razões morais (e ganhou o Prêmio Nobel da Paz)10 março 2024'A Sociedade da Neve': a amizade entre protagonista e o homem que decidiu não embarcar no avião5 fevereiro 2024As irmãs que se juntaram ao Estado Islâmico e inspiraram documentário que concorre ao Oscar9 março 2024Principais notícias'Exército de likes' do Brasil pode influenciar chances de 'Ainda Estou Aqui' no Oscar? Há 3 horasTrump exige que Putin acabe com a 'ridícula' guerra na Ucrânia ou enfrente novas sançõesHá 6 horasEuropa em crise está preparada para um\",\n",
            "  \"pergunta\": \"Quem ganhou o premio de melhor ator?\"\n",
            "}\n",
            "\u001b[36;1m\u001b[1;3m[chain/end]\u001b[0m \u001b[1m[chain:RunnableSequence > prompt:PromptTemplate] [0ms] Exiting Prompt run with output:\n",
            "\u001b[0m[outputs]\n",
            "\u001b[32;1m\u001b[1;3m[llm/start]\u001b[0m \u001b[1m[chain:RunnableSequence > llm:HuggingFacePipeline] Entering LLM run with input:\n",
            "\u001b[0m{\n",
            "  \"prompts\": [\n",
            "    \"<|begin_of_text|>\\n<|start_header_id|>system<|end_header_id|>\\nVocê é um assistente virtual prestativo e está respondendo perguntas gerais.\\nUse os seguintes pedaços de contexto recuperado para responder à pergunta.\\nSe você não sabe a resposta, apenas diga que não sabe. Mantenha a resposta concisa.\\n<|eot_id|>\\n<|start_header_id|>user<|end_header_id|>\\nPergunta: Quem ganhou o premio de melhor ator?\\nContexto: (o prêmio) àqueles que defendem a paz em todos os lugares”, declarou o ator, destacando ainda que se sente “orgulhosamente irlandês”.Crédito, Getty ImagesLegenda da foto, Christopher Nolan ganhou o prêmio de melhor diretor por Oppenheimer, o grande vencedor da noiteCrédito, EPALegenda da foto, Da'Vine Joy Randolph recebeu o Oscar de melhor atriz coadjuvante por sua atuação em Os RejeitadosClaramente emocionada, Da'Vine Joy Randolph foi a primeira da noite a subir ao palco para receber uma estatueta, exclamando: “Deus é tão bom”, enquanto tentava segurar as lágrimas.Ela agradeceu à mãe por inspirá-la a tentar atuar, em vez de cantar.“Durante anos, pensei que queria ser diferente, mas percebi que precisava ser eu mesma”, disse.Lembrou ainda que era a única negra da sua turma — e agradeceu a todas as mulheres que a ajudaram e inspiraram ao longo de sua carreira.Crédito, Getty ImagesLegenda da foto, Robert Downey Jr. foi contemplado com o Oscar de melhor ator coadjuvante por interpretar\\n\\nmelhor filme, melhor diretor para Christopher Nolan, melhor ator para Cillian Murphy e melhor ator coadjuvante para Robert Downey Jr.Em uma cerimônia com poucas surpresas, na qual a maior parte das apostas da crítica e do público se concretizaram, Pobres Criaturas também conquistou vários prêmios.Uma das quatro estatuetas que o filme do grego Yorgos Lanthimos arrebatou foi graças a Emma Stone, que ganhou o prêmio de melhor atriz por interpretar a protagonista Bella Baxter.O Oscar de Da'Vine Joy Randolph como melhor atriz coadjuvante foi o único de Os Rejeitados; e o de Billie Eislish, que recebeu o prêmio de melhor canção original por What Was I Made For?, foi o único Oscar do grande sucesso de bilheteria do ano, Barbie.Pule Matérias recomendadas e continue lendoMatérias recomendadas25 filmes que vão chegar aos cinemas em 2025Fernanda Torres no Globo de Ouro 2025: confira outros filmes brasileiros premiados internacionalmenteOscar 2025: as previsões dos críticos da BBC para as\\n\\nrealizada a cerimônia para pedir um cessar-fogo definitivo em GazaEste não foi, no entanto, o único momento político do evento.“Serei certamente o primeiro neste palco a dizer que preferia não ter feito este filme”, declarou Mstyslav Cherno ao receber o Oscar de melhor documentário por 20 Dias em Mariupol.Ganhador do Pulitzer, Cherno foi um dos poucos jornalistas que cobriu de perto o cerco das tropas russas à cidade portuária ucraniana, e narrou isso em seu documentário.“Gostaria de poder trocar o Oscar por a Rússia nunca ter ocupado as nossas cidades”, afirmou.Crédito, GETTY IMAGESLegenda da foto, Mstyslav Cherno documentou de dentro o cerco à cidade ucraniana de MariupolOutro momento emocionante foi quando Sean Lennon, filho de John Lennon e Yoko Ono, aproveitou para parabenizar a mãe pelo Dia das Mães (celebrado três semanas antes da Páscoa no Reino Unido) ao receber o Oscar de melhor documentário de curta-metragem por War Is Over! Inspired by the Music of John & Yoko.Quem não\\n\\npelo Dia das Mães (celebrado três semanas antes da Páscoa no Reino Unido) ao receber o Oscar de melhor documentário de curta-metragem por War Is Over! Inspired by the Music of John & Yoko.Quem não subiu (novamente) ao palco para receber o prêmio foi Hayao Miyazaki. Aos 83 anos, a lenda viva do Studio Ghibli voltou a ganhar o Oscar de melhor filme de animação, que se soma agora à estatueta que ele conquistou em 2003 por A Viagem de Chihiro.Crédito, Getty ImagesLegenda da foto, Ao receber o Oscar de melhor curta-metragem de animação, Sean Lennon parabenizou Yoko Ono pelo Dia das MãesEssa não foi a noite dos latino-americanos e espanhóis.Ficaram sem Oscar: A Sociedade da Neve, longa dirigido pelo catalão Juan Antonio Bayona e estrelado, entre outros, pelo uruguaio Enzo Vogrincic e pelo argentino Matías Recalt; o filme de animação Meu Amigo Robô, do espanhol Pablo Berger, e o documentário A Memória Infinita, da diretora chilena Maite Alberdi.E até Martin Scorsese, cujo filme Assassinos da\\n\\nsinto profundamente honrada em compartilhar isso com cada uma das pessoas que colocaram seu amor e brilhantismo neste filme”, acrescentou, depois de reconhecer as indicações das demais indicadas, enquanto segurava o vestido nas costas.“Não olhem, acho que rasgou enquanto Ryan Gosling cantava I’m Just Ken”, disse ela, fazendo referência à aplaudida performance do ator durante a cerimônia.Crédito, Getty ImagesLegenda da foto, Cillian Murphy com a estatueta do Oscar por interpretar o 'pai' da bomba atômica em OppenheimerEm um gesto semelhante ao de Stone, Cillian Murphy reconheceu o trabalho de todos os indicados na categoria de melhor ator ao receber o Oscar por interpretar J. Robert Oppenheimer, o cientista-chefe do Projeto Manhattan.“Vivemos em um mundo criado por Oppenheimer. Quero dedicar (o prêmio) àqueles que defendem a paz em todos os lugares”, declarou o ator, destacando ainda que se sente “orgulhosamente irlandês”.Crédito, Getty ImagesLegenda da foto, Christopher Nolan ganhou o\\n\\nMatías Recalt; o filme de animação Meu Amigo Robô, do espanhol Pablo Berger, e o documentário A Memória Infinita, da diretora chilena Maite Alberdi.E até Martin Scorsese, cujo filme Assassinos da Lua das Flores havia recebido 10 indicações e era cotado como um dos favoritos, saiu de mãos abanando.Tópicos relacionadosCelebridade EntretenimentoCulturaCinemaOscarsHistórias relacionadas'Oppenheimer': Joseph Rotblat, o único cientista que abandonou o Projeto Manhattan por razões morais (e ganhou o Prêmio Nobel da Paz)10 março 2024'A Sociedade da Neve': a amizade entre protagonista e o homem que decidiu não embarcar no avião5 fevereiro 2024As irmãs que se juntaram ao Estado Islâmico e inspiraram documentário que concorre ao Oscar9 março 2024Principais notícias'Exército de likes' do Brasil pode influenciar chances de 'Ainda Estou Aqui' no Oscar? Há 3 horasTrump exige que Putin acabe com a 'ridícula' guerra na Ucrânia ou enfrente novas sançõesHá 6 horasEuropa em crise está preparada para um\\n<|eot_id|>\\n<|start_header_id|>assistant<|end_header_id|>\"\n",
            "  ]\n",
            "}\n",
            "\u001b[36;1m\u001b[1;3m[llm/end]\u001b[0m \u001b[1m[chain:RunnableSequence > llm:HuggingFacePipeline] [18.02s] Exiting LLM run with output:\n",
            "\u001b[0m{\n",
            "  \"generations\": [\n",
            "    [\n",
            "      {\n",
            "        \"text\": \"A pergunta é: Quem ganhou o prêmio de melhor ator?\\n\\nA resposta é: Não há menção específica sobre quem ganhou o prêmio de melhor ator nessa reportagem. No entanto, é mencionado que Cillian Murphy ganhou o Oscar de melhor ator por interpretar J. Robert Oppenheimer, o cientista-chefe do Projeto Manhattan.\",\n",
            "        \"generation_info\": null,\n",
            "        \"type\": \"Generation\"\n",
            "      }\n",
            "    ]\n",
            "  ],\n",
            "  \"llm_output\": null,\n",
            "  \"run\": null,\n",
            "  \"type\": \"LLMResult\"\n",
            "}\n",
            "\u001b[32;1m\u001b[1;3m[chain/start]\u001b[0m \u001b[1m[chain:RunnableSequence > parser:StrOutputParser] Entering Parser run with input:\n",
            "\u001b[0m{\n",
            "  \"input\": \"A pergunta é: Quem ganhou o prêmio de melhor ator?\\n\\nA resposta é: Não há menção específica sobre quem ganhou o prêmio de melhor ator nessa reportagem. No entanto, é mencionado que Cillian Murphy ganhou o Oscar de melhor ator por interpretar J. Robert Oppenheimer, o cientista-chefe do Projeto Manhattan.\"\n",
            "}\n",
            "\u001b[36;1m\u001b[1;3m[chain/end]\u001b[0m \u001b[1m[chain:RunnableSequence > parser:StrOutputParser] [1ms] Exiting Parser run with output:\n",
            "\u001b[0m{\n",
            "  \"output\": \"A pergunta é: Quem ganhou o prêmio de melhor ator?\\n\\nA resposta é: Não há menção específica sobre quem ganhou o prêmio de melhor ator nessa reportagem. No entanto, é mencionado que Cillian Murphy ganhou o Oscar de melhor ator por interpretar J. Robert Oppenheimer, o cientista-chefe do Projeto Manhattan.\"\n",
            "}\n",
            "\u001b[36;1m\u001b[1;3m[chain/end]\u001b[0m \u001b[1m[chain:RunnableSequence] [18.05s] Exiting Chain run with output:\n",
            "\u001b[0m{\n",
            "  \"output\": \"A pergunta é: Quem ganhou o prêmio de melhor ator?\\n\\nA resposta é: Não há menção específica sobre quem ganhou o prêmio de melhor ator nessa reportagem. No entanto, é mencionado que Cillian Murphy ganhou o Oscar de melhor ator por interpretar J. Robert Oppenheimer, o cientista-chefe do Projeto Manhattan.\"\n",
            "}\n"
          ]
        },
        {
          "output_type": "execute_result",
          "data": {
            "text/plain": [
              "'A pergunta é: Quem ganhou o prêmio de melhor ator?\\n\\nA resposta é: Não há menção específica sobre quem ganhou o prêmio de melhor ator nessa reportagem. No entanto, é mencionado que Cillian Murphy ganhou o Oscar de melhor ator por interpretar J. Robert Oppenheimer, o cientista-chefe do Projeto Manhattan.'"
            ],
            "application/vnd.google.colaboratory.intrinsic+json": {
              "type": "string"
            }
          },
          "metadata": {},
          "execution_count": 117
        }
      ]
    },
    {
      "cell_type": "code",
      "source": [
        "vectorstore.delete_collection()"
      ],
      "metadata": {
        "id": "80jrt96E6Efr"
      },
      "execution_count": null,
      "outputs": []
    }
  ]
}